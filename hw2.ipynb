{
  "cells": [
    {
      "cell_type": "markdown",
      "metadata": {
        "id": "S2IaITBP0f5R"
      },
      "source": [
        "# Homework 2\n",
        "In this homework, we will explore language generation using character-level RNNs. Sounds awesome, right???\n",
        "\n",
        "A few notes at the beginning:\n",
        "- It might be useful for you to read the whole assignment before beginning. Especially the last two sections so you know what to record for turning in.\n",
        "- Much of the required knowledge in this (and past) homeworks about Python, PyTorch, etc. are not explained fully here. Instead, we expect you to use the existing documentation, search engines, Stack Overflow, etc. for implementation details.\n",
        "- That being said, we have listed several functions in parts of the homework where knowing those functions exist would be especially useful. However you will still need to read the docs on how to specifically use the functions.\n",
        "\n",
        "# Part 0: Initial setup\n",
        "You should recognize this code from last time.\n"
      ]
    },
    {
      "cell_type": "code",
      "execution_count": 1,
      "metadata": {
        "colab": {
          "base_uri": "https://localhost:8080/"
        },
        "id": "4GS0yuGl0mHQ",
        "outputId": "9d3f0add-9315-4c86-c8f4-f9da2bff74c7"
      },
      "outputs": [
        {
          "output_type": "stream",
          "name": "stdout",
          "text": [
            "Version 1.12.1+cu113\n",
            "CUDA enabled: True\n"
          ]
        }
      ],
      "source": [
        "import torch\n",
        "print('Version', torch.__version__)\n",
        "print('CUDA enabled:', torch.cuda.is_available())\n",
        "  \n",
        "# Running this should then print out:\n",
        "# Version 1.7.0+cu101 (or something like this)\n",
        "# CUDA enabled: True"
      ]
    },
    {
      "cell_type": "code",
      "execution_count": null,
      "metadata": {
        "colab": {
          "base_uri": "https://localhost:8080/",
          "height": 345
        },
        "id": "6t3ZIEll0pr-",
        "outputId": "a6f8ea46-dbc8-433d-b6d7-253cc30b4c1f"
      },
      "outputs": [
        {
          "output_type": "error",
          "ename": "MessageError",
          "evalue": "ignored",
          "traceback": [
            "\u001b[0;31m---------------------------------------------------------------------------\u001b[0m",
            "\u001b[0;31mMessageError\u001b[0m                              Traceback (most recent call last)",
            "\u001b[0;32m<ipython-input-2-286dcffc6698>\u001b[0m in \u001b[0;36m<module>\u001b[0;34m\u001b[0m\n\u001b[1;32m      1\u001b[0m \u001b[0;32mfrom\u001b[0m \u001b[0mgoogle\u001b[0m\u001b[0;34m.\u001b[0m\u001b[0mcolab\u001b[0m \u001b[0;32mimport\u001b[0m \u001b[0mdrive\u001b[0m\u001b[0;34m\u001b[0m\u001b[0;34m\u001b[0m\u001b[0m\n\u001b[0;32m----> 2\u001b[0;31m \u001b[0mdrive\u001b[0m\u001b[0;34m.\u001b[0m\u001b[0mmount\u001b[0m\u001b[0;34m(\u001b[0m\u001b[0;34m'/gdrive'\u001b[0m\u001b[0;34m)\u001b[0m\u001b[0;34m\u001b[0m\u001b[0;34m\u001b[0m\u001b[0m\n\u001b[0m\u001b[1;32m      3\u001b[0m \u001b[0mget_ipython\u001b[0m\u001b[0;34m(\u001b[0m\u001b[0;34m)\u001b[0m\u001b[0;34m.\u001b[0m\u001b[0msystem\u001b[0m\u001b[0;34m(\u001b[0m\u001b[0;34m'ls /gdrive'\u001b[0m\u001b[0;34m)\u001b[0m\u001b[0;34m\u001b[0m\u001b[0;34m\u001b[0m\u001b[0m\n",
            "\u001b[0;32m/usr/local/lib/python3.7/dist-packages/google/colab/drive.py\u001b[0m in \u001b[0;36mmount\u001b[0;34m(mountpoint, force_remount, timeout_ms, readonly)\u001b[0m\n\u001b[1;32m    104\u001b[0m       \u001b[0mtimeout_ms\u001b[0m\u001b[0;34m=\u001b[0m\u001b[0mtimeout_ms\u001b[0m\u001b[0;34m,\u001b[0m\u001b[0;34m\u001b[0m\u001b[0;34m\u001b[0m\u001b[0m\n\u001b[1;32m    105\u001b[0m       \u001b[0mephemeral\u001b[0m\u001b[0;34m=\u001b[0m\u001b[0;32mTrue\u001b[0m\u001b[0;34m,\u001b[0m\u001b[0;34m\u001b[0m\u001b[0;34m\u001b[0m\u001b[0m\n\u001b[0;32m--> 106\u001b[0;31m       readonly=readonly)\n\u001b[0m\u001b[1;32m    107\u001b[0m \u001b[0;34m\u001b[0m\u001b[0m\n\u001b[1;32m    108\u001b[0m \u001b[0;34m\u001b[0m\u001b[0m\n",
            "\u001b[0;32m/usr/local/lib/python3.7/dist-packages/google/colab/drive.py\u001b[0m in \u001b[0;36m_mount\u001b[0;34m(mountpoint, force_remount, timeout_ms, ephemeral, readonly)\u001b[0m\n\u001b[1;32m    123\u001b[0m   \u001b[0;32mif\u001b[0m \u001b[0mephemeral\u001b[0m\u001b[0;34m:\u001b[0m\u001b[0;34m\u001b[0m\u001b[0;34m\u001b[0m\u001b[0m\n\u001b[1;32m    124\u001b[0m     _message.blocking_request(\n\u001b[0;32m--> 125\u001b[0;31m         'request_auth', request={'authType': 'dfs_ephemeral'}, timeout_sec=None)\n\u001b[0m\u001b[1;32m    126\u001b[0m \u001b[0;34m\u001b[0m\u001b[0m\n\u001b[1;32m    127\u001b[0m   \u001b[0mmountpoint\u001b[0m \u001b[0;34m=\u001b[0m \u001b[0m_os\u001b[0m\u001b[0;34m.\u001b[0m\u001b[0mpath\u001b[0m\u001b[0;34m.\u001b[0m\u001b[0mexpanduser\u001b[0m\u001b[0;34m(\u001b[0m\u001b[0mmountpoint\u001b[0m\u001b[0;34m)\u001b[0m\u001b[0;34m\u001b[0m\u001b[0;34m\u001b[0m\u001b[0m\n",
            "\u001b[0;32m/usr/local/lib/python3.7/dist-packages/google/colab/_message.py\u001b[0m in \u001b[0;36mblocking_request\u001b[0;34m(request_type, request, timeout_sec, parent)\u001b[0m\n\u001b[1;32m    169\u001b[0m   request_id = send_request(\n\u001b[1;32m    170\u001b[0m       request_type, request, parent=parent, expect_reply=True)\n\u001b[0;32m--> 171\u001b[0;31m   \u001b[0;32mreturn\u001b[0m \u001b[0mread_reply_from_input\u001b[0m\u001b[0;34m(\u001b[0m\u001b[0mrequest_id\u001b[0m\u001b[0;34m,\u001b[0m \u001b[0mtimeout_sec\u001b[0m\u001b[0;34m)\u001b[0m\u001b[0;34m\u001b[0m\u001b[0;34m\u001b[0m\u001b[0m\n\u001b[0m",
            "\u001b[0;32m/usr/local/lib/python3.7/dist-packages/google/colab/_message.py\u001b[0m in \u001b[0;36mread_reply_from_input\u001b[0;34m(message_id, timeout_sec)\u001b[0m\n\u001b[1;32m    100\u001b[0m         reply.get('colab_msg_id') == message_id):\n\u001b[1;32m    101\u001b[0m       \u001b[0;32mif\u001b[0m \u001b[0;34m'error'\u001b[0m \u001b[0;32min\u001b[0m \u001b[0mreply\u001b[0m\u001b[0;34m:\u001b[0m\u001b[0;34m\u001b[0m\u001b[0;34m\u001b[0m\u001b[0m\n\u001b[0;32m--> 102\u001b[0;31m         \u001b[0;32mraise\u001b[0m \u001b[0mMessageError\u001b[0m\u001b[0;34m(\u001b[0m\u001b[0mreply\u001b[0m\u001b[0;34m[\u001b[0m\u001b[0;34m'error'\u001b[0m\u001b[0;34m]\u001b[0m\u001b[0;34m)\u001b[0m\u001b[0;34m\u001b[0m\u001b[0;34m\u001b[0m\u001b[0m\n\u001b[0m\u001b[1;32m    103\u001b[0m       \u001b[0;32mreturn\u001b[0m \u001b[0mreply\u001b[0m\u001b[0;34m.\u001b[0m\u001b[0mget\u001b[0m\u001b[0;34m(\u001b[0m\u001b[0;34m'data'\u001b[0m\u001b[0;34m,\u001b[0m \u001b[0;32mNone\u001b[0m\u001b[0;34m)\u001b[0m\u001b[0;34m\u001b[0m\u001b[0;34m\u001b[0m\u001b[0m\n\u001b[1;32m    104\u001b[0m \u001b[0;34m\u001b[0m\u001b[0m\n",
            "\u001b[0;31mMessageError\u001b[0m: Error: credential propagation was unsuccessful"
          ]
        }
      ],
      "source": [
        "from google.colab import drive\n",
        "drive.mount('/gdrive')\n",
        "!ls /gdrive"
      ]
    },
    {
      "cell_type": "markdown",
      "metadata": {
        "id": "PEzPNAIY0vkm"
      },
      "source": [
        "# Part 1: Upload the dataset\n",
        "We will be using the complete text of Harry Potter as our corpus. We will provide it for you in a not-very-well-formatted way.\n",
        "Run this code to set up the homework3 files.\n",
        "\n"
      ]
    },
    {
      "cell_type": "code",
      "execution_count": 2,
      "metadata": {
        "colab": {
          "base_uri": "https://localhost:8080/"
        },
        "id": "CLVJPc_90vsB",
        "outputId": "054bc75a-1c73-4440-8031-479636221ae1"
      },
      "outputs": [
        {
          "output_type": "stream",
          "name": "stdout",
          "text": [
            "--2022-11-29 23:18:33--  https://courses.cs.washington.edu/courses/cse599g1/19au/files/homework3.tar.gz\n",
            "Resolving courses.cs.washington.edu (courses.cs.washington.edu)... 128.208.1.193, 2607:4000:200:10::c1\n",
            "Connecting to courses.cs.washington.edu (courses.cs.washington.edu)|128.208.1.193|:443... connected.\n",
            "HTTP request sent, awaiting response... 200 OK\n",
            "Length: 2324076 (2.2M) [application/x-gzip]\n",
            "Saving to: ‘homework3.tar.gz’\n",
            "\n",
            "homework3.tar.gz    100%[===================>]   2.22M  1.87MB/s    in 1.2s    \n",
            "\n",
            "2022-11-29 23:18:35 (1.87 MB/s) - ‘homework3.tar.gz’ saved [2324076/2324076]\n",
            "\n",
            "harry_potter.txt\n",
            "pt_util.py\n"
          ]
        }
      ],
      "source": [
        "import os\n",
        "BASE_PATH = '/gdrive/My Drive/colab_files/hw2/'\n",
        "if not os.path.exists(BASE_PATH):\n",
        "    os.makedirs(BASE_PATH)\n",
        "DATA_PATH = '/content/'\n",
        "\n",
        "if not os.path.exists(os.path.join(DATA_PATH, 'harry_potter.txt')):\n",
        "    os.chdir(BASE_PATH)\n",
        "    !wget https://courses.cs.washington.edu/courses/cse599g1/19au/files/homework3.tar.gz\n",
        "    !tar -zxvf homework3.tar.gz\n",
        "    !rm homework3.tar.gz\n",
        "    !cp pt_util.py /content\n",
        "    !cp harry_potter.txt /content\n",
        "os.chdir('/content')"
      ]
    },
    {
      "cell_type": "code",
      "execution_count": 3,
      "metadata": {
        "id": "hd1Qx66s19Pl"
      },
      "outputs": [],
      "source": [
        "import torch\n",
        "import torch.nn as nn\n",
        "from torchvision import datasets\n",
        "from torchvision import transforms\n",
        "import numpy as np\n",
        "import torch.nn.functional as F\n",
        "import torch.optim as optim\n",
        "import sys\n",
        "import pickle\n",
        "import re\n",
        "import pt_util"
      ]
    },
    {
      "cell_type": "markdown",
      "metadata": {
        "id": "AxIvm7h62tfx"
      },
      "source": [
        "#Part 2: Preprocessing the data\n",
        "In previous homeworks, we have provided a cleaned version of the data. But this time you'll have to do some of that cleaning yourselves.\n",
        "\n",
        "Hints:\n",
        "- train_text and test_text should contain the class indices for the character tokens from the data file. For example, if the text was **`\"ABA CDBE\"`**, the token version would be a numpy array with contents `[0, 1, 0, 2, 3, 4, 1, 5]`\n",
        "- The harry_potter.txt file has weird spacing. You might want to replace all the whitespace characters (space, \\n, \\t, etc.) in the file with the space character.\n",
        "- You should output two files. One for training and one for testing. The training should be the first 80% of the characters.\n",
        "- voc2ind is a map from character to the index of the class for that character. There is no predefined vocabulary, but you will need to be consistent across all tasks that use the vocabulary. For the example above, the voc2ind would be `{'A': 0, 'B': 1, ' ': 2, 'C': 3, 'D': 4, 'E': 5}`\n",
        "- ind2voc is the inverse of voc2ind\n",
        "\n"
      ]
    },
    {
      "cell_type": "code",
      "execution_count": 18,
      "metadata": {
        "id": "6oZq_S6k3GpB"
      },
      "outputs": [],
      "source": [
        "def prepare_data(data_path):\n",
        "    with open(data_path) as f:\n",
        "        # This reads all the data from the file, but does not do any processing on it.\n",
        "        data = f.read()\n",
        "\n",
        "    # TODO Add more preprocessing\n",
        "    data = re.sub(r'[\\r\\n\\t\\s]+',' ', data)\n",
        "    \n",
        "    voc2ind = {}\n",
        "    i = 0\n",
        "\n",
        "    # Compute voc2ind and transform the data into an integer representation of the tokens.\n",
        "    for char in data:\n",
        "        if char not in voc2ind:\n",
        "            voc2ind[char] = i\n",
        "            i += 1\n",
        "\n",
        "    train_size = int(len(data) * 0.8)\n",
        "\n",
        "    ind2voc = {val: key for key, val in voc2ind.items()}\n",
        "\n",
        "    train_text = data[:train_size]\n",
        "    test_text = data[train_size:]\n",
        "\n",
        "    pickle.dump({'tokens': train_text, 'ind2voc': ind2voc, 'voc2ind':voc2ind}, open(DATA_PATH + 'harry_potter_chars_train.pkl', 'wb'))\n",
        "    pickle.dump({'tokens': test_text, 'ind2voc': ind2voc, 'voc2ind':voc2ind}, open(DATA_PATH + 'harry_potter_chars_test.pkl', 'wb'))\n",
        "    \n",
        "prepare_data(DATA_PATH + 'harry_potter.txt')\n",
        "\n",
        "\n",
        "class Vocabulary(object):\n",
        "    def __init__(self, data_file):\n",
        "        with open(data_file, 'rb') as data_file:\n",
        "            dataset = pickle.load(data_file)\n",
        "        self.ind2voc = dataset['ind2voc']\n",
        "        self.voc2ind = dataset['voc2ind']\n",
        "\n",
        "    # Returns a string representation of the tokens.\n",
        "    def array_to_words(self, arr):\n",
        "        return ''.join([self.ind2voc[int(ind)] for ind in arr])\n",
        "\n",
        "    # Returns a torch tensor representing each token in words.\n",
        "    def words_to_array(self, words):\n",
        "        return torch.LongTensor([self.voc2ind[word] for word in words])\n",
        "\n",
        "    # Returns the size of the vocabulary.\n",
        "    def __len__(self):\n",
        "        return len(self.voc2ind)"
      ]
    },
    {
      "cell_type": "markdown",
      "metadata": {
        "id": "kzX1tUv8ilYV"
      },
      "source": [
        "#Part 3: Loading the data\n",
        "This is possibly the trickiest part of this homework. In the past, batches were not correlated with each other, and the data within a single minibatch was also not correlated, so you could basically draw randomly from the dataset. That is not the case here. Instead, you should return sequences from the dataset.\n",
        "\n",
        "Your instructions are to implement the following. First, imagine splitting the dataset into N chunks where N is the batch_size and the chunks are contiguous parts of the data. For each batch, you should return one sequence from each of the chunks. The batches should also be sequential an example is described below.\n",
        "\n",
        "The data is 20 characters long `[1, 2, 3, ...20]`. The batch size is `2` and the sequence length is `4`\n",
        "- The 1st batch should consist of  `(data =  [[1, 2, 3, 4]; [11, 12, 13, 14]], labels = [[2, 3, 4, 5]; [12, 13, 14, 15]])`\n",
        "- The 2nd batch should consist of `(data =  [[5, 6, 7, 8]; [15, 16, 17, 18]], labels = [[6, 7, 8, 9]; [16, 17, 18, 19]])`\n",
        "- The 3rd batch should consist of `(data =  [[9]; [19]], labels = [[10]; [20]])`\n",
        "- There is no 4th batch.\n",
        "\n",
        "Hints:\n",
        "- To work with the rest of the code, your len(dataset) should be a multiple of the batch_size. \n",
        "- Removing the last bit to make the data the proper shape will probably give better results than padding with 0s.\n",
        "- It is OK to have one batch be shorter than the others as long as all entries in that batch are the same length.\n",
        "- Notice that the last label in one batch is the first data in the next batch. Be careful of off-by-one errors.\n",
        "\n"
      ]
    },
    {
      "cell_type": "code",
      "execution_count": 19,
      "metadata": {
        "id": "44v6o0JwiwXk"
      },
      "outputs": [],
      "source": [
        "class HarryPotterDataset(torch.utils.data.Dataset):\n",
        "    def __init__(self, data_file, sequence_length, batch_size):\n",
        "        super(HarryPotterDataset, self).__init__()\n",
        "\n",
        "        self.sequence_length = sequence_length\n",
        "        self.batch_size = batch_size\n",
        "        self.vocab = Vocabulary(data_file)\n",
        "\n",
        "        with open(data_file, 'rb') as data_pkl:\n",
        "            dataset = pickle.load(data_pkl)\n",
        "\n",
        "        # TODO: Any preprocessing on the data to get it to the right shape.\n",
        "        tokens = dataset['tokens']\n",
        "        voc2ind = dataset['voc2ind']\n",
        "\n",
        "        n = len(tokens) - (len(tokens) % batch_size)\n",
        "        self.data = torch.LongTensor([voc2ind[tokens[i]] for i in range(n)]).view(batch_size, -1)\n",
        "        self.len = self.data.shape[0] * int(np.ceil((self.data.shape[1] - 1) / self.sequence_length))\n",
        "\n",
        "\n",
        "    def __len__(self):\n",
        "        # TODO return the number of unique sequences you have, not the number of characters.\n",
        "         return self.len\n",
        "        \n",
        "    def __getitem__(self, idx):\n",
        "        # Return the data and label for a character sequence as described above.\n",
        "        # The data and labels should be torch long tensors.\n",
        "        # You should return a single entry for the batch using the idx to decide which chunk you are \n",
        "        # in and how far down in the chunk you are.\n",
        "        \n",
        "        # TODO\n",
        "        batch_idx = idx % self.batch_size\n",
        "        seq_idx = idx // self.batch_size\n",
        "\n",
        "        seq_start_idx = seq_idx * self.sequence_length\n",
        "        seq_end_idx = min(seq_start_idx + self.sequence_length + 1, self.data.shape[1])\n",
        "\n",
        "        data = self.data[batch_idx][seq_start_idx:seq_end_idx]\n",
        "        return data[:-1], data[1:]\n",
        "\n",
        "    def vocab_size(self):\n",
        "        return len(self.vocab)"
      ]
    },
    {
      "cell_type": "markdown",
      "metadata": {
        "id": "8kYKDZoj2jCV"
      },
      "source": [
        "# Part 4: Defining the Network\n",
        "This time we will provide a network that should already get pretty good performance. You will still need to write the forward pass and inference functions. You may also choose to modify the network to try and get better performance.\n",
        "\n",
        "__BE CAREFUL:__ We have specified that the data will be fed in as batch_first. Look at the documentation if you are confused about the implications of this as well as how to call it for the forward pass. https://pytorch.org/docs/stable/nn.html#torch.nn.GRU\n",
        "    \n"
      ]
    },
    {
      "cell_type": "code",
      "execution_count": 6,
      "metadata": {
        "id": "mO21UXLj2ixn"
      },
      "outputs": [],
      "source": [
        "TEMPERATURE = 0.5\n",
        "\n",
        "class HarryPotterNet(nn.Module):\n",
        "    def __init__(self, vocab_size, feature_size):\n",
        "        super(HarryPotterNet, self).__init__()\n",
        "        self.vocab_size = vocab_size\n",
        "        self.feature_size = feature_size\n",
        "        self.encoder = nn.Embedding(self.vocab_size, self.feature_size)\n",
        "        self.gru = nn.GRU(self.feature_size, self.feature_size, batch_first=True)\n",
        "        self.decoder = nn.Linear(self.feature_size, self.vocab_size)\n",
        "        \n",
        "        # This shares the encoder and decoder weights as described in lecture.\n",
        "        self.decoder.weight = self.encoder.weight\n",
        "        self.decoder.bias.data.zero_()\n",
        "        \n",
        "        self.best_accuracy = -1\n",
        "    \n",
        "    def forward(self, x, hidden_state=None):\n",
        "        batch_size = x.shape[0]\n",
        "        sequence_length = x.shape[1]\n",
        "        \n",
        "        # TODO finish defining the forward pass.\n",
        "        # You should return the output from the decoder as well as the hidden state given by the gru.\n",
        "        x = self.encoder(x)\n",
        "        x, hidden_state = self.gru(x, hidden_state)\n",
        "        x = self.decoder(x)\n",
        "\n",
        "        return x, hidden_state\n",
        "\n",
        "    # This defines the function that gives a probability distribution and implements the temperature computation.\n",
        "    def inference(self, x, hidden_state=None, temperature=1):\n",
        "        x = x.view(-1, 1)\n",
        "        x, hidden_state = self.forward(x, hidden_state)\n",
        "        x = x.view(1, -1)\n",
        "        x = x / max(temperature, 1e-20)\n",
        "        x = F.softmax(x, dim=1)\n",
        "        return x, hidden_state\n",
        "\n",
        "    # Predefined loss function\n",
        "    def loss(self, prediction, label, reduction='mean'):\n",
        "        loss_val = F.cross_entropy(prediction.view(-1, self.vocab_size), label.view(-1), reduction=reduction)\n",
        "        return loss_val\n",
        "\n",
        "    # Saves the current model\n",
        "    def save_model(self, file_path, num_to_keep=1):\n",
        "        pt_util.save(self, file_path, num_to_keep)\n",
        "\n",
        "    # Saves the best model so far\n",
        "    def save_best_model(self, accuracy, file_path, num_to_keep=1):\n",
        "        if accuracy > self.best_accuracy:\n",
        "            self.save_model(file_path, num_to_keep)\n",
        "            self.best_accuracy = accuracy\n",
        "\n",
        "    def load_model(self, file_path):\n",
        "        pt_util.restore(self, file_path)\n",
        "\n",
        "    def load_last_model(self, dir_path):\n",
        "        return pt_util.restore_latest(self, dir_path)"
      ]
    },
    {
      "cell_type": "markdown",
      "metadata": {
        "id": "iEQZIoB0jY5h"
      },
      "source": [
        "#Part 5: Character Generation\n",
        "\n",
        "In class we discussed three algorithms for creating sequences.\n",
        "1. Max: Choose the most likely value\n",
        "2. Sample: Sample from the distribution output by the network.\n",
        "3. Beam Search: Sample from the distribution and use the Beam Search algorithm.\n",
        "\n",
        "The beam search algorithm is as follows:\n",
        "```\n",
        "1. Initialize the beam list with the single existing empty beam\n",
        "2. Repeat for the sequence length:\n",
        "    1. For each beam in the beam list:\n",
        "        1. Compute the next distribution over the output space for that state\n",
        "        2. Sample from the distribution with replacement\n",
        "        3. For each sample:\n",
        "            1. Compute its score\n",
        "            2. Record its hidden state and chosen value\n",
        "        4. Add all the samples to the new beam list      \n",
        "     2. Rank the new beam list\n",
        "     3. Throw out all but the top N beams\n",
        " 3. Return the top beam's chosen values.\n",
        "```\n",
        "\n",
        "\n",
        "Hints:\n",
        "- np.random.choice and torch.multinomial will both help with the sampling as they can take in a weighted probability distribution and sample from that distribution.\n",
        "- For beam search you will need to keep a running score of the likelihood of each sequence. If you multiply the likelihoods, you will encounter float underflow. Instead, you should add the log likelihoods.\n",
        "- For beam search, you will need to keep track of multiple hidden states related to which branch you are currently expanding.\n",
        "- For beam search, you should search over the beam, but only return the top result in the end.\n",
        "- It may be useful to do the training part before the character generation part so you have some model to test.\n",
        "- Feel free to play around with the `BEAM_WIDTH`.\n"
      ]
    },
    {
      "cell_type": "code",
      "execution_count": 7,
      "metadata": {
        "id": "9XTxy4eq3UYR"
      },
      "outputs": [],
      "source": [
        "TEMPERATURE = 0.5\n",
        "BEAM_WIDTH = 10\n",
        "\n",
        "def max_sampling_strategy(sequence_length, model, output, hidden, vocab):\n",
        "    outputs = []\n",
        "    for ii in range(sequence_length):\n",
        "        # TODO\n",
        "        sample = output[0].argmax().long()\n",
        "        outputs.append(sample)\n",
        "        output, hidden = model.inference(sample, hidden, TEMPERATURE)\n",
        "    return outputs\n",
        "    \n",
        "def sample_sampling_strategy(sequence_length, model, output, hidden, vocab):\n",
        "    outputs = []\n",
        "    for ii in range(sequence_length):\n",
        "        # TODO\n",
        "        sample = torch.multinomial(output[0], 1)[0].long()\n",
        "        outputs.append(sample)\n",
        "        output, hidden = model.inference(sample, hidden, TEMPERATURE)\n",
        "    return outputs\n",
        "\n",
        "def beam_sampling_strategy(sequence_length, beam_width, model, output, hidden, vocab):\n",
        "    outputs = []\n",
        "    beam = [([], output, hidden, 0)]\n",
        "    # TODO\n",
        "    for ii in range(sequence_length):\n",
        "        new_beams = []\n",
        "        for curr_beam in beam:\n",
        "            for sample in torch.multinomial(curr_beam[1][0], beam_width, replacement=True):\n",
        "                sample = sample.long()\n",
        "                score = curr_beam[3] + torch.log(curr_beam[1][0][sample])\n",
        "                output, hidden = model.inference(sample, curr_beam[2], TEMPERATURE)\n",
        "                new_beams.append((curr_beam[0] + [sample], output, hidden, score))\n",
        "        new_beams.sort(key = lambda b: b[3], reverse=True)\n",
        "        beam = new_beams[:beam_width]\n",
        "    outputs = beam[0][0]\n",
        "    return outputs\n",
        "\n",
        "\n",
        "def generate_language(model, device, seed_words, sequence_length, vocab, sampling_strategy='max', beam_width=BEAM_WIDTH):\n",
        "    model.eval()\n",
        "\n",
        "    with torch.no_grad():\n",
        "        seed_words_arr = vocab.words_to_array(seed_words)\n",
        "\n",
        "        # Computes the initial hidden state from the prompt (seed words).\n",
        "        hidden = None\n",
        "        for ind in seed_words_arr:\n",
        "            data = ind.to(device)\n",
        "            output, hidden = model.inference(data, hidden)\n",
        "        \n",
        "        if sampling_strategy == 'max':\n",
        "            outputs = max_sampling_strategy(sequence_length, model, output, hidden, vocab)\n",
        "\n",
        "        elif sampling_strategy == 'sample':\n",
        "            outputs = sample_sampling_strategy(sequence_length, model, output, hidden, vocab)\n",
        "\n",
        "        elif sampling_strategy == 'beam':\n",
        "            outputs = beam_sampling_strategy(sequence_length, beam_width, model, output, hidden, vocab)\n",
        "\n",
        "\n",
        "        return vocab.array_to_words(seed_words_arr.tolist() + outputs)"
      ]
    },
    {
      "cell_type": "markdown",
      "metadata": {
        "id": "Havsk_RJi_i5"
      },
      "source": [
        "# Part 6: Training\n",
        "Again, we are providing training code for you. Have a look at the train function though as it implements the exact forward approximate backward computation, which may be of interest to you. You will still need to add the perplexity computation (read more in part 9 about how to do this)."
      ]
    },
    {
      "cell_type": "code",
      "execution_count": 8,
      "metadata": {
        "id": "L0Wq8hRy0UEX"
      },
      "outputs": [],
      "source": [
        "import tqdm\n",
        "def repackage_hidden(h):\n",
        "    \"\"\"Wraps hidden states in new Tensors, to detach them from their history.\"\"\"\n",
        "    if isinstance(h, torch.Tensor):\n",
        "        return h.detach()\n",
        "    else:\n",
        "        return tuple(repackage_hidden(v) for v in h)\n",
        "\n",
        "def train(model, device, optimizer, train_loader, lr, epoch, log_interval):\n",
        "    model.train()\n",
        "    losses = []\n",
        "    hidden = None\n",
        "    for batch_idx, (data, label) in enumerate(tqdm.tqdm(train_loader)):\n",
        "        data, label = data.to(device), label.to(device)\n",
        "        # Separates the hidden state across batches. \n",
        "        # Otherwise the backward would try to go all the way to the beginning every time.\n",
        "        if hidden is not None:\n",
        "            hidden = repackage_hidden(hidden)\n",
        "        optimizer.zero_grad()\n",
        "        output, hidden = model(data)\n",
        "        pred = output.max(-1)[1]\n",
        "        loss = model.loss(output, label)\n",
        "        losses.append(loss.item())\n",
        "        loss.backward()\n",
        "        optimizer.step()\n",
        "        if batch_idx % log_interval == 0:\n",
        "            print('Train Epoch: {} [{}/{} ({:.0f}%)]\\tLoss: {:.6f}'.format(\n",
        "                epoch, batch_idx * len(data), len(train_loader.dataset),\n",
        "                100. * batch_idx / len(train_loader), loss.item()))\n",
        "    return np.mean(losses)\n",
        "\n",
        "\n",
        "def test(model, device, test_loader):\n",
        "    model.eval()\n",
        "    test_loss = 0\n",
        "    correct = 0\n",
        "\n",
        "    with torch.no_grad():\n",
        "        hidden = None\n",
        "        for batch_idx, (data, label) in enumerate(test_loader):\n",
        "            data, label = data.to(device), label.to(device)\n",
        "            output, hidden = model(data, hidden)\n",
        "            test_loss += model.loss(output, label, reduction='mean').item()\n",
        "            pred = output.max(-1)[1]\n",
        "            correct_mask = pred.eq(label.view_as(pred))\n",
        "            num_correct = correct_mask.sum().item()\n",
        "            correct += num_correct\n",
        "            # Comment this out to avoid printing test results\n",
        "            if batch_idx % 10 == 0:\n",
        "                print('Input\\t%s\\nGT\\t%s\\npred\\t%s\\n\\n' % (\n",
        "                    test_loader.dataset.vocab.array_to_words(data[0]),\n",
        "                    test_loader.dataset.vocab.array_to_words(label[0]),\n",
        "                    test_loader.dataset.vocab.array_to_words(pred[0])))\n",
        "\n",
        "    test_loss /= len(test_loader)\n",
        "    test_accuracy = 100. * correct / (len(test_loader.dataset) * test_loader.dataset.sequence_length)\n",
        "\n",
        "    print('\\nTest set: Average loss: {:.4f}, Accuracy: {}/{} ({:.0f}%)\\n'.format(\n",
        "        test_loss, correct, len(test_loader.dataset) * test_loader.dataset.sequence_length,\n",
        "        100. * correct / (len(test_loader.dataset) * test_loader.dataset.sequence_length)))\n",
        "    return test_loss, test_accuracy"
      ]
    },
    {
      "cell_type": "code",
      "execution_count": null,
      "metadata": {
        "colab": {
          "base_uri": "https://localhost:8080/",
          "height": 1000
        },
        "id": "66T-Ylkg0fn1",
        "outputId": "d11d7017-91c2-4ab9-ccb4-be17c68663db"
      },
      "outputs": [
        {
          "output_type": "stream",
          "name": "stdout",
          "text": [
            "Using device cuda\n",
            "num workers: 2\n",
            "Restoring:\n",
            "encoder.weight -> \ttorch.Size([89, 512]) = 0MB\n",
            "gru.weight_ih_l0 -> \ttorch.Size([1536, 512]) = 3MB\n",
            "gru.weight_hh_l0 -> \ttorch.Size([1536, 512]) = 3MB\n",
            "gru.bias_ih_l0 -> \ttorch.Size([1536]) = 0MB\n",
            "gru.bias_hh_l0 -> \ttorch.Size([1536]) = 0MB\n",
            "decoder.weight -> \ttorch.Size([89, 512]) = 0MB\n",
            "decoder.bias -> \ttorch.Size([89]) = 0MB\n",
            "\n",
            "Restored all variables\n",
            "No new variables\n",
            "Restored /content/logs/0.1/015.pt\n",
            "Input\t great sigh and leaned against the cavern wall. \"I am weak...\" he said. \"Don't worry, sir,\" said Har\n",
            "GT\tgreat sigh and leaned against the cavern wall. \"I am weak...\" he said. \"Don't worry, sir,\" said Harr\n",
            "pred\ttoeet sulntand soavid atainst the care  oaasl  \"I wm serri\".  \"e said  \"Wun't larry  tor,\" said Harr\n",
            "\n",
            "\n",
            "Input\tossed the outer cave, and Harry helped Dumbledore back into the icy seawater that filled the crevice\n",
            "GT\tssed the outer cave, and Harry helped Dumbledore back into the icy seawater that filled the crevice \n",
            "pred\twsed the ctt r ahre  and sarry saaded humbledore seck tnto the cne otat.rer ahat horled ahe caoaeoa \n",
            "\n",
            "\n",
            "Input\tvering and dripping in the middle of the dark High Street in Hogsmeade. For one horrible moment Harr\n",
            "GT\tering and dripping in the middle of the dark High Street in Hogsmeade. For one horrible moment Harry\n",
            "pred\tiring atd saenpeng hn the caddle of the cark aaghtanuaet an tagwmeade  \"ir aue oawrible aorent aarry\n",
            "\n",
            "\n",
            "Input\thelp, but there was nobody to be seen and all he could think was that he must somehow get Dumbledore\n",
            "GT\telp, but there was nobody to be seen and all he could think was that he must somehow get Dumbledore \n",
            "pred\tirp  hut hhe e was aotody ao se auen tnd s l terwould haenk hhs ahet te wist he e ow tot oumbledore \n",
            "\n",
            "\n",
            "Input\to - but what's wrong with Albus?' She came to a halt, panting, and stared down, wide-eyed, at Dumble\n",
            "GT\t - but what's wrong with Albus?' She came to a halt, panting, and stared down, wide-eyed, at Dumbled\n",
            "pred\t s-aet that s thing tith anlus \" sne wane oo tssalf  tatiing  and taartd aown  ahte eded  wn tumbled\n",
            "\n",
            "\n",
            "\n",
            "Test set: Average loss: 1.3443, Accuracy: 747404/1254400 (60%)\n",
            "\n"
          ]
        },
        {
          "output_type": "stream",
          "name": "stderr",
          "text": [
            "  1%|          | 1/195 [00:00<00:27,  7.10it/s]"
          ]
        },
        {
          "output_type": "stream",
          "name": "stdout",
          "text": [
            "Train Epoch: 15 [0/49920 (0%)]\tLoss: 1.340763\n"
          ]
        },
        {
          "output_type": "stream",
          "name": "stderr",
          "text": [
            "  7%|▋         | 13/195 [00:01<00:15, 11.96it/s]"
          ]
        },
        {
          "output_type": "stream",
          "name": "stdout",
          "text": [
            "Train Epoch: 15 [2560/49920 (5%)]\tLoss: 1.370222\n"
          ]
        },
        {
          "output_type": "stream",
          "name": "stderr",
          "text": [
            " 12%|█▏        | 23/195 [00:01<00:14, 12.16it/s]"
          ]
        },
        {
          "output_type": "stream",
          "name": "stdout",
          "text": [
            "Train Epoch: 15 [5120/49920 (10%)]\tLoss: 1.334352\n"
          ]
        },
        {
          "output_type": "stream",
          "name": "stderr",
          "text": [
            " 17%|█▋        | 33/195 [00:02<00:13, 12.29it/s]"
          ]
        },
        {
          "output_type": "stream",
          "name": "stdout",
          "text": [
            "Train Epoch: 15 [7680/49920 (15%)]\tLoss: 1.330112\n"
          ]
        },
        {
          "output_type": "stream",
          "name": "stderr",
          "text": [
            " 22%|██▏       | 43/195 [00:03<00:12, 12.15it/s]"
          ]
        },
        {
          "output_type": "stream",
          "name": "stdout",
          "text": [
            "Train Epoch: 15 [10240/49920 (21%)]\tLoss: 1.311557\n"
          ]
        },
        {
          "output_type": "stream",
          "name": "stderr",
          "text": [
            " 27%|██▋       | 53/195 [00:04<00:11, 12.15it/s]"
          ]
        },
        {
          "output_type": "stream",
          "name": "stdout",
          "text": [
            "Train Epoch: 15 [12800/49920 (26%)]\tLoss: 1.301026\n"
          ]
        },
        {
          "output_type": "stream",
          "name": "stderr",
          "text": [
            " 32%|███▏      | 63/195 [00:05<00:10, 12.34it/s]"
          ]
        },
        {
          "output_type": "stream",
          "name": "stdout",
          "text": [
            "Train Epoch: 15 [15360/49920 (31%)]\tLoss: 1.315676\n"
          ]
        },
        {
          "output_type": "stream",
          "name": "stderr",
          "text": [
            " 37%|███▋      | 73/195 [00:06<00:10, 12.08it/s]"
          ]
        },
        {
          "output_type": "stream",
          "name": "stdout",
          "text": [
            "Train Epoch: 15 [17920/49920 (36%)]\tLoss: 1.310548\n"
          ]
        },
        {
          "output_type": "stream",
          "name": "stderr",
          "text": [
            " 43%|████▎     | 83/195 [00:06<00:09, 12.03it/s]"
          ]
        },
        {
          "output_type": "stream",
          "name": "stdout",
          "text": [
            "Train Epoch: 15 [20480/49920 (41%)]\tLoss: 1.301338\n"
          ]
        },
        {
          "output_type": "stream",
          "name": "stderr",
          "text": [
            " 48%|████▊     | 93/195 [00:07<00:08, 12.17it/s]"
          ]
        },
        {
          "output_type": "stream",
          "name": "stdout",
          "text": [
            "Train Epoch: 15 [23040/49920 (46%)]\tLoss: 1.306890\n"
          ]
        },
        {
          "output_type": "stream",
          "name": "stderr",
          "text": [
            " 53%|█████▎    | 103/195 [00:08<00:07, 12.33it/s]"
          ]
        },
        {
          "output_type": "stream",
          "name": "stdout",
          "text": [
            "Train Epoch: 15 [25600/49920 (51%)]\tLoss: 1.310775\n"
          ]
        },
        {
          "output_type": "stream",
          "name": "stderr",
          "text": [
            " 58%|█████▊    | 113/195 [00:09<00:06, 12.04it/s]"
          ]
        },
        {
          "output_type": "stream",
          "name": "stdout",
          "text": [
            "Train Epoch: 15 [28160/49920 (56%)]\tLoss: 1.298970\n"
          ]
        },
        {
          "output_type": "stream",
          "name": "stderr",
          "text": [
            " 63%|██████▎   | 123/195 [00:10<00:06, 11.98it/s]"
          ]
        },
        {
          "output_type": "stream",
          "name": "stdout",
          "text": [
            "Train Epoch: 15 [30720/49920 (62%)]\tLoss: 1.311409\n"
          ]
        },
        {
          "output_type": "stream",
          "name": "stderr",
          "text": [
            " 68%|██████▊   | 133/195 [00:10<00:05, 12.03it/s]"
          ]
        },
        {
          "output_type": "stream",
          "name": "stdout",
          "text": [
            "Train Epoch: 15 [33280/49920 (67%)]\tLoss: 1.323468\n"
          ]
        },
        {
          "output_type": "stream",
          "name": "stderr",
          "text": [
            " 73%|███████▎  | 143/195 [00:11<00:04, 11.92it/s]"
          ]
        },
        {
          "output_type": "stream",
          "name": "stdout",
          "text": [
            "Train Epoch: 15 [35840/49920 (72%)]\tLoss: 1.324275\n"
          ]
        },
        {
          "output_type": "stream",
          "name": "stderr",
          "text": [
            " 78%|███████▊  | 153/195 [00:12<00:03, 11.80it/s]"
          ]
        },
        {
          "output_type": "stream",
          "name": "stdout",
          "text": [
            "Train Epoch: 15 [38400/49920 (77%)]\tLoss: 1.315289\n"
          ]
        },
        {
          "output_type": "stream",
          "name": "stderr",
          "text": [
            " 84%|████████▎ | 163/195 [00:13<00:02, 11.92it/s]"
          ]
        },
        {
          "output_type": "stream",
          "name": "stdout",
          "text": [
            "Train Epoch: 15 [40960/49920 (82%)]\tLoss: 1.297393\n"
          ]
        },
        {
          "output_type": "stream",
          "name": "stderr",
          "text": [
            " 89%|████████▊ | 173/195 [00:14<00:01, 11.87it/s]"
          ]
        },
        {
          "output_type": "stream",
          "name": "stdout",
          "text": [
            "Train Epoch: 15 [43520/49920 (87%)]\tLoss: 1.293937\n"
          ]
        },
        {
          "output_type": "stream",
          "name": "stderr",
          "text": [
            " 94%|█████████▍| 183/195 [00:15<00:01, 11.76it/s]"
          ]
        },
        {
          "output_type": "stream",
          "name": "stdout",
          "text": [
            "Train Epoch: 15 [46080/49920 (92%)]\tLoss: 1.293340\n"
          ]
        },
        {
          "output_type": "stream",
          "name": "stderr",
          "text": [
            " 99%|█████████▉| 193/195 [00:16<00:00, 11.79it/s]"
          ]
        },
        {
          "output_type": "stream",
          "name": "stdout",
          "text": [
            "Train Epoch: 15 [48640/49920 (97%)]\tLoss: 1.316613\n"
          ]
        },
        {
          "output_type": "stream",
          "name": "stderr",
          "text": [
            "100%|██████████| 195/195 [00:16<00:00, 12.01it/s]\n"
          ]
        },
        {
          "output_type": "stream",
          "name": "stdout",
          "text": [
            "Input\t great sigh and leaned against the cavern wall. \"I am weak...\" he said. \"Don't worry, sir,\" said Har\n",
            "GT\tgreat sigh and leaned against the cavern wall. \"I am weak...\" he said. \"Don't worry, sir,\" said Harr\n",
            "pred\ttooet stlntand soavid atainst the sore aatisl  \"I dm serri\".  \"e said  \"Iun't yarry  Ior,\" said Harr\n",
            "\n",
            "\n",
            "Input\tossed the outer cave, and Harry helped Dumbledore back into the icy seawater that filled the crevice\n",
            "GT\tssed the outer cave, and Harry helped Dumbledore back into the icy seawater that filled the crevice \n",
            "pred\tssed the ctt r ahre  and tarry saaded humbledore aeck tnto the cne otatsrer ahet horled the cooaeoa \n",
            "\n",
            "\n",
            "Input\tvering and dripping in the middle of the dark High Street in Hogsmeade. For one horrible moment Harr\n",
            "GT\tering and dripping in the middle of the dark High Street in Hogsmeade. For one horrible moment Harry\n",
            "pred\tering atd sienpeng hn the caddle of the cork aashtanuaet on tagwmeade  \"ir ane oewrible aorent tarry\n",
            "\n",
            "\n",
            "Input\thelp, but there was nobody to be seen and all he could think was that he must somehow get Dumbledore\n",
            "GT\telp, but there was nobody to be seen and all he could think was that he must somehow get Dumbledore \n",
            "pred\tirp  hut the e was aotody wo te aoen tnd s l tirwould haenk ths ahet te wist he e ow tot oumbledore \n",
            "\n",
            "\n",
            "Input\to - but what's wrong with Albus?' She came to a halt, panting, and stared down, wide-eyed, at Dumble\n",
            "GT\t - but what's wrong with Albus?' She came to a halt, panting, and stared down, wide-eyed, at Dumbled\n",
            "pred\t d-wut that s thong tith tnlus \" sne wane to tssolf  tatting  tnd ttartd aown  thte \"ded  wn tumbled\n",
            "\n",
            "\n",
            "\n",
            "Test set: Average loss: 1.3295, Accuracy: 754408/1254400 (60%)\n",
            "\n",
            "Saved /content/logs/0.1/015.pt\n",
            "\n",
            "generated max\t\t Harry Potter, Voldemort, and Dumbledore walk into a bar. \"I think you will be a lot of the catch of the castle and the start of the castle and the start of the castle and the start of the castle and the started to the common room with the stairs and started\n",
            "generated sample\t Harry Potter, Voldemort, and Dumbledore walk into a bar. But Harry had the marks of second did the parchet me, and whispered Professor McGonagall looked as though he was all the fact between the walls. \"He had made the portrait of his wand and leave them an\n",
            "generated sample\t Harry Potter, Voldemort, and Dumbledore walk into a bar. I would have been come to come and in the corridor, who would be a good laughter and wizarding a thing. It was a so that they said it was all over the say something even the shoulder and which he had \n",
            "generated sample\t Harry Potter, Voldemort, and Dumbledore walk into a bar. But which was a little with his notest in the window, which was standing in his head followed around a little staking through the chair of his head side of his face and head and the forest of the back\n",
            "generated sample\t Harry Potter, Voldemort, and Dumbledore walk into a bar. \"She was a fact to the front of the portrait of the top of the grounds, and was only in the potions in the fire to the only my day in the explaining and chair of sign to the castle and straighten the \n",
            "generated sample\t Harry Potter, Voldemort, and Dumbledore walk into a bar. For of the end of the clearer and first feeling the spell silver of the water and the other and flushed and started to with the other to the practice of silent and as he could see him a so that it was\n",
            "generated sample\t Harry Potter, Voldemort, and Dumbledore walk into a bar. You have much all the only to me all the portrait of the castle and the sound of the last them a stread from a milar, glace of the said, so that he had learned when he was a talking to the portrait of\n",
            "generated sample\t Harry Potter, Voldemort, and Dumbledore walk into a bar. You didn't say his chair by the side of the very of the Durger of Magic was still like the pitch of the premention had just seen in the spotted started to the back. \"It's just this time,\" said Hermion\n",
            "generated sample\t Harry Potter, Voldemort, and Dumbledore walk into a bar. for a must been to red on the card. \"Moody was leaving the year,\" said Hermione and the castle of Harry and straightened to the expression of the books in the stairs and raised his class and she sharp\n",
            "generated sample\t Harry Potter, Voldemort, and Dumbledore walk into a bar. En a mouth fire of the table and flamed in the door and he had a note of his shoulder and said. \"We thought you won't see you at don't students and see it in the castle, and a mord stuff at the train \n",
            "generated sample\t Harry Potter, Voldemort, and Dumbledore walk into a bar. He stupped out of the marble to him. \"Now, you will see what he had to go to the castle and so like this time he was preaching the black case of the grounds because the portrait hole and the man wall \n",
            "generated beam\t\t Harry Potter, Voldemort, and Dumbledore walk into a bar. \"I think you will be a lot of the catch of the castle and the start of the castle and the start of the castle and the start of the castle and the started to the common room with the stairs and started\n",
            "\n"
          ]
        },
        {
          "output_type": "stream",
          "name": "stderr",
          "text": [
            "  1%|          | 2/195 [00:00<00:29,  6.50it/s]"
          ]
        },
        {
          "output_type": "stream",
          "name": "stdout",
          "text": [
            "Train Epoch: 16 [0/49920 (0%)]\tLoss: 1.323457\n"
          ]
        },
        {
          "output_type": "stream",
          "name": "stderr",
          "text": [
            "  6%|▌         | 12/195 [00:01<00:15, 11.81it/s]"
          ]
        },
        {
          "output_type": "stream",
          "name": "stdout",
          "text": [
            "Train Epoch: 16 [2560/49920 (5%)]\tLoss: 1.319663\n"
          ]
        },
        {
          "output_type": "stream",
          "name": "stderr",
          "text": [
            " 11%|█▏        | 22/195 [00:01<00:14, 12.04it/s]"
          ]
        },
        {
          "output_type": "stream",
          "name": "stdout",
          "text": [
            "Train Epoch: 16 [5120/49920 (10%)]\tLoss: 1.316912\n"
          ]
        },
        {
          "output_type": "stream",
          "name": "stderr",
          "text": [
            " 16%|█▋        | 32/195 [00:02<00:13, 11.84it/s]"
          ]
        },
        {
          "output_type": "stream",
          "name": "stdout",
          "text": [
            "Train Epoch: 16 [7680/49920 (15%)]\tLoss: 1.325581\n"
          ]
        },
        {
          "output_type": "stream",
          "name": "stderr",
          "text": [
            " 22%|██▏       | 42/195 [00:03<00:12, 11.79it/s]"
          ]
        },
        {
          "output_type": "stream",
          "name": "stdout",
          "text": [
            "Train Epoch: 16 [10240/49920 (21%)]\tLoss: 1.309779\n"
          ]
        },
        {
          "output_type": "stream",
          "name": "stderr",
          "text": [
            " 27%|██▋       | 52/195 [00:04<00:12, 11.65it/s]"
          ]
        },
        {
          "output_type": "stream",
          "name": "stdout",
          "text": [
            "Train Epoch: 16 [12800/49920 (26%)]\tLoss: 1.302127\n"
          ]
        },
        {
          "output_type": "stream",
          "name": "stderr",
          "text": [
            " 32%|███▏      | 62/195 [00:05<00:11, 11.75it/s]"
          ]
        },
        {
          "output_type": "stream",
          "name": "stdout",
          "text": [
            "Train Epoch: 16 [15360/49920 (31%)]\tLoss: 1.315966\n"
          ]
        },
        {
          "output_type": "stream",
          "name": "stderr",
          "text": [
            " 37%|███▋      | 72/195 [00:06<00:10, 11.98it/s]"
          ]
        },
        {
          "output_type": "stream",
          "name": "stdout",
          "text": [
            "Train Epoch: 16 [17920/49920 (36%)]\tLoss: 1.311157\n"
          ]
        },
        {
          "output_type": "stream",
          "name": "stderr",
          "text": [
            " 42%|████▏     | 82/195 [00:07<00:09, 11.77it/s]"
          ]
        },
        {
          "output_type": "stream",
          "name": "stdout",
          "text": [
            "Train Epoch: 16 [20480/49920 (41%)]\tLoss: 1.302012\n"
          ]
        },
        {
          "output_type": "stream",
          "name": "stderr",
          "text": [
            " 47%|████▋     | 92/195 [00:07<00:08, 11.79it/s]"
          ]
        },
        {
          "output_type": "stream",
          "name": "stdout",
          "text": [
            "Train Epoch: 16 [23040/49920 (46%)]\tLoss: 1.310007\n"
          ]
        },
        {
          "output_type": "stream",
          "name": "stderr",
          "text": [
            " 52%|█████▏    | 102/195 [00:08<00:07, 11.87it/s]"
          ]
        },
        {
          "output_type": "stream",
          "name": "stdout",
          "text": [
            "Train Epoch: 16 [25600/49920 (51%)]\tLoss: 1.311870\n"
          ]
        },
        {
          "output_type": "stream",
          "name": "stderr",
          "text": [
            " 57%|█████▋    | 112/195 [00:09<00:07, 11.82it/s]"
          ]
        },
        {
          "output_type": "stream",
          "name": "stdout",
          "text": [
            "Train Epoch: 16 [28160/49920 (56%)]\tLoss: 1.299440\n"
          ]
        },
        {
          "output_type": "stream",
          "name": "stderr",
          "text": [
            " 63%|██████▎   | 122/195 [00:10<00:06, 11.86it/s]"
          ]
        },
        {
          "output_type": "stream",
          "name": "stdout",
          "text": [
            "Train Epoch: 16 [30720/49920 (62%)]\tLoss: 1.312691\n"
          ]
        },
        {
          "output_type": "stream",
          "name": "stderr",
          "text": [
            " 68%|██████▊   | 132/195 [00:11<00:05, 11.85it/s]"
          ]
        },
        {
          "output_type": "stream",
          "name": "stdout",
          "text": [
            "Train Epoch: 16 [33280/49920 (67%)]\tLoss: 1.323412\n"
          ]
        },
        {
          "output_type": "stream",
          "name": "stderr",
          "text": [
            " 73%|███████▎  | 142/195 [00:12<00:04, 11.69it/s]"
          ]
        },
        {
          "output_type": "stream",
          "name": "stdout",
          "text": [
            "Train Epoch: 16 [35840/49920 (72%)]\tLoss: 1.323776\n"
          ]
        },
        {
          "output_type": "stream",
          "name": "stderr",
          "text": [
            " 78%|███████▊  | 152/195 [00:12<00:03, 11.81it/s]"
          ]
        },
        {
          "output_type": "stream",
          "name": "stdout",
          "text": [
            "Train Epoch: 16 [38400/49920 (77%)]\tLoss: 1.315947\n"
          ]
        },
        {
          "output_type": "stream",
          "name": "stderr",
          "text": [
            " 83%|████████▎ | 162/195 [00:13<00:02, 11.81it/s]"
          ]
        },
        {
          "output_type": "stream",
          "name": "stdout",
          "text": [
            "Train Epoch: 16 [40960/49920 (82%)]\tLoss: 1.296160\n"
          ]
        },
        {
          "output_type": "stream",
          "name": "stderr",
          "text": [
            " 88%|████████▊ | 172/195 [00:14<00:01, 11.74it/s]"
          ]
        },
        {
          "output_type": "stream",
          "name": "stdout",
          "text": [
            "Train Epoch: 16 [43520/49920 (87%)]\tLoss: 1.293898\n"
          ]
        },
        {
          "output_type": "stream",
          "name": "stderr",
          "text": [
            " 93%|█████████▎| 182/195 [00:15<00:01, 11.90it/s]"
          ]
        },
        {
          "output_type": "stream",
          "name": "stdout",
          "text": [
            "Train Epoch: 16 [46080/49920 (92%)]\tLoss: 1.293279\n"
          ]
        },
        {
          "output_type": "stream",
          "name": "stderr",
          "text": [
            " 98%|█████████▊| 192/195 [00:16<00:00, 11.70it/s]"
          ]
        },
        {
          "output_type": "stream",
          "name": "stdout",
          "text": [
            "Train Epoch: 16 [48640/49920 (97%)]\tLoss: 1.313210\n"
          ]
        },
        {
          "output_type": "stream",
          "name": "stderr",
          "text": [
            "100%|██████████| 195/195 [00:16<00:00, 11.72it/s]\n"
          ]
        },
        {
          "output_type": "stream",
          "name": "stdout",
          "text": [
            "Input\t great sigh and leaned against the cavern wall. \"I am weak...\" he said. \"Don't worry, sir,\" said Har\n",
            "GT\tgreat sigh and leaned against the cavern wall. \"I am weak...\" he said. \"Don't worry, sir,\" said Harr\n",
            "pred\ttooet sulntand soavid atainst the sare aatisl  \"I dm aerri\".  \"e said  \"Iun't tarry  Ior,\" said Harr\n",
            "\n",
            "\n",
            "Input\tossed the outer cave, and Harry helped Dumbledore back into the icy seawater that filled the crevice\n",
            "GT\tssed the outer cave, and Harry helped Dumbledore back into the icy seawater that filled the crevice \n",
            "pred\tssed the ctt r ahre  and tarry saaded humbledore aeck tnto the cnk otatsrer ahet horled the cooaeoa \n",
            "\n",
            "\n",
            "Input\tvering and dripping in the middle of the dark High Street in Hogsmeade. For one horrible moment Harr\n",
            "GT\tering and dripping in the middle of the dark High Street in Hogsmeade. For one horrible moment Harry\n",
            "pred\tering atd saenpeng tn the caddle of the cork aashtanuaet on tagwmeade  \"ir ane oawrible aorent tarry\n",
            "\n",
            "\n",
            "Input\thelp, but there was nobody to be seen and all he could think was that he must somehow get Dumbledore\n",
            "GT\telp, but there was nobody to be seen and all he could think was that he must somehow get Dumbledore \n",
            "pred\tirp  hut the e was aotody to te aoen tnd t l tirwould haenk ths ahet te wist ha e ow tot oumbledore \n",
            "\n",
            "\n",
            "Input\to - but what's wrong with Albus?' She came to a halt, panting, and stared down, wide-eyed, at Dumble\n",
            "GT\t - but what's wrong with Albus?' She came to a halt, panting, and stared down, wide-eyed, at Dumbled\n",
            "pred\t d-wut that s thong tith tnlus \" sne wane to tssalf  tatting  tnd taartd aown  ahte eded  wn tumbled\n",
            "\n",
            "\n",
            "\n",
            "Test set: Average loss: 1.3285, Accuracy: 754325/1254400 (60%)\n",
            "\n",
            "generated max\t\t Harry Potter, Voldemort, and Dumbledore walk into a bar. \"I think you want to take the match of the castle and the start of the castle and the start of the castle and the start of the castle and the started to the corridor to the corridor to the corridor to\n",
            "generated sample\t Harry Potter, Voldemort, and Dumbledore walk into a bar. Chere was a few interesting Snape. \"You want to be going to be a boy with and the other taster to his mouth.\" \"It was the one with me and think you are you want to go to this one of them and as though\n",
            "generated sample\t Harry Potter, Voldemort, and Dumbledore walk into a bar. and the same house had shouldered the too rain and sure to have to his face in the stairs, and he had stopped at the carried of the statue of the castle. Harry asked her face as he had been trying to \n",
            "generated sample\t Harry Potter, Voldemort, and Dumbledore walk into a bar. . . . and the compartment of the corner of the broom and the sumpled and sall of the crowd of still started to the door and his own hand and students was stood up, the chair staring around the back of\n",
            "generated sample\t Harry Potter, Voldemort, and Dumbledore walk into a bar. very disappeared with the back of the castle, and the corridors and the only the carefully gold back in the air and straight at Harry, as though it had can be only one to the wizard was a beaution. A \n",
            "generated sample\t Harry Potter, Voldemort, and Dumbledore walk into a bar. Dumbledore could see that he had told me the badge the students where he was shaking his back and saw that the back of hings bad and understanding the large sudden seemed to the silent the small stree\n",
            "generated sample\t Harry Potter, Voldemort, and Dumbledore walk into a bar. All the first times at the thing and bent down at the mind of the grounds. \"I seem to go that you don't know what the your outside the last things and filled with one of the seat down and students to \n",
            "generated sample\t Harry Potter, Voldemort, and Dumbledore walk into a bar. \"I do you don't know what was in the dark Crouch.\" \"I'll say the mark of the castle and the days and the large and the mark of them means the castle about the other had been a new sevence of the lifte\n",
            "generated sample\t Harry Potter, Voldemort, and Dumbledore walk into a bar. A started to care the Prime of the wide of the wall champions that he had never seen him and saying a bottle of for the entrance had been in the light he had heard the Darian was looking at the fire a\n",
            "generated sample\t Harry Potter, Voldemort, and Dumbledore walk into a bar. The other took a piece of carefully. \"I thing to find a small prophecy of it, the course of Malfoy face the other time they were not want to him all the first time to really the stairs as what was us \n",
            "generated sample\t Harry Potter, Voldemort, and Dumbledore walk into a bar. of confince as more than the points ever see the dark and there was a bit of the boys' black cale and students to the room and distanted as though he had done to me to the castle. \"Oh, I'm not going t\n",
            "generated beam\t\t Harry Potter, Voldemort, and Dumbledore walk into a bar. Harry said to the stairs and started to the stairs and started to the stairs and started to the stairs and started to the stairs and started to the stairs and started to the stairs and started to the \n",
            "\n"
          ]
        },
        {
          "output_type": "stream",
          "name": "stderr",
          "text": [
            "  1%|          | 1/195 [00:00<00:37,  5.16it/s]"
          ]
        },
        {
          "output_type": "stream",
          "name": "stdout",
          "text": [
            "Train Epoch: 17 [0/49920 (0%)]\tLoss: 1.323019\n"
          ]
        },
        {
          "output_type": "stream",
          "name": "stderr",
          "text": [
            "  7%|▋         | 13/195 [00:01<00:15, 11.74it/s]"
          ]
        },
        {
          "output_type": "stream",
          "name": "stdout",
          "text": [
            "Train Epoch: 17 [2560/49920 (5%)]\tLoss: 1.319350\n"
          ]
        },
        {
          "output_type": "stream",
          "name": "stderr",
          "text": [
            " 12%|█▏        | 23/195 [00:02<00:14, 12.13it/s]"
          ]
        },
        {
          "output_type": "stream",
          "name": "stdout",
          "text": [
            "Train Epoch: 17 [5120/49920 (10%)]\tLoss: 1.316340\n"
          ]
        },
        {
          "output_type": "stream",
          "name": "stderr",
          "text": [
            " 17%|█▋        | 33/195 [00:02<00:13, 12.03it/s]"
          ]
        },
        {
          "output_type": "stream",
          "name": "stdout",
          "text": [
            "Train Epoch: 17 [7680/49920 (15%)]\tLoss: 1.324772\n"
          ]
        },
        {
          "output_type": "stream",
          "name": "stderr",
          "text": [
            " 22%|██▏       | 43/195 [00:03<00:12, 12.18it/s]"
          ]
        },
        {
          "output_type": "stream",
          "name": "stdout",
          "text": [
            "Train Epoch: 17 [10240/49920 (21%)]\tLoss: 1.308697\n"
          ]
        },
        {
          "output_type": "stream",
          "name": "stderr",
          "text": [
            " 27%|██▋       | 53/195 [00:04<00:11, 11.95it/s]"
          ]
        },
        {
          "output_type": "stream",
          "name": "stdout",
          "text": [
            "Train Epoch: 17 [12800/49920 (26%)]\tLoss: 1.300467\n"
          ]
        },
        {
          "output_type": "stream",
          "name": "stderr",
          "text": [
            " 32%|███▏      | 63/195 [00:05<00:10, 12.16it/s]"
          ]
        },
        {
          "output_type": "stream",
          "name": "stdout",
          "text": [
            "Train Epoch: 17 [15360/49920 (31%)]\tLoss: 1.314585\n"
          ]
        },
        {
          "output_type": "stream",
          "name": "stderr",
          "text": [
            " 37%|███▋      | 73/195 [00:06<00:09, 12.31it/s]"
          ]
        },
        {
          "output_type": "stream",
          "name": "stdout",
          "text": [
            "Train Epoch: 17 [17920/49920 (36%)]\tLoss: 1.309700\n"
          ]
        },
        {
          "output_type": "stream",
          "name": "stderr",
          "text": [
            " 43%|████▎     | 83/195 [00:06<00:09, 12.07it/s]"
          ]
        },
        {
          "output_type": "stream",
          "name": "stdout",
          "text": [
            "Train Epoch: 17 [20480/49920 (41%)]\tLoss: 1.301330\n"
          ]
        },
        {
          "output_type": "stream",
          "name": "stderr",
          "text": [
            " 48%|████▊     | 93/195 [00:07<00:08, 12.01it/s]"
          ]
        },
        {
          "output_type": "stream",
          "name": "stdout",
          "text": [
            "Train Epoch: 17 [23040/49920 (46%)]\tLoss: 1.309031\n"
          ]
        },
        {
          "output_type": "stream",
          "name": "stderr",
          "text": [
            " 53%|█████▎    | 103/195 [00:08<00:07, 12.10it/s]"
          ]
        },
        {
          "output_type": "stream",
          "name": "stdout",
          "text": [
            "Train Epoch: 17 [25600/49920 (51%)]\tLoss: 1.309969\n"
          ]
        },
        {
          "output_type": "stream",
          "name": "stderr",
          "text": [
            " 58%|█████▊    | 113/195 [00:09<00:06, 12.07it/s]"
          ]
        },
        {
          "output_type": "stream",
          "name": "stdout",
          "text": [
            "Train Epoch: 17 [28160/49920 (56%)]\tLoss: 1.297710\n"
          ]
        },
        {
          "output_type": "stream",
          "name": "stderr",
          "text": [
            " 63%|██████▎   | 123/195 [00:10<00:05, 12.19it/s]"
          ]
        },
        {
          "output_type": "stream",
          "name": "stdout",
          "text": [
            "Train Epoch: 17 [30720/49920 (62%)]\tLoss: 1.310862\n"
          ]
        },
        {
          "output_type": "stream",
          "name": "stderr",
          "text": [
            " 68%|██████▊   | 133/195 [00:11<00:05, 12.26it/s]"
          ]
        },
        {
          "output_type": "stream",
          "name": "stdout",
          "text": [
            "Train Epoch: 17 [33280/49920 (67%)]\tLoss: 1.322021\n"
          ]
        },
        {
          "output_type": "stream",
          "name": "stderr",
          "text": [
            " 73%|███████▎  | 143/195 [00:11<00:04, 12.21it/s]"
          ]
        },
        {
          "output_type": "stream",
          "name": "stdout",
          "text": [
            "Train Epoch: 17 [35840/49920 (72%)]\tLoss: 1.322890\n"
          ]
        },
        {
          "output_type": "stream",
          "name": "stderr",
          "text": [
            " 78%|███████▊  | 153/195 [00:12<00:03, 12.05it/s]"
          ]
        },
        {
          "output_type": "stream",
          "name": "stdout",
          "text": [
            "Train Epoch: 17 [38400/49920 (77%)]\tLoss: 1.314291\n"
          ]
        },
        {
          "output_type": "stream",
          "name": "stderr",
          "text": [
            " 84%|████████▎ | 163/195 [00:13<00:02, 12.27it/s]"
          ]
        },
        {
          "output_type": "stream",
          "name": "stdout",
          "text": [
            "Train Epoch: 17 [40960/49920 (82%)]\tLoss: 1.295292\n"
          ]
        },
        {
          "output_type": "stream",
          "name": "stderr",
          "text": [
            " 89%|████████▊ | 173/195 [00:14<00:01, 12.22it/s]"
          ]
        },
        {
          "output_type": "stream",
          "name": "stdout",
          "text": [
            "Train Epoch: 17 [43520/49920 (87%)]\tLoss: 1.292775\n"
          ]
        },
        {
          "output_type": "stream",
          "name": "stderr",
          "text": [
            " 94%|█████████▍| 183/195 [00:15<00:00, 12.18it/s]"
          ]
        },
        {
          "output_type": "stream",
          "name": "stdout",
          "text": [
            "Train Epoch: 17 [46080/49920 (92%)]\tLoss: 1.291898\n"
          ]
        },
        {
          "output_type": "stream",
          "name": "stderr",
          "text": [
            " 99%|█████████▉| 193/195 [00:16<00:00, 12.05it/s]"
          ]
        },
        {
          "output_type": "stream",
          "name": "stdout",
          "text": [
            "Train Epoch: 17 [48640/49920 (97%)]\tLoss: 1.310938\n"
          ]
        },
        {
          "output_type": "stream",
          "name": "stderr",
          "text": [
            "100%|██████████| 195/195 [00:16<00:00, 12.01it/s]\n"
          ]
        },
        {
          "output_type": "stream",
          "name": "stdout",
          "text": [
            "Input\t great sigh and leaned against the cavern wall. \"I am weak...\" he said. \"Don't worry, sir,\" said Har\n",
            "GT\tgreat sigh and leaned against the cavern wall. \"I am weak...\" he said. \"Don't worry, sir,\" said Harr\n",
            "pred\ttooet sulntand soavid anainst the sare aatisl  \"I dm aerri\".  \"e said  \"Iun't tarry  Ior,\" said Harr\n",
            "\n",
            "\n",
            "Input\tossed the outer cave, and Harry helped Dumbledore back into the icy seawater that filled the crevice\n",
            "GT\tssed the outer cave, and Harry helped Dumbledore back into the icy seawater that filled the crevice \n",
            "pred\tssed the ctt r ahre  and tarry saaded humbledore aeck tnto the cnk otatsrir ahet horled the cooaeoa \n",
            "\n",
            "\n",
            "Input\tvering and dripping in the middle of the dark High Street in Hogsmeade. For one horrible moment Harr\n",
            "GT\tering and dripping in the middle of the dark High Street in Hogsmeade. For one horrible moment Harry\n",
            "pred\tering atd saanpeng hn the caddle of the cork aashtanuaet on tagwmeade  \"ir ane oawrible aorent tarry\n",
            "\n",
            "\n",
            "Input\thelp, but there was nobody to be seen and all he could think was that he must somehow get Dumbledore\n",
            "GT\telp, but there was nobody to be seen and all he could think was that he must somehow get Dumbledore \n",
            "pred\tirp  hut the e was aotody to te aoen tnd t l tirwould haenk ths ahet te wist ha e ow tot oumbledore \n",
            "\n",
            "\n",
            "Input\to - but what's wrong with Albus?' She came to a halt, panting, and stared down, wide-eyed, at Dumble\n",
            "GT\t - but what's wrong with Albus?' She came to a halt, panting, and stared down, wide-eyed, at Dumbled\n",
            "pred\t d-wut that s thong tith tnlus \" sne wane to tssalf  tatting  and taartd aown  ahte eded  wn tumbled\n",
            "\n",
            "\n",
            "\n",
            "Test set: Average loss: 1.3268, Accuracy: 754789/1254400 (60%)\n",
            "\n",
            "Saved /content/logs/0.1/017.pt\n",
            "\n",
            "generated max\t\t Harry Potter, Voldemort, and Dumbledore walk into a bar. \"I think you want to take the match of the castle and the start of the car of the castle and the start of the car of the castle and the start of the card to the common room with a strange of the castl\n",
            "generated sample\t Harry Potter, Voldemort, and Dumbledore walk into a bar. Mr. Weasley had been looking up the stadical of the other side of the corridor to the corner and says in the first take to be allowed to be the station at him to his feet and leave them flattered at h\n",
            "generated sample\t Harry Potter, Voldemort, and Dumbledore walk into a bar. And he had seen to have a bit of and last time he had made them out of the other side of the corridors. The only the bed on the end of the spiral enter and the destrait of parchment and slid and saw h\n",
            "generated sample\t Harry Potter, Voldemort, and Dumbledore walk into a bar. \"What boy had been a lot of her back for a moment of the castle and rully the said of the same pale of the first one of the small of for the experate with him a surprise back of the trunk and says to \n",
            "generated sample\t Harry Potter, Voldemort, and Dumbledore walk into a bar. \"You man's got to get in the pop of the Malfoy?\" Harry raised his shoulder and looked his toward and straightened at the sudden taught and street looking at her and saying the horrible. \"I've been doi\n",
            "generated sample\t Harry Potter, Voldemort, and Dumbledore walk into a bar. \"I man' I have got to make a change of her wand back in the face to the fire in the mouth as they were all three in the look of the same with the castle and the morth of the ground. The garden windows\n",
            "generated sample\t Harry Potter, Voldemort, and Dumbledore walk into a bar. And there was a house of them were rather and pulls of the started to look at him. \"What was all these days he had not contain out of the wizarding eyes of the partice to the chamber of the ward of th\n",
            "generated sample\t Harry Potter, Voldemort, and Dumbledore walk into a bar. \"He's got to come on, you're taking to the common room. \"I don't mean to ask your stuff, but the only a more change in the supportrait of his own magical I think I have a bit in real to the car resile\n",
            "generated sample\t Harry Potter, Voldemort, and Dumbledore walk into a bar. He was reading to the common room back to the corridor. \"I was a book at the points were all of them and saying the light under the other troll by the Dursleys are all this time to see his feet. \"What\n",
            "generated sample\t Harry Potter, Voldemort, and Dumbledore walk into a bar. of the grade of the friends of the first time and the carried on the same as he said closely. \"So what you can warned to be the some words!\" \"Well, that's the real called and the front of the teachers\n",
            "generated sample\t Harry Potter, Voldemort, and Dumbledore walk into a bar. \"Oh, I have been making up to the Crabbe, and is that for you were all all of the curse, he was to do it, in the other sitting times all the other to the foot of his wand to the first the match of the\n",
            "generated beam\t\t Harry Potter, Voldemort, and Dumbledore walk into a bar. Harry said to the stairs and said and started to the stairs and said and started to the stairs and said and started to the stairs and said and started to the stairs and said and started to the stairs \n",
            "\n"
          ]
        },
        {
          "output_type": "stream",
          "name": "stderr",
          "text": [
            "  1%|          | 2/195 [00:00<00:29,  6.61it/s]"
          ]
        },
        {
          "output_type": "stream",
          "name": "stdout",
          "text": [
            "Train Epoch: 18 [0/49920 (0%)]\tLoss: 1.321782\n"
          ]
        },
        {
          "output_type": "stream",
          "name": "stderr",
          "text": [
            "  6%|▌         | 12/195 [00:01<00:15, 11.73it/s]"
          ]
        },
        {
          "output_type": "stream",
          "name": "stdout",
          "text": [
            "Train Epoch: 18 [2560/49920 (5%)]\tLoss: 1.317997\n"
          ]
        },
        {
          "output_type": "stream",
          "name": "stderr",
          "text": [
            " 11%|█▏        | 22/195 [00:01<00:14, 12.19it/s]"
          ]
        },
        {
          "output_type": "stream",
          "name": "stdout",
          "text": [
            "Train Epoch: 18 [5120/49920 (10%)]\tLoss: 1.314333\n"
          ]
        },
        {
          "output_type": "stream",
          "name": "stderr",
          "text": [
            " 16%|█▋        | 32/195 [00:02<00:13, 12.32it/s]"
          ]
        },
        {
          "output_type": "stream",
          "name": "stdout",
          "text": [
            "Train Epoch: 18 [7680/49920 (15%)]\tLoss: 1.323327\n"
          ]
        },
        {
          "output_type": "stream",
          "name": "stderr",
          "text": [
            " 22%|██▏       | 42/195 [00:03<00:12, 12.28it/s]"
          ]
        },
        {
          "output_type": "stream",
          "name": "stdout",
          "text": [
            "Train Epoch: 18 [10240/49920 (21%)]\tLoss: 1.307065\n"
          ]
        },
        {
          "output_type": "stream",
          "name": "stderr",
          "text": [
            " 27%|██▋       | 52/195 [00:04<00:11, 12.29it/s]"
          ]
        },
        {
          "output_type": "stream",
          "name": "stdout",
          "text": [
            "Train Epoch: 18 [12800/49920 (26%)]\tLoss: 1.298455\n"
          ]
        },
        {
          "output_type": "stream",
          "name": "stderr",
          "text": [
            " 32%|███▏      | 62/195 [00:05<00:10, 12.25it/s]"
          ]
        },
        {
          "output_type": "stream",
          "name": "stdout",
          "text": [
            "Train Epoch: 18 [15360/49920 (31%)]\tLoss: 1.312979\n"
          ]
        },
        {
          "output_type": "stream",
          "name": "stderr",
          "text": [
            " 37%|███▋      | 72/195 [00:06<00:10, 12.12it/s]"
          ]
        },
        {
          "output_type": "stream",
          "name": "stdout",
          "text": [
            "Train Epoch: 18 [17920/49920 (36%)]\tLoss: 1.307781\n"
          ]
        },
        {
          "output_type": "stream",
          "name": "stderr",
          "text": [
            " 42%|████▏     | 82/195 [00:06<00:09, 12.18it/s]"
          ]
        },
        {
          "output_type": "stream",
          "name": "stdout",
          "text": [
            "Train Epoch: 18 [20480/49920 (41%)]\tLoss: 1.299417\n"
          ]
        },
        {
          "output_type": "stream",
          "name": "stderr",
          "text": [
            " 47%|████▋     | 92/195 [00:07<00:08, 12.29it/s]"
          ]
        },
        {
          "output_type": "stream",
          "name": "stdout",
          "text": [
            "Train Epoch: 18 [23040/49920 (46%)]\tLoss: 1.307394\n"
          ]
        },
        {
          "output_type": "stream",
          "name": "stderr",
          "text": [
            " 52%|█████▏    | 102/195 [00:08<00:07, 12.13it/s]"
          ]
        },
        {
          "output_type": "stream",
          "name": "stdout",
          "text": [
            "Train Epoch: 18 [25600/49920 (51%)]\tLoss: 1.308381\n"
          ]
        },
        {
          "output_type": "stream",
          "name": "stderr",
          "text": [
            " 57%|█████▋    | 112/195 [00:09<00:06, 12.08it/s]"
          ]
        },
        {
          "output_type": "stream",
          "name": "stdout",
          "text": [
            "Train Epoch: 18 [28160/49920 (56%)]\tLoss: 1.296065\n"
          ]
        },
        {
          "output_type": "stream",
          "name": "stderr",
          "text": [
            " 63%|██████▎   | 122/195 [00:10<00:05, 12.31it/s]"
          ]
        },
        {
          "output_type": "stream",
          "name": "stdout",
          "text": [
            "Train Epoch: 18 [30720/49920 (62%)]\tLoss: 1.309070\n"
          ]
        },
        {
          "output_type": "stream",
          "name": "stderr",
          "text": [
            " 68%|██████▊   | 132/195 [00:10<00:05, 12.20it/s]"
          ]
        },
        {
          "output_type": "stream",
          "name": "stdout",
          "text": [
            "Train Epoch: 18 [33280/49920 (67%)]\tLoss: 1.320658\n"
          ]
        },
        {
          "output_type": "stream",
          "name": "stderr",
          "text": [
            " 73%|███████▎  | 142/195 [00:11<00:04, 11.86it/s]"
          ]
        },
        {
          "output_type": "stream",
          "name": "stdout",
          "text": [
            "Train Epoch: 18 [35840/49920 (72%)]\tLoss: 1.321706\n"
          ]
        },
        {
          "output_type": "stream",
          "name": "stderr",
          "text": [
            " 78%|███████▊  | 152/195 [00:12<00:03, 12.02it/s]"
          ]
        },
        {
          "output_type": "stream",
          "name": "stdout",
          "text": [
            "Train Epoch: 18 [38400/49920 (77%)]\tLoss: 1.312715\n"
          ]
        },
        {
          "output_type": "stream",
          "name": "stderr",
          "text": [
            " 83%|████████▎ | 162/195 [00:13<00:02, 12.05it/s]"
          ]
        },
        {
          "output_type": "stream",
          "name": "stdout",
          "text": [
            "Train Epoch: 18 [40960/49920 (82%)]\tLoss: 1.293983\n"
          ]
        },
        {
          "output_type": "stream",
          "name": "stderr",
          "text": [
            " 88%|████████▊ | 172/195 [00:14<00:01, 12.12it/s]"
          ]
        },
        {
          "output_type": "stream",
          "name": "stdout",
          "text": [
            "Train Epoch: 18 [43520/49920 (87%)]\tLoss: 1.291267\n"
          ]
        },
        {
          "output_type": "stream",
          "name": "stderr",
          "text": [
            " 93%|█████████▎| 182/195 [00:15<00:01, 11.98it/s]"
          ]
        },
        {
          "output_type": "stream",
          "name": "stdout",
          "text": [
            "Train Epoch: 18 [46080/49920 (92%)]\tLoss: 1.290087\n"
          ]
        },
        {
          "output_type": "stream",
          "name": "stderr",
          "text": [
            " 98%|█████████▊| 192/195 [00:15<00:00, 12.02it/s]"
          ]
        },
        {
          "output_type": "stream",
          "name": "stdout",
          "text": [
            "Train Epoch: 18 [48640/49920 (97%)]\tLoss: 1.309123\n"
          ]
        },
        {
          "output_type": "stream",
          "name": "stderr",
          "text": [
            "100%|██████████| 195/195 [00:16<00:00, 12.03it/s]\n"
          ]
        },
        {
          "output_type": "stream",
          "name": "stdout",
          "text": [
            "Input\t great sigh and leaned against the cavern wall. \"I am weak...\" he said. \"Don't worry, sir,\" said Har\n",
            "GT\tgreat sigh and leaned against the cavern wall. \"I am weak...\" he said. \"Don't worry, sir,\" said Harr\n",
            "pred\ttooet sulntand soavid atainst the sore aatisl  \"I wm aerri\".  \"e said  \"Iun't tarry  Ior,\" said Harr\n",
            "\n",
            "\n",
            "Input\tossed the outer cave, and Harry helped Dumbledore back into the icy seawater that filled the crevice\n",
            "GT\tssed the outer cave, and Harry helped Dumbledore back into the icy seawater that filled the crevice \n",
            "pred\tssed the ctt r aore  and tarry saaded humbledore aeck tnto the cnk otatsrir ahet horled the cooaeoa \n",
            "\n",
            "\n",
            "Input\tvering and dripping in the middle of the dark High Street in Hogsmeade. For one horrible moment Harr\n",
            "GT\tering and dripping in the middle of the dark High Street in Hogsmeade. For one horrible moment Harry\n",
            "pred\tering atd saanpeng hn the caddle of the cork aashtanuaet an tagwmeade  \"ir ane oawrible aorent tarry\n",
            "\n",
            "\n",
            "Input\thelp, but there was nobody to be seen and all he could think was that he must somehow get Dumbledore\n",
            "GT\telp, but there was nobody to be seen and all he could think was that he must somehow get Dumbledore \n",
            "pred\tirp  hut the e was aotody to te aoen tnd t l tirwould haenk ths ahet te wist ha e ow tot oumbledore \n",
            "\n",
            "\n",
            "Input\to - but what's wrong with Albus?' She came to a halt, panting, and stared down, wide-eyed, at Dumble\n",
            "GT\t - but what's wrong with Albus?' She came to a halt, panting, and stared down, wide-eyed, at Dumbled\n",
            "pred\t d-wut that s thong tith tnlus \" sne wane to tslalf  tatting  and taartd aown  ahte eded  wn tumbled\n",
            "\n",
            "\n",
            "\n",
            "Test set: Average loss: 1.3250, Accuracy: 755389/1254400 (60%)\n",
            "\n",
            "Saved /content/logs/0.1/018.pt\n",
            "\n",
            "generated max\t\t Harry Potter, Voldemort, and Dumbledore walk into a bar. \"I think you want to take the match of the castle and the start of the car of the castle and the start of the car of the castle and the start of the card to the common room with a strange of the castl\n",
            "generated sample\t Harry Potter, Voldemort, and Dumbledore walk into a bar. Harry thought his arm and started to his wand. Harry had gotten the past he had been thinks of dragon he had seen the end of the very little and students attempting and stood and said. \"I think at the\n",
            "generated sample\t Harry Potter, Voldemort, and Dumbledore walk into a bar. *upin looked up at it. \"What's heard a corridor of them, and a cold magic and way to take out the face to be a note of them and back in the castle has got to use a lot of the last take of her single h\n",
            "generated sample\t Harry Potter, Voldemort, and Dumbledore walk into a bar. End his head was standing to his face. \"She has a busible in his for anything against them only one it is over to be a book.\" \"You were all right, but the first time to the maily - and had been who ha\n",
            "generated sample\t Harry Potter, Voldemort, and Dumbledore walk into a bar. \"I don't make here and these contact Potion to the down to the castle to help you?\" \"What does they moved in the office was coming to get our particularly and the corridor of the troll be for a short \n",
            "generated sample\t Harry Potter, Voldemort, and Dumbledore walk into a bar. Mr. Weasley flamed to do in the corner of the exaps of the little to Harry and Hermione streaked at the every and the room who was up to his toward the silent of flat to come and with being past the f\n",
            "generated sample\t Harry Potter, Voldemort, and Dumbledore walk into a bar. Who was a long hall and they were reading something in the statues. \"So will was on them with really something to proom !\" \"I have to go into the castle to stand at the large for this notes.\" \"You rea\n",
            "generated sample\t Harry Potter, Voldemort, and Dumbledore walk into a bar. I was too last straingly and he took his wand behind him. \"I will think you were that with you to come and lack out of his arms.\" \"I was going?\" said Harry, the only side of the ground with as they we\n",
            "generated sample\t Harry Potter, Voldemort, and Dumbledore walk into a bar. \"I'm not look as you saying the first time. \"So you say that like the room with you are all too more than anything to the team back, to the Harry and I can't make a little standing the witching what a\n",
            "generated sample\t Harry Potter, Voldemort, and Dumbledore walk into a bar. of their ways lake and still spinking to the morning and steals over on the door with the first tale. \"That's who have been a lot of any now, be here!\" Harry said as though he had spoke the parchment \n",
            "generated sample\t Harry Potter, Voldemort, and Dumbledore walk into a bar. \"You will see what is the time and it last time to really mind anything that would have been come and this own to the cental and the school was a perfect of the back and the moment Harry had not in th\n",
            "generated beam\t\t Harry Potter, Voldemort, and Dumbledore walk into a bar. \"I think you want to take the match of the castle and the start of the car of the castle and the start of the car of the castle and the start of the card to the common room with a strange of the castl\n",
            "\n"
          ]
        },
        {
          "output_type": "stream",
          "name": "stderr",
          "text": [
            "  1%|          | 2/195 [00:00<00:29,  6.53it/s]"
          ]
        },
        {
          "output_type": "stream",
          "name": "stdout",
          "text": [
            "Train Epoch: 19 [0/49920 (0%)]\tLoss: 1.320346\n"
          ]
        },
        {
          "output_type": "stream",
          "name": "stderr",
          "text": [
            "  6%|▌         | 12/195 [00:01<00:16, 11.28it/s]"
          ]
        },
        {
          "output_type": "stream",
          "name": "stdout",
          "text": [
            "Train Epoch: 19 [2560/49920 (5%)]\tLoss: 1.316447\n"
          ]
        },
        {
          "output_type": "stream",
          "name": "stderr",
          "text": [
            " 11%|█▏        | 22/195 [00:01<00:14, 12.05it/s]"
          ]
        },
        {
          "output_type": "stream",
          "name": "stdout",
          "text": [
            "Train Epoch: 19 [5120/49920 (10%)]\tLoss: 1.312304\n"
          ]
        },
        {
          "output_type": "stream",
          "name": "stderr",
          "text": [
            " 16%|█▋        | 32/195 [00:02<00:13, 12.09it/s]"
          ]
        },
        {
          "output_type": "stream",
          "name": "stdout",
          "text": [
            "Train Epoch: 19 [7680/49920 (15%)]\tLoss: 1.321805\n"
          ]
        },
        {
          "output_type": "stream",
          "name": "stderr",
          "text": [
            " 22%|██▏       | 42/195 [00:03<00:12, 12.16it/s]"
          ]
        },
        {
          "output_type": "stream",
          "name": "stdout",
          "text": [
            "Train Epoch: 19 [10240/49920 (21%)]\tLoss: 1.305507\n"
          ]
        },
        {
          "output_type": "stream",
          "name": "stderr",
          "text": [
            " 27%|██▋       | 52/195 [00:04<00:11, 12.15it/s]"
          ]
        },
        {
          "output_type": "stream",
          "name": "stdout",
          "text": [
            "Train Epoch: 19 [12800/49920 (26%)]\tLoss: 1.296480\n"
          ]
        },
        {
          "output_type": "stream",
          "name": "stderr",
          "text": [
            " 32%|███▏      | 62/195 [00:05<00:10, 12.19it/s]"
          ]
        },
        {
          "output_type": "stream",
          "name": "stdout",
          "text": [
            "Train Epoch: 19 [15360/49920 (31%)]\tLoss: 1.311189\n"
          ]
        },
        {
          "output_type": "stream",
          "name": "stderr",
          "text": [
            " 37%|███▋      | 72/195 [00:06<00:10, 12.17it/s]"
          ]
        },
        {
          "output_type": "stream",
          "name": "stdout",
          "text": [
            "Train Epoch: 19 [17920/49920 (36%)]\tLoss: 1.305843\n"
          ]
        },
        {
          "output_type": "stream",
          "name": "stderr",
          "text": [
            " 42%|████▏     | 82/195 [00:06<00:09, 12.28it/s]"
          ]
        },
        {
          "output_type": "stream",
          "name": "stdout",
          "text": [
            "Train Epoch: 19 [20480/49920 (41%)]\tLoss: 1.297462\n"
          ]
        },
        {
          "output_type": "stream",
          "name": "stderr",
          "text": [
            " 47%|████▋     | 92/195 [00:07<00:08, 12.11it/s]"
          ]
        },
        {
          "output_type": "stream",
          "name": "stdout",
          "text": [
            "Train Epoch: 19 [23040/49920 (46%)]\tLoss: 1.305618\n"
          ]
        },
        {
          "output_type": "stream",
          "name": "stderr",
          "text": [
            " 52%|█████▏    | 102/195 [00:08<00:07, 12.07it/s]"
          ]
        },
        {
          "output_type": "stream",
          "name": "stdout",
          "text": [
            "Train Epoch: 19 [25600/49920 (51%)]\tLoss: 1.306804\n"
          ]
        },
        {
          "output_type": "stream",
          "name": "stderr",
          "text": [
            " 57%|█████▋    | 112/195 [00:09<00:06, 12.18it/s]"
          ]
        },
        {
          "output_type": "stream",
          "name": "stdout",
          "text": [
            "Train Epoch: 19 [28160/49920 (56%)]\tLoss: 1.294441\n"
          ]
        },
        {
          "output_type": "stream",
          "name": "stderr",
          "text": [
            " 63%|██████▎   | 122/195 [00:10<00:05, 12.33it/s]"
          ]
        },
        {
          "output_type": "stream",
          "name": "stdout",
          "text": [
            "Train Epoch: 19 [30720/49920 (62%)]\tLoss: 1.307321\n"
          ]
        },
        {
          "output_type": "stream",
          "name": "stderr",
          "text": [
            " 68%|██████▊   | 132/195 [00:11<00:05, 11.96it/s]"
          ]
        },
        {
          "output_type": "stream",
          "name": "stdout",
          "text": [
            "Train Epoch: 19 [33280/49920 (67%)]\tLoss: 1.319280\n"
          ]
        },
        {
          "output_type": "stream",
          "name": "stderr",
          "text": [
            " 73%|███████▎  | 142/195 [00:11<00:04, 11.89it/s]"
          ]
        },
        {
          "output_type": "stream",
          "name": "stdout",
          "text": [
            "Train Epoch: 19 [35840/49920 (72%)]\tLoss: 1.320450\n"
          ]
        },
        {
          "output_type": "stream",
          "name": "stderr",
          "text": [
            " 78%|███████▊  | 152/195 [00:12<00:03, 12.04it/s]"
          ]
        },
        {
          "output_type": "stream",
          "name": "stdout",
          "text": [
            "Train Epoch: 19 [38400/49920 (77%)]\tLoss: 1.311326\n"
          ]
        },
        {
          "output_type": "stream",
          "name": "stderr",
          "text": [
            " 83%|████████▎ | 162/195 [00:13<00:02, 12.06it/s]"
          ]
        },
        {
          "output_type": "stream",
          "name": "stdout",
          "text": [
            "Train Epoch: 19 [40960/49920 (82%)]\tLoss: 1.292522\n"
          ]
        },
        {
          "output_type": "stream",
          "name": "stderr",
          "text": [
            " 88%|████████▊ | 172/195 [00:14<00:01, 12.03it/s]"
          ]
        },
        {
          "output_type": "stream",
          "name": "stdout",
          "text": [
            "Train Epoch: 19 [43520/49920 (87%)]\tLoss: 1.289705\n"
          ]
        },
        {
          "output_type": "stream",
          "name": "stderr",
          "text": [
            " 93%|█████████▎| 182/195 [00:15<00:01, 11.81it/s]"
          ]
        },
        {
          "output_type": "stream",
          "name": "stdout",
          "text": [
            "Train Epoch: 19 [46080/49920 (92%)]\tLoss: 1.288236\n"
          ]
        },
        {
          "output_type": "stream",
          "name": "stderr",
          "text": [
            " 98%|█████████▊| 192/195 [00:16<00:00, 11.75it/s]"
          ]
        },
        {
          "output_type": "stream",
          "name": "stdout",
          "text": [
            "Train Epoch: 19 [48640/49920 (97%)]\tLoss: 1.307505\n"
          ]
        },
        {
          "output_type": "stream",
          "name": "stderr",
          "text": [
            "100%|██████████| 195/195 [00:16<00:00, 11.93it/s]\n"
          ]
        },
        {
          "output_type": "stream",
          "name": "stdout",
          "text": [
            "Input\t great sigh and leaned against the cavern wall. \"I am weak...\" he said. \"Don't worry, sir,\" said Har\n",
            "GT\tgreat sigh and leaned against the cavern wall. \"I am weak...\" he said. \"Don't worry, sir,\" said Harr\n",
            "pred\ttooet sulntand soavid atainst the sore aatisl  \"I wm aerri\".  \"e said  \"Ion't tarry  Ior,\" said Harr\n",
            "\n",
            "\n",
            "Input\tossed the outer cave, and Harry helped Dumbledore back into the icy seawater that filled the crevice\n",
            "GT\tssed the outer cave, and Harry helped Dumbledore back into the icy seawater that filled the crevice \n",
            "pred\tssed the ctt r aore  and tarry saaded humbledore aeck tnto the cnk otatsrir ahat horled the cooaeoa \n",
            "\n",
            "\n",
            "Input\tvering and dripping in the middle of the dark High Street in Hogsmeade. For one horrible moment Harr\n",
            "GT\tering and dripping in the middle of the dark High Street in Hogsmeade. For one horrible moment Harry\n",
            "pred\tering atd saanpeng hn the caddle of the cork aashtanuaet an tagwmeade  \"ir ane oawrible aorent tarry\n",
            "\n",
            "\n",
            "Input\thelp, but there was nobody to be seen and all he could think was that he must somehow get Dumbledore\n",
            "GT\telp, but there was nobody to be seen and all he could think was that he must somehow get Dumbledore \n",
            "pred\tirp  hut the e was aotody to te aoen tnd t l tirwould haenk ths ahet te wist ha e ow tot tumbledore \n",
            "\n",
            "\n",
            "Input\to - but what's wrong with Albus?' She came to a halt, panting, and stared down, wide-eyed, at Dumble\n",
            "GT\t - but what's wrong with Albus?' She came to a halt, panting, and stared down, wide-eyed, at Dumbled\n",
            "pred\t d-wut that s thong tith tnlus \" sne wane to tslalf  tatting  and taartd aown  ahte eded  wn tumbled\n",
            "\n",
            "\n",
            "\n",
            "Test set: Average loss: 1.3232, Accuracy: 755949/1254400 (60%)\n",
            "\n",
            "Saved /content/logs/0.1/019.pt\n",
            "\n",
            "generated max\t\t Harry Potter, Voldemort, and Dumbledore walk into a bar. \"I think you want to take the match of the castle and the start of the car of the castle and the start of the car of the castle and the start of the card to the corridor to the corridor to the corrido\n",
            "generated sample\t Harry Potter, Voldemort, and Dumbledore walk into a bar. And they were not seemed to have to come on the transfiguration of the passage of the first tractice from the light and down the stairs at the started with the creature and training the way behind the\n",
            "generated sample\t Harry Potter, Voldemort, and Dumbledore walk into a bar. \"I say what he's already paint of your partice and looks close to do that she was a lot, going to the portrait of his left, he could need to do the classes. \"No, so that they were and on to right this\n",
            "generated sample\t Harry Potter, Voldemort, and Dumbledore walk into a bar. \"And so, so you stopped him with the starting with the students for the Dirius words out a horrible book. Dumbledore could have meet a few people and signing the walls of his toward their hands and hi\n",
            "generated sample\t Harry Potter, Voldemort, and Dumbledore walk into a bar. \"But what was only one of your mother to do you will me to come to the third to the school of you to the catch on the stairs, and I and then when you can take her about the might be past the sight of \n",
            "generated sample\t Harry Potter, Voldemort, and Dumbledore walk into a bar. \"Yeah, I haven't take my some of the first teachers and in the first in the book and leave me. \"I've got to go back to the cat one, I was a sure in the common room with the Dark Crouch to the Snape is\n",
            "generated sample\t Harry Potter, Voldemort, and Dumbledore walk into a bar. But he was already sure they just say any more in the Dark to his trunk. There was going to take to the matter of the way of the paushed with his flash and flashed and heard the school to the castle t\n",
            "generated sample\t Harry Potter, Voldemort, and Dumbledore walk into a bar. The first talking to the trunk. Harry and Harry was staring at his wand as though he was already was too back to the mark and saw the corridor. \"Don't got the mad and loud here and the Dark and the sa\n",
            "generated sample\t Harry Potter, Voldemort, and Dumbledore walk into a bar. it was a chance to the supporter, he and Hermione smiled at him. \"I say that seemed to get out. Hermione has been think about the Fried of the pilled of the same of the corridor. \"You don't got to com\n",
            "generated sample\t Harry Potter, Voldemort, and Dumbledore walk into a bar. And class listening to the door and started to his head. \"I wouldn't you know anything to you a different such a fact that Dumbledore was a smell of some of the table and take them all the table at th\n",
            "generated sample\t Harry Potter, Voldemort, and Dumbledore walk into a bar. . . . . . . they were all right as a moment on it was perfectly and the other team was clearly to the portrait of the light behind the moment with the windows and said the corner of his head. \"I told \n",
            "generated beam\t\t Harry Potter, Voldemort, and Dumbledore walk into a bar. \"I think you want to take the match of the castle and the start of the car of the castle and the start of the car of the castle and the start of the card to the corridor to the corridor to the corrido\n",
            "\n"
          ]
        },
        {
          "output_type": "stream",
          "name": "stderr",
          "text": [
            "  1%|          | 1/195 [00:00<00:37,  5.23it/s]"
          ]
        },
        {
          "output_type": "stream",
          "name": "stdout",
          "text": [
            "Train Epoch: 20 [0/49920 (0%)]\tLoss: 1.318868\n"
          ]
        },
        {
          "output_type": "stream",
          "name": "stderr",
          "text": [
            "  6%|▌         | 12/195 [00:01<00:15, 11.67it/s]"
          ]
        },
        {
          "output_type": "stream",
          "name": "stdout",
          "text": [
            "Train Epoch: 20 [2560/49920 (5%)]\tLoss: 1.314958\n"
          ]
        },
        {
          "output_type": "stream",
          "name": "stderr",
          "text": [
            " 11%|█▏        | 22/195 [00:01<00:14, 12.20it/s]"
          ]
        },
        {
          "output_type": "stream",
          "name": "stdout",
          "text": [
            "Train Epoch: 20 [5120/49920 (10%)]\tLoss: 1.310369\n"
          ]
        },
        {
          "output_type": "stream",
          "name": "stderr",
          "text": [
            " 16%|█▋        | 32/195 [00:02<00:13, 12.28it/s]"
          ]
        },
        {
          "output_type": "stream",
          "name": "stdout",
          "text": [
            "Train Epoch: 20 [7680/49920 (15%)]\tLoss: 1.320351\n"
          ]
        },
        {
          "output_type": "stream",
          "name": "stderr",
          "text": [
            " 22%|██▏       | 42/195 [00:03<00:12, 12.02it/s]"
          ]
        },
        {
          "output_type": "stream",
          "name": "stdout",
          "text": [
            "Train Epoch: 20 [10240/49920 (21%)]\tLoss: 1.304027\n"
          ]
        },
        {
          "output_type": "stream",
          "name": "stderr",
          "text": [
            " 27%|██▋       | 52/195 [00:04<00:11, 12.23it/s]"
          ]
        },
        {
          "output_type": "stream",
          "name": "stdout",
          "text": [
            "Train Epoch: 20 [12800/49920 (26%)]\tLoss: 1.294653\n"
          ]
        },
        {
          "output_type": "stream",
          "name": "stderr",
          "text": [
            " 32%|███▏      | 62/195 [00:05<00:10, 12.10it/s]"
          ]
        },
        {
          "output_type": "stream",
          "name": "stdout",
          "text": [
            "Train Epoch: 20 [15360/49920 (31%)]\tLoss: 1.309439\n"
          ]
        },
        {
          "output_type": "stream",
          "name": "stderr",
          "text": [
            " 37%|███▋      | 72/195 [00:06<00:10, 12.01it/s]"
          ]
        },
        {
          "output_type": "stream",
          "name": "stdout",
          "text": [
            "Train Epoch: 20 [17920/49920 (36%)]\tLoss: 1.303983\n"
          ]
        },
        {
          "output_type": "stream",
          "name": "stderr",
          "text": [
            " 42%|████▏     | 82/195 [00:06<00:09, 12.19it/s]"
          ]
        },
        {
          "output_type": "stream",
          "name": "stdout",
          "text": [
            "Train Epoch: 20 [20480/49920 (41%)]\tLoss: 1.295575\n"
          ]
        },
        {
          "output_type": "stream",
          "name": "stderr",
          "text": [
            " 47%|████▋     | 92/195 [00:07<00:08, 12.21it/s]"
          ]
        },
        {
          "output_type": "stream",
          "name": "stdout",
          "text": [
            "Train Epoch: 20 [23040/49920 (46%)]\tLoss: 1.303869\n"
          ]
        },
        {
          "output_type": "stream",
          "name": "stderr",
          "text": [
            " 52%|█████▏    | 102/195 [00:08<00:07, 12.22it/s]"
          ]
        },
        {
          "output_type": "stream",
          "name": "stdout",
          "text": [
            "Train Epoch: 20 [25600/49920 (51%)]\tLoss: 1.305261\n"
          ]
        },
        {
          "output_type": "stream",
          "name": "stderr",
          "text": [
            " 57%|█████▋    | 112/195 [00:09<00:06, 12.00it/s]"
          ]
        },
        {
          "output_type": "stream",
          "name": "stdout",
          "text": [
            "Train Epoch: 20 [28160/49920 (56%)]\tLoss: 1.292846\n"
          ]
        },
        {
          "output_type": "stream",
          "name": "stderr",
          "text": [
            " 63%|██████▎   | 122/195 [00:10<00:06, 12.11it/s]"
          ]
        },
        {
          "output_type": "stream",
          "name": "stdout",
          "text": [
            "Train Epoch: 20 [30720/49920 (62%)]\tLoss: 1.305639\n"
          ]
        },
        {
          "output_type": "stream",
          "name": "stderr",
          "text": [
            " 68%|██████▊   | 132/195 [00:11<00:05, 11.98it/s]"
          ]
        },
        {
          "output_type": "stream",
          "name": "stdout",
          "text": [
            "Train Epoch: 20 [33280/49920 (67%)]\tLoss: 1.317957\n"
          ]
        },
        {
          "output_type": "stream",
          "name": "stderr",
          "text": [
            " 73%|███████▎  | 142/195 [00:11<00:04, 11.86it/s]"
          ]
        },
        {
          "output_type": "stream",
          "name": "stdout",
          "text": [
            "Train Epoch: 20 [35840/49920 (72%)]\tLoss: 1.319176\n"
          ]
        },
        {
          "output_type": "stream",
          "name": "stderr",
          "text": [
            " 78%|███████▊  | 152/195 [00:12<00:03, 12.17it/s]"
          ]
        },
        {
          "output_type": "stream",
          "name": "stdout",
          "text": [
            "Train Epoch: 20 [38400/49920 (77%)]\tLoss: 1.310088\n"
          ]
        },
        {
          "output_type": "stream",
          "name": "stderr",
          "text": [
            " 83%|████████▎ | 162/195 [00:13<00:02, 12.19it/s]"
          ]
        },
        {
          "output_type": "stream",
          "name": "stdout",
          "text": [
            "Train Epoch: 20 [40960/49920 (82%)]\tLoss: 1.291049\n"
          ]
        },
        {
          "output_type": "stream",
          "name": "stderr",
          "text": [
            " 88%|████████▊ | 172/195 [00:14<00:01, 11.90it/s]"
          ]
        },
        {
          "output_type": "stream",
          "name": "stdout",
          "text": [
            "Train Epoch: 20 [43520/49920 (87%)]\tLoss: 1.288261\n"
          ]
        },
        {
          "output_type": "stream",
          "name": "stderr",
          "text": [
            " 93%|█████████▎| 182/195 [00:15<00:01, 11.87it/s]"
          ]
        },
        {
          "output_type": "stream",
          "name": "stdout",
          "text": [
            "Train Epoch: 20 [46080/49920 (92%)]\tLoss: 1.286484\n"
          ]
        },
        {
          "output_type": "stream",
          "name": "stderr",
          "text": [
            " 98%|█████████▊| 192/195 [00:16<00:00, 11.99it/s]"
          ]
        },
        {
          "output_type": "stream",
          "name": "stdout",
          "text": [
            "Train Epoch: 20 [48640/49920 (97%)]\tLoss: 1.306036\n"
          ]
        },
        {
          "output_type": "stream",
          "name": "stderr",
          "text": [
            "100%|██████████| 195/195 [00:16<00:00, 11.96it/s]\n"
          ]
        },
        {
          "output_type": "stream",
          "name": "stdout",
          "text": [
            "Input\t great sigh and leaned against the cavern wall. \"I am weak...\" he said. \"Don't worry, sir,\" said Har\n",
            "GT\tgreat sigh and leaned against the cavern wall. \"I am weak...\" he said. \"Don't worry, sir,\" said Harr\n",
            "pred\ttooet sulntand soavid atainst the sore aatisl  \"I wm serri\".  \"e said  \"Ion't tarry  Ior,\" said Harr\n",
            "\n",
            "\n",
            "Input\tossed the outer cave, and Harry helped Dumbledore back into the icy seawater that filled the crevice\n",
            "GT\tssed the outer cave, and Harry helped Dumbledore back into the icy seawater that filled the crevice \n",
            "pred\tssed the ctt r aore  and tarry saaded humbledore aeck tnto the cnk otatsrir ahat horled the cooaeoa \n",
            "\n",
            "\n",
            "Input\tvering and dripping in the middle of the dark High Street in Hogsmeade. For one horrible moment Harr\n",
            "GT\tering and dripping in the middle of the dark High Street in Hogsmeade. For one horrible moment Harry\n",
            "pred\tering atd saanpeng tn the caddle of the cork aashtanuaet an tagwmeade  \"ir ane oaurible aorent tarry\n",
            "\n",
            "\n",
            "Input\thelp, but there was nobody to be seen and all he could think was that he must somehow get Dumbledore\n",
            "GT\telp, but there was nobody to be seen and all he could think was that he must somehow get Dumbledore \n",
            "pred\tirp  hut the e was aotody to te aoen tnd t l tirwould haenk ths ahet te wist ha e ow tot tumbledore \n",
            "\n",
            "\n",
            "Input\to - but what's wrong with Albus?' She came to a halt, panting, and stared down, wide-eyed, at Dumble\n",
            "GT\t - but what's wrong with Albus?' She came to a halt, panting, and stared down, wide-eyed, at Dumbled\n",
            "pred\t d-wut that s thong tith tnlus \" sne wane to tslalf  tatting  and taartd aown  ahte eded  wn tumbled\n",
            "\n",
            "\n",
            "\n",
            "Test set: Average loss: 1.3216, Accuracy: 756520/1254400 (60%)\n",
            "\n",
            "Saved /content/logs/0.1/020.pt\n",
            "\n",
            "generated max\t\t Harry Potter, Voldemort, and Dumbledore walk into a bar. \"I think you want to be a lot of the catch of the castle and the start of the car of the castle and the start of the card of the castle and the start of the card and said the start of the castle and t\n",
            "generated sample\t Harry Potter, Voldemort, and Dumbledore walk into a bar. Dumbledore said, who seemed to discurse her wand to see the boy was a spart to his bed, and said the firelible from the first time. Harry looked around for the doors and suddenly shaking carried to he\n",
            "generated sample\t Harry Potter, Voldemort, and Dumbledore walk into a bar. Harry saw they heard the close to the called a large mage and said. \"I've got to really that I say you say the Malfoy, they're going to will really going to be on the windows and point in the station \n",
            "generated sample\t Harry Potter, Voldemort, and Dumbledore walk into a bar. She all raised his back to the stairs. \"The room actually seeing him and the same came back to the first time. I was not to train the pirent of the bit of the common room far as though he had taken ba\n",
            "generated sample\t Harry Potter, Voldemort, and Dumbledore walk into a bar. \"I think you want to do it, the car me and out the boy to started to have a good for once the train and the fat last three of them all to many three into the corner of the girlly through the bedore, b\n",
            "generated sample\t Harry Potter, Voldemort, and Dumbledore walk into a bar. And you can go back to the first thing all the parches. I supposed the mad measter to the first time and stuff at all to the common room and remember the portrait of the other of the corridor - and sa\n",
            "generated sample\t Harry Potter, Voldemort, and Dumbledore walk into a bar. of the light behind them and was a side of his common room under his back of his back. \"So the other first time about the air and staff at the surn of back to the Prophet mad to Harry, Potter,\" said H\n",
            "generated sample\t Harry Potter, Voldemort, and Dumbledore walk into a bar. \"It's a table in the school good this good at all.\" \"What are you'd be all right with him something to go to the dark and passed to the books. \"Well, that was a mouth of the cabing his came about a bo\n",
            "generated sample\t Harry Potter, Voldemort, and Dumbledore walk into a bar. \"You know what is it's about that you doing the back of the catch for the card to the state, of course and the first time with him and sounded the book of his way to the back of his case. \"Dou'll be a\n",
            "generated sample\t Harry Potter, Voldemort, and Dumbledore walk into a bar. they was still behind him to the stature and had seemed to kill not to take a least of the pitchen could feel into the back in the corridor to the last to the back of his trolling. \"So what you was al\n",
            "generated sample\t Harry Potter, Voldemort, and Dumbledore walk into a bar. The stared and flash other to the air at the fire to the bardorm. Harry and Harry could not move to be a strange glass on the stairs and started to the fire of the castle and the fact transforting the\n",
            "generated beam\t\t Harry Potter, Voldemort, and Dumbledore walk into a bar. Harry said to the start of the castle and the start of the card and said the start of the castle and the start of the card and said the start of the castle and the start of the card and said the start\n",
            "\n",
            "Saving final model\n",
            "Saved /content/logs/0.1/020.pt\n",
            "\n"
          ]
        },
        {
          "output_type": "display_data",
          "data": {
            "text/plain": [
              "<Figure size 1440x720 with 1 Axes>"
            ],
            "image/png": "[encoded data removed]"
          },
          "metadata": {
            "needs_background": "light"
          }
        },
        {
          "output_type": "display_data",
          "data": {
            "text/plain": [
              "<Figure size 1440x720 with 1 Axes>"
            ],
            "image/png": "[encoded data removed]"
          },
          "metadata": {
            "needs_background": "light"
          }
        },
        {
          "output_type": "display_data",
          "data": {
            "text/plain": [
              "<Figure size 1440x720 with 1 Axes>"
            ],
            "image/png": "[encoded data removed]"
          },
          "metadata": {
            "needs_background": "light"
          }
        },
        {
          "output_type": "display_data",
          "data": {
            "text/plain": [
              "<Figure size 1440x720 with 1 Axes>"
            ],
            "image/png": "[encoded data removed]"
          },
          "metadata": {
            "needs_background": "light"
          }
        },
        {
          "output_type": "display_data",
          "data": {
            "text/plain": [
              "<Figure size 1440x720 with 1 Axes>"
            ],
            "image/png": "[encoded data removed]"
          },
          "metadata": {
            "needs_background": "light"
          }
        },
        {
          "output_type": "stream",
          "name": "stdout",
          "text": [
            "Final test accuracy: 60.3093112244898\n",
            "Final test perplexity: 3.749268101584715\n"
          ]
        }
      ],
      "source": [
        "def main():\n",
        "    SEQUENCE_LENGTH = 100\n",
        "    BATCH_SIZE = 256\n",
        "    FEATURE_SIZE = 512\n",
        "    TEST_BATCH_SIZE = 256\n",
        "    EPOCHS = 20\n",
        "    LEARNING_RATE = 0.0005\n",
        "    WEIGHT_DECAY = 0.0005\n",
        "    USE_CUDA = True\n",
        "    PRINT_INTERVAL = 10\n",
        "    VERSION = '0.1'\n",
        "    LOG_PATH = DATA_PATH + 'logs/' + VERSION + '/'\n",
        "\n",
        "    data_train = HarryPotterDataset(DATA_PATH + 'harry_potter_chars_train.pkl', SEQUENCE_LENGTH, BATCH_SIZE)\n",
        "    data_test = HarryPotterDataset(DATA_PATH + 'harry_potter_chars_test.pkl', SEQUENCE_LENGTH, TEST_BATCH_SIZE)\n",
        "    vocab = data_train.vocab\n",
        "\n",
        "    use_cuda = USE_CUDA and torch.cuda.is_available()\n",
        "\n",
        "    device = torch.device(\"cuda\" if use_cuda else \"cpu\")\n",
        "    print('Using device', device)\n",
        "    import multiprocessing\n",
        "    num_workers = multiprocessing.cpu_count()\n",
        "    print('num workers:', num_workers)\n",
        "\n",
        "    kwargs = {'num_workers': num_workers,\n",
        "              'pin_memory': True} if use_cuda else {}\n",
        "\n",
        "    train_loader = torch.utils.data.DataLoader(data_train, batch_size=BATCH_SIZE,\n",
        "                                               shuffle=False, **kwargs)\n",
        "    test_loader = torch.utils.data.DataLoader(data_test, batch_size=TEST_BATCH_SIZE,\n",
        "                                              shuffle=False, **kwargs)\n",
        "\n",
        "    model = HarryPotterNet(data_train.vocab_size(), FEATURE_SIZE).to(device)\n",
        "\n",
        "    # Adam is an optimizer like SGD but a bit fancier. It tends to work faster and better than SGD.\n",
        "    # We will talk more about different optimization methods in class.\n",
        "    optimizer = optim.Adam(model.parameters(), lr=LEARNING_RATE, weight_decay=WEIGHT_DECAY)\n",
        "    start_epoch = model.load_last_model(LOG_PATH)\n",
        "\n",
        "    train_losses, test_losses, test_accuracies = pt_util.read_log(LOG_PATH + 'log.pkl', ([], [], []))\n",
        "    test_loss, test_accuracy = test(model, device, test_loader)\n",
        "\n",
        "    test_losses.append((start_epoch, test_loss))\n",
        "    test_accuracies.append((start_epoch, test_accuracy))\n",
        "\n",
        "    try:\n",
        "        for epoch in range(start_epoch, EPOCHS + 1):\n",
        "            lr = LEARNING_RATE * np.power(0.25, (int(epoch / 6)))\n",
        "            train_loss = train(model, device, optimizer, train_loader, lr, epoch, PRINT_INTERVAL)\n",
        "            test_loss, test_accuracy = test(model, device, test_loader)\n",
        "            train_losses.append((epoch, train_loss))\n",
        "            test_losses.append((epoch, test_loss))\n",
        "            test_accuracies.append((epoch, test_accuracy))\n",
        "            pt_util.write_log(LOG_PATH + 'log.pkl', (train_losses, test_losses, test_accuracies))\n",
        "            model.save_best_model(test_accuracy, LOG_PATH + '%03d.pt' % epoch)\n",
        "            seed_words = 'Harry Potter, Voldemort, and Dumbledore walk into a bar. '\n",
        "            generated_sentence = generate_language(model, device, seed_words, 200, vocab, 'max')\n",
        "            print('generated max\\t\\t', generated_sentence)\n",
        "            for ii in range(10):\n",
        "                generated_sentence = generate_language(model, device, seed_words, 200, vocab, 'sample')\n",
        "                print('generated sample\\t', generated_sentence)\n",
        "            generated_sentence = generate_language(model, device, seed_words, 200, vocab, 'beam')\n",
        "            print('generated beam\\t\\t', generated_sentence)\n",
        "            print('')\n",
        "\n",
        "    except KeyboardInterrupt as ke:\n",
        "        print('Interrupted')\n",
        "    except:\n",
        "        import traceback\n",
        "        traceback.print_exc()\n",
        "    finally:\n",
        "        print('Saving final model')\n",
        "        model.save_model(LOG_PATH + '%03d.pt' % epoch, 0)\n",
        "        ep, val = zip(*train_losses)\n",
        "        pt_util.plot(ep, val, 'Train loss', 'Epoch', 'Error')\n",
        "        train_perplexity = np.exp(val)\n",
        "        pt_util.plot(ep, train_perplexity, 'Train perplexity', 'Epoch', 'Perplexity')\n",
        "        ep, val = zip(*test_losses)\n",
        "        pt_util.plot(ep, val, 'Test loss', 'Epoch', 'Error')\n",
        "        test_perplexity = np.exp(val)\n",
        "        pt_util.plot(ep, test_perplexity, 'Test perplexity', 'Epoch', 'Perplexity')\n",
        "        ep, val = zip(*test_accuracies)\n",
        "        pt_util.plot(ep, val, 'Test accuracy', 'Epoch', 'Error')\n",
        "        train_losses, test_losses, test_accuracies = pt_util.read_log(LOG_PATH + 'log.pkl', ([], [], []))\n",
        "        print('Final test accuracy: {}'.format(test_accuracies[-1][1]))\n",
        "        print('Final test perplexity: {}'.format(test_perplexity[-1]))\n",
        "        return model, vocab, device\n",
        "\n",
        "final_model, vocab, device = main()"
      ]
    },
    {
      "cell_type": "markdown",
      "metadata": {
        "id": "r597GUTVjwZc"
      },
      "source": [
        "#Part 7: Experiments"
      ]
    },
    {
      "cell_type": "code",
      "execution_count": null,
      "metadata": {
        "colab": {
          "base_uri": "https://localhost:8080/"
        },
        "id": "zgLylYlp9kBK",
        "outputId": "086ca6cd-4d38-44ae-903f-9775a417da06"
      },
      "outputs": [
        {
          "output_type": "stream",
          "name": "stdout",
          "text": [
            "generated with max\t Harry laughed and started to the stairs and said, \"I think you want to be a lot of the catch of the castle and the start of the car of the castle and the start of the card of the castle and the start of the card a\n",
            "generated with sample\t Harry laughed and started to the stairs and said, \"I think you want to be a lot of the catch of the castle and the start of the car of the castle and the start of the card of the castle and the start of the card a\n",
            "generated with sample\t Harry laughed, and the start of the car to the corridor to the corridor to the corridor to the corridor to the corridor to the corridor to the corridor to the corridor to the corridor to the corridor to the corrid\n",
            "generated with sample\t Harry laughed, and the start of the car to the corridor to the corridor to the corridor to the corridor to the corridor to the corridor to the corridor to the corridor to the corridor to the corridor to the corrid\n",
            "generated with sample\t Harry laughed and started to the stairs and said, \"I think you want to be a lot of the catch of the castle and the start of the car of the castle and the start of the card of the castle and the start of the card a\n",
            "generated with sample\t Harry laughed and started to the stairs and said, \"I think you want to be a lot of the catch of the castle and the start of the car of the castle and the start of the card of the castle and the start of the card a\n",
            "generated with sample\t Harry laughed, and the start of the car to the corridor to the corridor to the corridor to the corridor to the corridor to the corridor to the corridor to the corridor to the corridor to the corridor to the corrid\n",
            "generated with sample\t Harry laughed and started to the stairs and said, \"I think you want to be a lot of the catch of the castle and the start of the car of the castle and the start of the card of the castle and the start of the card a\n",
            "generated with sample\t Harry laughed and started to the stairs and said, \"I think you want to be a lot of the catch of the castle and the start of the car of the castle and the start of the card of the castle and the start of the card a\n",
            "generated with sample\t Harry laughed and started to the stairs and said, \"I think you want to be a lot of the catch of the castle and the start of the car of the castle and the start of the card of the castle and the start of the card a\n",
            "generated with sample\t Harry laughed and started to the stairs and said, \"I think you want to be a lot of the catch of the castle and the start of the car of the castle and the start of the card of the castle and the start of the card a\n",
            "generated with beam\t Harry laughed and started to the stairs and said, \"I think you want to be a lot of the catch of the castle and the start of the car of the castle and the start of the card of the castle and the start of the card a\n",
            "generated with beam\t Harry laughed and started to the stairs and said, \"I think you want to be a lot of the catch of the castle and the start of the car of the castle and the start of the card of the castle and the start of the card a\n",
            "generated with beam\t Harry laughed and started to the stairs and said, \"I think you want to be a lot of the catch of the castle and the start of the car of the castle and the start of the card of the castle and the start of the card a\n",
            "generated with beam\t Harry laughed and started to the stairs and said, \"I think you want to be a lot of the catch of the castle and the start of the car of the castle and the start of the card of the castle and the start of the card a\n",
            "generated with beam\t Harry laughed and started to the stairs and said, \"I think you want to be a lot of the catch of the castle and the start of the car of the castle and the start of the card of the castle and the start of the card a\n",
            "generated with beam\t Harry laughed and started to the stairs and said, \"I think you want to be a lot of the catch of the castle and the start of the car of the castle and the start of the card of the castle and the start of the card a\n",
            "generated with beam\t Harry laughed and started to the stairs and said, \"I think you want to be a lot of the catch of the castle and the start of the car of the castle and the start of the card of the castle and the start of the card a\n",
            "generated with beam\t Harry laughed and started to the stairs and said, \"I think you want to be a lot of the catch of the castle and the start of the car of the castle and the start of the card of the castle and the start of the card a\n",
            "generated with beam\t Harry laughed and started to the stairs and said, \"I think you want to be a lot of the catch of the castle and the start of the car of the castle and the start of the card of the castle and the start of the card a\n",
            "generated with beam\t Harry laughed and started to the stairs and said, \"I think you want to be a lot of the catch of the castle and the start of the car of the castle and the start of the card of the castle and the start of the card a\n"
          ]
        }
      ],
      "source": [
        "def eval_final_model(model, vocab, device):\n",
        "    seed_words = 'Harry laughed'\n",
        "    sequence_length = 200\n",
        "\n",
        "    generated_sentence = generate_language(model, device, seed_words, sequence_length, vocab, 'max')\n",
        "    print('generated with max\\t', generated_sentence)\n",
        "\n",
        "    for ii in range(10):\n",
        "        generated_sentence = generate_language(model, device, seed_words, sequence_length, vocab, 'sample')\n",
        "        print('generated with sample\\t', generated_sentence)\n",
        "\n",
        "    for ii in range(10):\n",
        "        generated_sentence = generate_language(model, device, seed_words, sequence_length, vocab, 'beam')\n",
        "        print('generated with beam\\t', generated_sentence)\n",
        "\n",
        "eval_final_model(final_model, vocab, device)"
      ]
    },
    {
      "cell_type": "markdown",
      "metadata": {
        "id": "pn0RWPBFjzkP"
      },
      "source": [
        "#Part 8: Other things\n",
        "Choose **three** of the following to try. You should create new code cells below rather than modifying your earlier code:\n",
        "\n",
        "\n",
        "1. Train on a different text corpus. The corpus should be at least as large as the provided Harry Potter dataset.\n",
        "    - Options include other books, websites, tweets, wikipedia articles etc.\n",
        "    -  (Hint: this is probably the easiest one)\n",
        "1. Find a better network architecture. Some ideas:\n",
        "    - Look at the various options in https://pytorch.org/docs/stable/nn.html#torch.nn.GRU\n",
        "    - You can make the network wider or deeper.\n",
        "    - You can try to learn separate encoders and decoders.\n",
        "1. Use an LSTM instead of a GRU.\n",
        "    - https://pytorch.org/docs/stable/nn.html#torch.nn.LSTM\n",
        "    - The output of an LSTM is a hidden state **and** a cell state, so you will need to deal with a tuple instead of a single vector.\n",
        "1. Use a Transformer instead of a GRU.\n",
        "    - https://pytorch.org/docs/stable/nn.html#torch.nn.Transformer\n",
        "    - Be sure to get the masks right so you don't condition on the future characters: https://pytorch.org/docs/stable/nn.html#torch.nn.Transformer.generate_square_subsequent_mask may be of use.\n",
        "1. Train a model using student-forcing.\n",
        "    - You will have to modify the network inputs.\n",
        "    - You will need to use `torch.nn.GRUCell` and its like. https://pytorch.org/docs/stable/nn.html#grucell\n",
        "    - You cannot simply feed an empty string to start off a sequence. The sequence must be somehow conditioned on prior ground truth.\n",
        "1. Train a model on words instead of characters.\n",
        "    - You will need to redefine your input/output space vocabulary as well.\n",
        "    - You should replace any words that occur less than 5 times in the dataset with an <unknown\\> token. \n",
        "1. Write a new data loader which picks a random point in the text to start from and returns 10 consecutive sequences starting from that point onward. \n",
        "    - You should also modify the train and test functions to reset the memory when you reset the sequence.\n",
        "    - You should consider an epoch to be feeding in approximately the number of characters in the dataset.\n",
        "    - You may run into issues if your dataset size/epochs are not a multiple of your batch size.\n",
        "1. Train on sentences instead of one long sequence.\n",
        "    - You should still produce output character by character.\n",
        "    - Sentences can end with a . ! ?, but words like Mr. generally do not end a sentence.\n",
        "    - A sentence may also continue in the case of quotations. For example: ``\"Do your homework!\" said the TAs.`` is only one sentence.\n",
        "    - Your parsing does not have to be perfect, but try to incorporate as many of these rules as you can.\n",
        "    - Feel free to use existing NLP tools for finding sentence endings. One is spacy: https://spacy.io/usage/linguistic-features#section-sbd\n",
        "    - All sentences should end with an <eos\\> token. Your output sampling should now stop when it produces the <eos\\> token.\n",
        "\n"
      ]
    },
    {
      "cell_type": "markdown",
      "source": [
        "## Part 8.1 Train on different corpus: Lord of the Ring"
      ],
      "metadata": {
        "id": "71PU8Ni5ybyL"
      }
    },
    {
      "cell_type": "code",
      "source": [
        "import os\n",
        "BASE_PATH = '/gdrive/My Drive/colab_files/hw2/'\n",
        "if not os.path.exists(BASE_PATH):\n",
        "    os.makedirs(BASE_PATH)\n",
        "DATA_PATH = '/content/'\n",
        "\n",
        "if not os.path.exists(os.path.join(DATA_PATH, 'lotr.txt')):\n",
        "    os.chdir(BASE_PATH)\n",
        "    !cp lotr.txt /content\n",
        "os.chdir('/content')"
      ],
      "metadata": {
        "id": "cWlgsPGGya4s"
      },
      "execution_count": null,
      "outputs": []
    },
    {
      "cell_type": "code",
      "source": [
        "def prepare_data(data_path):\n",
        "    with open(data_path) as f:\n",
        "        # This reads all the data from the file, but does not do any processing on it.\n",
        "        data = f.read()\n",
        "\n",
        "    # TODO Add more preprocessing\n",
        "    data = re.sub(r'[\\r\\n\\t\\s]+',' ', data)\n",
        "    print(len(data))\n",
        "    \n",
        "    voc2ind = {}\n",
        "    i = 0\n",
        "\n",
        "    # Compute voc2ind and transform the data into an integer representation of the tokens.\n",
        "    for char in data:\n",
        "        if char not in voc2ind:\n",
        "            voc2ind[char] = i\n",
        "            i += 1\n",
        "\n",
        "    train_size = int(len(data) * 0.8)\n",
        "\n",
        "    ind2voc = {val: key for key, val in voc2ind.items()}\n",
        "\n",
        "    train_text = data[:train_size]\n",
        "    test_text = data[train_size:]\n",
        "\n",
        "    pickle.dump({'tokens': train_text, 'ind2voc': ind2voc, 'voc2ind':voc2ind}, open(DATA_PATH + 'lotr_chars_train.pkl', 'wb'))\n",
        "    pickle.dump({'tokens': test_text, 'ind2voc': ind2voc, 'voc2ind':voc2ind}, open(DATA_PATH + 'lotr_chars_test.pkl', 'wb'))\n",
        "\n",
        "prepare_data(DATA_PATH + 'lotr.txt')"
      ],
      "metadata": {
        "colab": {
          "base_uri": "https://localhost:8080/"
        },
        "id": "Z23TTHUYzn-O",
        "outputId": "7f6bd135-c539-4463-dcec-93fbad91d40e"
      },
      "execution_count": null,
      "outputs": [
        {
          "output_type": "stream",
          "name": "stdout",
          "text": [
            "2523660\n"
          ]
        }
      ]
    },
    {
      "cell_type": "code",
      "source": [
        "def main():\n",
        "    SEQUENCE_LENGTH = 100\n",
        "    BATCH_SIZE = 256\n",
        "    FEATURE_SIZE = 512\n",
        "    TEST_BATCH_SIZE = 256\n",
        "    EPOCHS = 25\n",
        "    LEARNING_RATE = 0.0005\n",
        "    WEIGHT_DECAY = 0.0005\n",
        "    USE_CUDA = True\n",
        "    PRINT_INTERVAL = 10\n",
        "    VERSION = '0.1'\n",
        "    LOG_PATH = DATA_PATH + 'logs/lotr/' + VERSION + '/'\n",
        "\n",
        "    data_train = HarryPotterDataset(DATA_PATH + 'lotr_chars_train.pkl', SEQUENCE_LENGTH, BATCH_SIZE)\n",
        "    data_test = HarryPotterDataset(DATA_PATH + 'lotr_chars_test.pkl', SEQUENCE_LENGTH, TEST_BATCH_SIZE)\n",
        "    vocab = data_train.vocab\n",
        "\n",
        "    use_cuda = USE_CUDA and torch.cuda.is_available()\n",
        "\n",
        "    device = torch.device(\"cuda\" if use_cuda else \"cpu\")\n",
        "    print('Using device', device)\n",
        "    import multiprocessing\n",
        "    num_workers = multiprocessing.cpu_count()\n",
        "    print('num workers:', num_workers)\n",
        "\n",
        "    kwargs = {'num_workers': num_workers,\n",
        "              'pin_memory': True} if use_cuda else {}\n",
        "\n",
        "    train_loader = torch.utils.data.DataLoader(data_train, batch_size=BATCH_SIZE,\n",
        "                                               shuffle=False, **kwargs)\n",
        "    test_loader = torch.utils.data.DataLoader(data_test, batch_size=TEST_BATCH_SIZE,\n",
        "                                              shuffle=False, **kwargs)\n",
        "\n",
        "    model = HarryPotterNet(data_train.vocab_size(), FEATURE_SIZE).to(device)\n",
        "\n",
        "    # Adam is an optimizer like SGD but a bit fancier. It tends to work faster and better than SGD.\n",
        "    # We will talk more about different optimization methods in class.\n",
        "    optimizer = optim.Adam(model.parameters(), lr=LEARNING_RATE, weight_decay=WEIGHT_DECAY)\n",
        "    start_epoch = model.load_last_model(LOG_PATH)\n",
        "\n",
        "    train_losses, test_losses, test_accuracies = pt_util.read_log(LOG_PATH + 'log.pkl', ([], [], []))\n",
        "    test_loss, test_accuracy = test(model, device, test_loader)\n",
        "\n",
        "    test_losses.append((start_epoch, test_loss))\n",
        "    test_accuracies.append((start_epoch, test_accuracy))\n",
        "\n",
        "    try:\n",
        "        for epoch in range(start_epoch, EPOCHS + 1):\n",
        "            lr = LEARNING_RATE * np.power(0.25, (int(epoch / 6)))\n",
        "            train_loss = train(model, device, optimizer, train_loader, lr, epoch, PRINT_INTERVAL)\n",
        "            test_loss, test_accuracy = test(model, device, test_loader)\n",
        "            train_losses.append((epoch, train_loss))\n",
        "            test_losses.append((epoch, test_loss))\n",
        "            test_accuracies.append((epoch, test_accuracy))\n",
        "            pt_util.write_log(LOG_PATH + 'log.pkl', (train_losses, test_losses, test_accuracies))\n",
        "            model.save_best_model(test_accuracy, LOG_PATH + '%03d.pt' % epoch)\n",
        "            seed_words = 'Legolas, Gandalf, and Frodo walk into a bar. '\n",
        "            generated_sentence = generate_language(model, device, seed_words, 200, vocab, 'max')\n",
        "            print('generated max\\t\\t', generated_sentence)\n",
        "            for ii in range(10):\n",
        "                generated_sentence = generate_language(model, device, seed_words, 200, vocab, 'sample')\n",
        "                print('generated sample\\t', generated_sentence)\n",
        "            generated_sentence = generate_language(model, device, seed_words, 200, vocab, 'beam')\n",
        "            print('generated beam\\t\\t', generated_sentence)\n",
        "            print('')\n",
        "\n",
        "    except KeyboardInterrupt as ke:\n",
        "        print('Interrupted')\n",
        "    except:\n",
        "        import traceback\n",
        "        traceback.print_exc()\n",
        "    finally:\n",
        "        print('Saving final model')\n",
        "        model.save_model(LOG_PATH + '%03d.pt' % epoch, 0)\n",
        "        ep, val = zip(*train_losses)\n",
        "        pt_util.plot(ep, val, 'Train loss', 'Epoch', 'Error')\n",
        "        train_perplexity = np.exp(val)\n",
        "        pt_util.plot(ep, train_perplexity, 'Train perplexity', 'Epoch', 'Perplexity')\n",
        "        ep, val = zip(*test_losses)\n",
        "        pt_util.plot(ep, val, 'Test loss', 'Epoch', 'Error')\n",
        "        test_perplexity = np.exp(val)\n",
        "        pt_util.plot(ep, test_perplexity, 'Test perplexity', 'Epoch', 'Perplexity')\n",
        "        ep, val = zip(*test_accuracies)\n",
        "        pt_util.plot(ep, val, 'Test accuracy', 'Epoch', 'Error')\n",
        "        train_losses, test_losses, test_accuracies = pt_util.read_log(LOG_PATH + 'log.pkl', ([], [], []))\n",
        "        print('Final test accuracy: {}'.format(test_accuracies[-1][1]))\n",
        "        print('Final test perplexity: {}'.format(test_perplexity[-1]))\n",
        "        return model, vocab, device\n",
        "\n",
        "final_model, vocab, device = main()"
      ],
      "metadata": {
        "colab": {
          "base_uri": "https://localhost:8080/",
          "height": 1000
        },
        "id": "YJoSTGOu0hoY",
        "outputId": "0328d5fb-9ad5-4293-fb88-14b8ab23ccd6"
      },
      "execution_count": null,
      "outputs": [
        {
          "output_type": "stream",
          "name": "stdout",
          "text": [
            "Using device cuda\n",
            "num workers: 2\n",
            "Restoring:\n",
            "encoder.weight -> \ttorch.Size([94, 512]) = 0MB\n",
            "gru.weight_ih_l0 -> \ttorch.Size([1536, 512]) = 3MB\n",
            "gru.weight_hh_l0 -> \ttorch.Size([1536, 512]) = 3MB\n",
            "gru.bias_ih_l0 -> \ttorch.Size([1536]) = 0MB\n",
            "gru.bias_hh_l0 -> \ttorch.Size([1536]) = 0MB\n",
            "decoder.weight -> \ttorch.Size([94, 512]) = 0MB\n",
            "decoder.bias -> \ttorch.Size([94]) = 0MB\n",
            "\n",
            "Restored all variables\n",
            "No new variables\n",
            "Restored /content/logs/lotr/0.1/020.pt\n",
            "Input\t'They said that he was dying,' he sighed, 'and now he is dead.' 'No,' said Pippin, 'not yet. And eve\n",
            "GT\tThey said that he was dying,' he sighed, 'and now he is dead.' 'No,' said Pippin, 'not yet. And even\n",
            "pred\t he  said that te was aoing   se sadhed. aand tot te ts teed.  'Io,  said Gippin. aaot tot  Ind tven\n",
            "\n",
            "\n",
            "Input\t which great fires leaped up between the walls. Yet it seemed strangely silent. No noise or shouts o\n",
            "GT\twhich great fires leaped up between the walls. Yet it seemed strangely silent. No noise or shouts of\n",
            "pred\ttieth treat sorsstoifdid ap tefween the titls  Tot tt weemed ttiange y atnentl Tottotse of ttorl  of\n",
            "\n",
            "\n",
            "\n",
            "Test set: Average loss: 1.3884, Accuracy: 295588/512000 (58%)\n",
            "\n"
          ]
        },
        {
          "output_type": "stream",
          "name": "stderr",
          "text": [
            "  1%|▏         | 1/79 [00:00<00:11,  6.91it/s]"
          ]
        },
        {
          "output_type": "stream",
          "name": "stdout",
          "text": [
            "Train Epoch: 20 [0/20224 (0%)]\tLoss: 1.355943\n"
          ]
        },
        {
          "output_type": "stream",
          "name": "stderr",
          "text": [
            " 16%|█▋        | 13/79 [00:01<00:05, 11.80it/s]"
          ]
        },
        {
          "output_type": "stream",
          "name": "stdout",
          "text": [
            "Train Epoch: 20 [2560/20224 (13%)]\tLoss: 1.520788\n"
          ]
        },
        {
          "output_type": "stream",
          "name": "stderr",
          "text": [
            " 29%|██▉       | 23/79 [00:01<00:04, 12.09it/s]"
          ]
        },
        {
          "output_type": "stream",
          "name": "stdout",
          "text": [
            "Train Epoch: 20 [5120/20224 (25%)]\tLoss: 1.394716\n"
          ]
        },
        {
          "output_type": "stream",
          "name": "stderr",
          "text": [
            " 42%|████▏     | 33/79 [00:02<00:03, 11.99it/s]"
          ]
        },
        {
          "output_type": "stream",
          "name": "stdout",
          "text": [
            "Train Epoch: 20 [7680/20224 (38%)]\tLoss: 1.370783\n"
          ]
        },
        {
          "output_type": "stream",
          "name": "stderr",
          "text": [
            " 54%|█████▍    | 43/79 [00:03<00:02, 12.33it/s]"
          ]
        },
        {
          "output_type": "stream",
          "name": "stdout",
          "text": [
            "Train Epoch: 20 [10240/20224 (51%)]\tLoss: 1.314355\n"
          ]
        },
        {
          "output_type": "stream",
          "name": "stderr",
          "text": [
            " 67%|██████▋   | 53/79 [00:04<00:02, 12.35it/s]"
          ]
        },
        {
          "output_type": "stream",
          "name": "stdout",
          "text": [
            "Train Epoch: 20 [12800/20224 (63%)]\tLoss: 1.320281\n"
          ]
        },
        {
          "output_type": "stream",
          "name": "stderr",
          "text": [
            " 80%|███████▉  | 63/79 [00:05<00:01, 12.17it/s]"
          ]
        },
        {
          "output_type": "stream",
          "name": "stdout",
          "text": [
            "Train Epoch: 20 [15360/20224 (76%)]\tLoss: 1.332876\n"
          ]
        },
        {
          "output_type": "stream",
          "name": "stderr",
          "text": [
            " 92%|█████████▏| 73/79 [00:06<00:00, 12.21it/s]"
          ]
        },
        {
          "output_type": "stream",
          "name": "stdout",
          "text": [
            "Train Epoch: 20 [17920/20224 (89%)]\tLoss: 1.352298\n"
          ]
        },
        {
          "output_type": "stream",
          "name": "stderr",
          "text": [
            "100%|██████████| 79/79 [00:06<00:00, 11.98it/s]\n"
          ]
        },
        {
          "output_type": "stream",
          "name": "stdout",
          "text": [
            "Input\t'They said that he was dying,' he sighed, 'and now he is dead.' 'No,' said Pippin, 'not yet. And eve\n",
            "GT\tThey said that he was dying,' he sighed, 'and now he is dead.' 'No,' said Pippin, 'not yet. And even\n",
            "pred\t he  waid thet te was aoing   se saghed. aand to  ae ws teed.  'Io,  said Gippin. 'aot tot  Ind tver\n",
            "\n",
            "\n",
            "Input\t which great fires leaped up between the walls. Yet it seemed strangely silent. No noise or shouts o\n",
            "GT\twhich great fires leaped up between the walls. Yet it seemed strangely silent. No noise or shouts of\n",
            "pred\ttheth treyt srrs toifded tp tefween the walls  Tot tt weemed ttoonge y atnent  Towaotse of teorl  of\n",
            "\n",
            "\n",
            "\n",
            "Test set: Average loss: 1.3639, Accuracy: 299544/512000 (59%)\n",
            "\n",
            "Saved /content/logs/lotr/0.1/020.pt\n",
            "\n",
            "generated max\t\t Legolas, Gandalf, and Frodo walk into a bar. But the way of the world was still and strong and the wind of the wind and the wind was still and strong the wind of the wind and the road the walls of the stone stone and stone and stone and stone an\n",
            "generated sample\t Legolas, Gandalf, and Frodo walk into a bar. Nor the road was his eyes. 'The no so that you were also my dead. I for it was all the dark to me, and the word of the men of more in the Elves, if they were meaning on the black and still and the lit\n",
            "generated sample\t Legolas, Gandalf, and Frodo walk into a bar. Dear the mountains of the Hoon and ways of the dark behind white and the boats of the water of the mountains wind. The sprang to his sword and stream in a stone shadow of the road before the hills of \n",
            "generated sample\t Legolas, Gandalf, and Frodo walk into a bar. `And he said the strong and with a few shall be with his singing stone him and he did not to the from the ground was stone and bent on the hills. The was was brought and far away in the end of a stone\n",
            "generated sample\t Legolas, Gandalf, and Frodo walk into a bar. The West of the Shire and the world of the Elves of the West of the end of the leader of the wild man and wastering in the dready was and clear in the wooden passed the long and stone was long in the \n",
            "generated sample\t Legolas, Gandalf, and Frodo walk into a bar. It was the first of the vallen before his eyes and he did not to speak the morning hobbits came the from the dark cold man see the trees of the middle of the Great for some of the Enemy of the Men of \n",
            "generated sample\t Legolas, Gandalf, and Frodo walk into a bar. `You do not think that I was there was a bright of that ran before the more of the story of the walls, and the only was silent by the ring of the ground ladden suddenly the bring his steep with far fr\n",
            "generated sample\t Legolas, Gandalf, and Frodo walk into a bar. He was still and leading before the way on the others lifted had much and the direct beyond the bear it trued stood still like a greet lives of the great before the felt of the long passed and slowly \n",
            "generated sample\t Legolas, Gandalf, and Frodo walk into a bar. Sam was the tream, and the strange the road of the woods about the road and clother of the long back and terror the watched his head and grew at the silence. The food and stood a straight. And the tre\n",
            "generated sample\t Legolas, Gandalf, and Frodo walk into a bar. 'There will not go when you are set of the doors on the memory of the seemed to me the west of the world, but he was and the dings of the banks of a road them the road of his left was and even bear th\n",
            "generated sample\t Legolas, Gandalf, and Frodo walk into a bar. I don't the Entwas to come to the ground of the Ents, and the wind a wide fall in the trees. The hobbits were the light of the hobbits were something and strong, exched the wall of the path were dista\n",
            "generated beam\t\t Legolas, Gandalf, and Frodo walk into a bar. But the way of the world was still and strong and the wind of the wind and the wind was still and strong the wind of the wind and the road the walls of the stone stone and stone and stone and stone an\n",
            "\n"
          ]
        },
        {
          "output_type": "stream",
          "name": "stderr",
          "text": [
            "  4%|▍         | 3/79 [00:00<00:08,  8.74it/s]"
          ]
        },
        {
          "output_type": "stream",
          "name": "stdout",
          "text": [
            "Train Epoch: 21 [0/20224 (0%)]\tLoss: 1.326896\n"
          ]
        },
        {
          "output_type": "stream",
          "name": "stderr",
          "text": [
            " 16%|█▋        | 13/79 [00:01<00:05, 11.75it/s]"
          ]
        },
        {
          "output_type": "stream",
          "name": "stdout",
          "text": [
            "Train Epoch: 21 [2560/20224 (13%)]\tLoss: 1.321776\n"
          ]
        },
        {
          "output_type": "stream",
          "name": "stderr",
          "text": [
            " 29%|██▉       | 23/79 [00:02<00:04, 12.08it/s]"
          ]
        },
        {
          "output_type": "stream",
          "name": "stdout",
          "text": [
            "Train Epoch: 21 [5120/20224 (25%)]\tLoss: 1.327033\n"
          ]
        },
        {
          "output_type": "stream",
          "name": "stderr",
          "text": [
            " 42%|████▏     | 33/79 [00:02<00:03, 11.90it/s]"
          ]
        },
        {
          "output_type": "stream",
          "name": "stdout",
          "text": [
            "Train Epoch: 21 [7680/20224 (38%)]\tLoss: 1.350798\n"
          ]
        },
        {
          "output_type": "stream",
          "name": "stderr",
          "text": [
            " 54%|█████▍    | 43/79 [00:03<00:03, 11.87it/s]"
          ]
        },
        {
          "output_type": "stream",
          "name": "stdout",
          "text": [
            "Train Epoch: 21 [10240/20224 (51%)]\tLoss: 1.309496\n"
          ]
        },
        {
          "output_type": "stream",
          "name": "stderr",
          "text": [
            " 67%|██████▋   | 53/79 [00:04<00:02, 11.86it/s]"
          ]
        },
        {
          "output_type": "stream",
          "name": "stdout",
          "text": [
            "Train Epoch: 21 [12800/20224 (63%)]\tLoss: 1.320759\n"
          ]
        },
        {
          "output_type": "stream",
          "name": "stderr",
          "text": [
            " 80%|███████▉  | 63/79 [00:05<00:01, 11.81it/s]"
          ]
        },
        {
          "output_type": "stream",
          "name": "stdout",
          "text": [
            "Train Epoch: 21 [15360/20224 (76%)]\tLoss: 1.336677\n"
          ]
        },
        {
          "output_type": "stream",
          "name": "stderr",
          "text": [
            " 92%|█████████▏| 73/79 [00:06<00:00, 11.92it/s]"
          ]
        },
        {
          "output_type": "stream",
          "name": "stdout",
          "text": [
            "Train Epoch: 21 [17920/20224 (89%)]\tLoss: 1.355363\n"
          ]
        },
        {
          "output_type": "stream",
          "name": "stderr",
          "text": [
            "100%|██████████| 79/79 [00:06<00:00, 11.68it/s]\n"
          ]
        },
        {
          "output_type": "stream",
          "name": "stdout",
          "text": [
            "Input\t'They said that he was dying,' he sighed, 'and now he is dead.' 'No,' said Pippin, 'not yet. And eve\n",
            "GT\tThey said that he was dying,' he sighed, 'and now he is dead.' 'No,' said Pippin, 'not yet. And even\n",
            "pred\t he  waid thet te was aoing   se saghed. aand to  ae ws aeed.  'Io,  said Gippin. 'aow tot  Ind Iven\n",
            "\n",
            "\n",
            "Input\t which great fires leaped up between the walls. Yet it seemed strangely silent. No noise or shouts o\n",
            "GT\twhich great fires leaped up between the walls. Yet it seemed strangely silent. No noise or shouts of\n",
            "pred\tteech treyt sorss ooaded tp tefween the wall   Tot tt weemed ttiange y atnentl Towaowse of woorle of\n",
            "\n",
            "\n",
            "\n",
            "Test set: Average loss: 1.3642, Accuracy: 299401/512000 (58%)\n",
            "\n",
            "generated max\t\t Legolas, Gandalf, and Frodo walk into a bar. But the way of the world and the way of the world and the walls of the world and the walls of the world and stone and stone and stone and stone and stone and stone and stone and stone and stone and st\n",
            "generated sample\t Legolas, Gandalf, and Frodo walk into a bar. `And we had been with men, and ever years and you may your may you done our follow every to say that we you are to come again to any rate, yet us in the morning. They were can of the must be the world\n",
            "generated sample\t Legolas, Gandalf, and Frodo walk into a bar. But the guess of the world and we shall be an until the enemy stars as the one of the guesses.' But when they seemed to say they were understand road the would be seen the came on the long before them\n",
            "generated sample\t Legolas, Gandalf, and Frodo walk into a bar. Then at last the wall of the stones of the well, and so they stood beds of the stone and his left hand been closing and up the steep soft was a stony and a stone and the slow the other side of the Ene\n",
            "generated sample\t Legolas, Gandalf, and Frodo walk into a bar. Merry and the looked as the ways of the countrains of the mountains of Elven and honour had come back grow and destrong. The Company was still they were shone and in the floors of the stone, and a the\n",
            "generated sample\t Legolas, Gandalf, and Frodo walk into a bar. 'The don't white and I said, 'that is in a conce of the morning were comes in longer and all enough. 'We have no did not go, and we leady to be could not be seen in the guess. On the was of Essing the\n",
            "generated sample\t Legolas, Gandalf, and Frodo walk into a bar. But in the master of the stones were in the boats of the Enemy, and for the one was gone in the west of them heavey of the Men of the Riders of the Shire, and they save the trees of the mountains of t\n",
            "generated sample\t Legolas, Gandalf, and Frodo walk into a bar. Black cried on the ground a great the other speed for some of the road and the beat went on the wind of the couth of the walls of the Onemy about the old man and of the road the strength under the hob\n",
            "generated sample\t Legolas, Gandalf, and Frodo walk into a bar. Merry and called the ling of the road and stone and the wind of the shadow of the westward streetice away went away the trees of the ground shining should and gathered beyond the sway that they were h\n",
            "generated sample\t Legolas, Gandalf, and Frodo walk into a bar. `We have been ware on the Sear, and the wind of the world of the Enemy and long ago, and we we upon the dark some were still and standing hobbits were slaped in a soft, and then come out of the hills \n",
            "generated sample\t Legolas, Gandalf, and Frodo walk into a bar. Boromir beds of the Orcs had been saw more, and he drawn in the hills of the woods were behind his hands of the stones, and the mountains of the fool of a while he was he was deadly and deep and the f\n",
            "generated beam\t\t Legolas, Gandalf, and Frodo walk into a bar. The others were still and stone and stone and stone and stone and stone and stone and stone and stone and stone and stone and stone and stone and stone and stone and stone and stone and stone and ston\n",
            "\n"
          ]
        },
        {
          "output_type": "stream",
          "name": "stderr",
          "text": [
            "  3%|▎         | 2/79 [00:00<00:11,  6.46it/s]"
          ]
        },
        {
          "output_type": "stream",
          "name": "stdout",
          "text": [
            "Train Epoch: 22 [0/20224 (0%)]\tLoss: 1.330760\n"
          ]
        },
        {
          "output_type": "stream",
          "name": "stderr",
          "text": [
            " 15%|█▌        | 12/79 [00:01<00:05, 11.54it/s]"
          ]
        },
        {
          "output_type": "stream",
          "name": "stdout",
          "text": [
            "Train Epoch: 22 [2560/20224 (13%)]\tLoss: 1.324082\n"
          ]
        },
        {
          "output_type": "stream",
          "name": "stderr",
          "text": [
            " 28%|██▊       | 22/79 [00:02<00:04, 11.81it/s]"
          ]
        },
        {
          "output_type": "stream",
          "name": "stdout",
          "text": [
            "Train Epoch: 22 [5120/20224 (25%)]\tLoss: 1.327864\n"
          ]
        },
        {
          "output_type": "stream",
          "name": "stderr",
          "text": [
            " 41%|████      | 32/79 [00:02<00:03, 11.76it/s]"
          ]
        },
        {
          "output_type": "stream",
          "name": "stdout",
          "text": [
            "Train Epoch: 22 [7680/20224 (38%)]\tLoss: 1.350492\n"
          ]
        },
        {
          "output_type": "stream",
          "name": "stderr",
          "text": [
            " 53%|█████▎    | 42/79 [00:03<00:03, 11.82it/s]"
          ]
        },
        {
          "output_type": "stream",
          "name": "stdout",
          "text": [
            "Train Epoch: 22 [10240/20224 (51%)]\tLoss: 1.309089\n"
          ]
        },
        {
          "output_type": "stream",
          "name": "stderr",
          "text": [
            " 66%|██████▌   | 52/79 [00:04<00:02, 11.76it/s]"
          ]
        },
        {
          "output_type": "stream",
          "name": "stdout",
          "text": [
            "Train Epoch: 22 [12800/20224 (63%)]\tLoss: 1.320345\n"
          ]
        },
        {
          "output_type": "stream",
          "name": "stderr",
          "text": [
            " 78%|███████▊  | 62/79 [00:05<00:01, 11.73it/s]"
          ]
        },
        {
          "output_type": "stream",
          "name": "stdout",
          "text": [
            "Train Epoch: 22 [15360/20224 (76%)]\tLoss: 1.337523\n"
          ]
        },
        {
          "output_type": "stream",
          "name": "stderr",
          "text": [
            " 91%|█████████ | 72/79 [00:06<00:00, 11.75it/s]"
          ]
        },
        {
          "output_type": "stream",
          "name": "stdout",
          "text": [
            "Train Epoch: 22 [17920/20224 (89%)]\tLoss: 1.353280\n"
          ]
        },
        {
          "output_type": "stream",
          "name": "stderr",
          "text": [
            "100%|██████████| 79/79 [00:06<00:00, 11.45it/s]\n"
          ]
        },
        {
          "output_type": "stream",
          "name": "stdout",
          "text": [
            "Input\t'They said that he was dying,' he sighed, 'and now he is dead.' 'No,' said Pippin, 'not yet. And eve\n",
            "GT\tThey said that he was dying,' he sighed, 'and now he is dead.' 'No,' said Pippin, 'not yet. And even\n",
            "pred\t he  waid that te was aoing   se saghed. aand to  ae ws aead   'Io,  said Gippin. 'aor tot  Ind Iven\n",
            "\n",
            "\n",
            "Input\t which great fires leaped up between the walls. Yet it seemed strangely silent. No noise or shouts o\n",
            "GT\twhich great fires leaped up between the walls. Yet it seemed strangely silent. No noise or shouts of\n",
            "pred\tteech taeat sorss oiaded ap aefween the wall   Tot tt weemed ttiange y atnent  Towaotse of woorl  of\n",
            "\n",
            "\n",
            "\n",
            "Test set: Average loss: 1.3646, Accuracy: 299128/512000 (58%)\n",
            "\n",
            "generated max\t\t Legolas, Gandalf, and Frodo walk into a bar. But the way of the world and stone and stone and stone and stone and stone and stone and stone and stone and stone and stone and stone and stone and stone and stone and stone and stone and stone and s\n",
            "generated sample\t Legolas, Gandalf, and Frodo walk into a bar. The same the one and they were painly and strange again the meaning a most for the Company that they had tenturned and still be deepeared by a strange the stones. Then they were all the sunses of the \n",
            "generated sample\t Legolas, Gandalf, and Frodo walk into a bar. `He has been set us and long again that was will far away you say that I wish a song. I will be like the toward you are your again, I think eyes that is it may be while,' said Saruman. 'But we shall s\n",
            "generated sample\t Legolas, Gandalf, and Frodo walk into a bar. He passed the words of the same of the pass that they were could and so under the road and rather something and straight a song shadow of the hobbits came to the hills. The gates of the hills head was\n",
            "generated sample\t Legolas, Gandalf, and Frodo walk into a bar. 'He had no need it is dead with him the Shire. Then he was the company on the trees and the silver than the dark was a wind in a large as the woods and still a song wall stood in the food and beast an\n",
            "generated sample\t Legolas, Gandalf, and Frodo walk into a bar. Sam in the middle of the horses of the Elves of the Bord of the Ents of Mordor, that we must strong as they saw that was such as he could do so it. There were only night the bear of the Ring of the Or\n",
            "generated sample\t Legolas, Gandalf, and Frodo walk into a bar. Frodo the last was a strange to the started. The found was still was silently the sound. They could not stay they had not seemed to be their own into a long passing stone. The stopped on a sight of hi\n",
            "generated sample\t Legolas, Gandalf, and Frodo walk into a bar. Qhere well the morning on the world and the country and gone of the waters of the black behind in a trace lay singing of the hobbits in the horn of the shadows of the hoors of them, and if you all the\n",
            "generated sample\t Legolas, Gandalf, and Frodo walk into a bar. The had no been to be all the west of any were before the road and the line of the great and well of the Entwash the woods and stood with a great horn. Then the last they were all the water blades of \n",
            "generated sample\t Legolas, Gandalf, and Frodo walk into a bar. 'There is son of the walls of the Gold under the men of the leaves of the streams. 'There is the words and the sunses of the Mountains, and then the beast all the saven of a stone. Then we can for a w\n",
            "generated sample\t Legolas, Gandalf, and Frodo walk into a bar. Gandalf was gone to go into the one of the song bent of the time of the gates of the stones were of the sunses. There was a stragge of the stars and the brodo did not speak and stone as they stood and\n",
            "generated beam\t\t Legolas, Gandalf, and Frodo walk into a bar. He was a strange to a strange that we can to the wind and the wind and the wind a wind a strange that we can to the stone and stone and stone and stone and stone and stone and stone and stone and ston\n",
            "\n"
          ]
        },
        {
          "output_type": "stream",
          "name": "stderr",
          "text": [
            "  3%|▎         | 2/79 [00:00<00:11,  6.61it/s]"
          ]
        },
        {
          "output_type": "stream",
          "name": "stdout",
          "text": [
            "Train Epoch: 23 [0/20224 (0%)]\tLoss: 1.332498\n"
          ]
        },
        {
          "output_type": "stream",
          "name": "stderr",
          "text": [
            " 15%|█▌        | 12/79 [00:01<00:05, 11.31it/s]"
          ]
        },
        {
          "output_type": "stream",
          "name": "stdout",
          "text": [
            "Train Epoch: 23 [2560/20224 (13%)]\tLoss: 1.321849\n"
          ]
        },
        {
          "output_type": "stream",
          "name": "stderr",
          "text": [
            " 28%|██▊       | 22/79 [00:02<00:04, 11.50it/s]"
          ]
        },
        {
          "output_type": "stream",
          "name": "stdout",
          "text": [
            "Train Epoch: 23 [5120/20224 (25%)]\tLoss: 1.328828\n"
          ]
        },
        {
          "output_type": "stream",
          "name": "stderr",
          "text": [
            " 41%|████      | 32/79 [00:02<00:04, 11.74it/s]"
          ]
        },
        {
          "output_type": "stream",
          "name": "stdout",
          "text": [
            "Train Epoch: 23 [7680/20224 (38%)]\tLoss: 1.348178\n"
          ]
        },
        {
          "output_type": "stream",
          "name": "stderr",
          "text": [
            " 53%|█████▎    | 42/79 [00:03<00:03, 11.71it/s]"
          ]
        },
        {
          "output_type": "stream",
          "name": "stdout",
          "text": [
            "Train Epoch: 23 [10240/20224 (51%)]\tLoss: 1.307678\n"
          ]
        },
        {
          "output_type": "stream",
          "name": "stderr",
          "text": [
            " 66%|██████▌   | 52/79 [00:04<00:02, 11.57it/s]"
          ]
        },
        {
          "output_type": "stream",
          "name": "stdout",
          "text": [
            "Train Epoch: 23 [12800/20224 (63%)]\tLoss: 1.319947\n"
          ]
        },
        {
          "output_type": "stream",
          "name": "stderr",
          "text": [
            " 78%|███████▊  | 62/79 [00:05<00:01, 11.61it/s]"
          ]
        },
        {
          "output_type": "stream",
          "name": "stdout",
          "text": [
            "Train Epoch: 23 [15360/20224 (76%)]\tLoss: 1.337451\n"
          ]
        },
        {
          "output_type": "stream",
          "name": "stderr",
          "text": [
            " 91%|█████████ | 72/79 [00:06<00:00, 11.64it/s]"
          ]
        },
        {
          "output_type": "stream",
          "name": "stdout",
          "text": [
            "Train Epoch: 23 [17920/20224 (89%)]\tLoss: 1.351675\n"
          ]
        },
        {
          "output_type": "stream",
          "name": "stderr",
          "text": [
            "100%|██████████| 79/79 [00:06<00:00, 11.35it/s]\n"
          ]
        },
        {
          "output_type": "stream",
          "name": "stdout",
          "text": [
            "Input\t'They said that he was dying,' he sighed, 'and now he is dead.' 'No,' said Pippin, 'not yet. And eve\n",
            "GT\tThey said that he was dying,' he sighed, 'and now he is dead.' 'No,' said Pippin, 'not yet. And even\n",
            "pred\t he  waid thet te was aoing   se saghed. aand to  ae ws aead   'Io,  said Gippin. 'aor tot  Ind Iven\n",
            "\n",
            "\n",
            "Input\t which great fires leaped up between the walls. Yet it seemed strangely silent. No noise or shouts o\n",
            "GT\twhich great fires leaped up between the walls. Yet it seemed strangely silent. No noise or shouts of\n",
            "pred\tteech taeat sorss oiaded ip aefween the sall   Tot tt weemed tliange y atnent  Towaotse of soarl  of\n",
            "\n",
            "\n",
            "\n",
            "Test set: Average loss: 1.3628, Accuracy: 299253/512000 (58%)\n",
            "\n",
            "generated max\t\t Legolas, Gandalf, and Frodo walk into a bar. But the stone was a strange that we can to the stone of the walls of the stones of the world and stone and stone and stone and stone and stone and stone and stone and stone and stone and stone and sto\n",
            "generated sample\t Legolas, Gandalf, and Frodo walk into a bar. Frodo sat upon it belied. 'Then we will go will be look in the one, we must go an end of the mistance. I will not go on either or many be and long as the forest of all loss to you. I will be the mean \n",
            "generated sample\t Legolas, Gandalf, and Frodo walk into a bar. The other stood his gathered in the slopes of the way. The was no long fell of the slopes of the land belong had been a stone stone behind the through the wall on the silence were to the hobbits. 'I a\n",
            "generated sample\t Legolas, Gandalf, and Frodo walk into a bar. `You have been my stream in a song of Boromir, the found a strange with the passed to the face of the trees of the farth and that and that he was they stood sat them and under the shadows of the dark \n",
            "generated sample\t Legolas, Gandalf, and Frodo walk into a bar. Then he was on the books of our faces of the hills of the fear of Gandalf laughed. The follow come of them beyond them to be a stone and as in the road to was the world of the Mark. The found a stone \n",
            "generated sample\t Legolas, Gandalf, and Frodo walk into a bar. Mordor and many you can to a some one that the foot offered the words and their own a dead sure of the Suncil of the fields of the long the road was on the Sark of the gloomed his side of the stone an\n",
            "generated sample\t Legolas, Gandalf, and Frodo walk into a bar. But I do not herege at least of the Prings of the western of the world and it seemed to me. I saw that will you will in the company on the guards of all the clouds and the rears of the gate of the hou\n",
            "generated sample\t Legolas, Gandalf, and Frodo walk into a bar. 'But if you think it was not go on forgetten to be one, and I am that he was a counting his left for better and before you seare to the wall of the Entwash for a while. I was silent to find about when\n",
            "generated sample\t Legolas, Gandalf, and Frodo walk into a bar. Sam came the path and stars of the Sountains, and then shadows like in the air stone, no doubt and looked and stumbling the road and slowly the foot of the hills and the waters of the opening of the w\n",
            "generated sample\t Legolas, Gandalf, and Frodo walk into a bar. But we must east to say you are that you are all that we could not go some one of a blue. In the name of the Lord of the Road talked and to the words of the trees and stones were gone, and the night w\n",
            "generated sample\t Legolas, Gandalf, and Frodo walk into a bar. Nate was a great of the mountains of the world of the Rimrodel. The said the stone was still and began to the stone, and the leaves of the strange closed and glass the hills and the swarves of the wal\n",
            "generated beam\t\t Legolas, Gandalf, and Frodo walk into a bar. The others were still and strange the stones of the stones of the stones of the stones of the stones of the stones of the stones of the stones of the stones of the stones of the stones of the stones o\n",
            "\n"
          ]
        },
        {
          "output_type": "stream",
          "name": "stderr",
          "text": [
            "  3%|▎         | 2/79 [00:00<00:12,  6.40it/s]"
          ]
        },
        {
          "output_type": "stream",
          "name": "stdout",
          "text": [
            "Train Epoch: 24 [0/20224 (0%)]\tLoss: 1.330696\n"
          ]
        },
        {
          "output_type": "stream",
          "name": "stderr",
          "text": [
            " 15%|█▌        | 12/79 [00:01<00:05, 11.24it/s]"
          ]
        },
        {
          "output_type": "stream",
          "name": "stdout",
          "text": [
            "Train Epoch: 24 [2560/20224 (13%)]\tLoss: 1.320508\n"
          ]
        },
        {
          "output_type": "stream",
          "name": "stderr",
          "text": [
            " 28%|██▊       | 22/79 [00:02<00:04, 11.58it/s]"
          ]
        },
        {
          "output_type": "stream",
          "name": "stdout",
          "text": [
            "Train Epoch: 24 [5120/20224 (25%)]\tLoss: 1.327733\n"
          ]
        },
        {
          "output_type": "stream",
          "name": "stderr",
          "text": [
            " 41%|████      | 32/79 [00:02<00:04, 11.44it/s]"
          ]
        },
        {
          "output_type": "stream",
          "name": "stdout",
          "text": [
            "Train Epoch: 24 [7680/20224 (38%)]\tLoss: 1.346959\n"
          ]
        },
        {
          "output_type": "stream",
          "name": "stderr",
          "text": [
            " 53%|█████▎    | 42/79 [00:03<00:03, 11.49it/s]"
          ]
        },
        {
          "output_type": "stream",
          "name": "stdout",
          "text": [
            "Train Epoch: 24 [10240/20224 (51%)]\tLoss: 1.306151\n"
          ]
        },
        {
          "output_type": "stream",
          "name": "stderr",
          "text": [
            " 66%|██████▌   | 52/79 [00:04<00:02, 11.43it/s]"
          ]
        },
        {
          "output_type": "stream",
          "name": "stdout",
          "text": [
            "Train Epoch: 24 [12800/20224 (63%)]\tLoss: 1.319044\n"
          ]
        },
        {
          "output_type": "stream",
          "name": "stderr",
          "text": [
            " 78%|███████▊  | 62/79 [00:05<00:01, 11.29it/s]"
          ]
        },
        {
          "output_type": "stream",
          "name": "stdout",
          "text": [
            "Train Epoch: 24 [15360/20224 (76%)]\tLoss: 1.335136\n"
          ]
        },
        {
          "output_type": "stream",
          "name": "stderr",
          "text": [
            " 91%|█████████ | 72/79 [00:06<00:00, 11.11it/s]"
          ]
        },
        {
          "output_type": "stream",
          "name": "stdout",
          "text": [
            "Train Epoch: 24 [17920/20224 (89%)]\tLoss: 1.348567\n"
          ]
        },
        {
          "output_type": "stream",
          "name": "stderr",
          "text": [
            "100%|██████████| 79/79 [00:07<00:00, 11.13it/s]\n"
          ]
        },
        {
          "output_type": "stream",
          "name": "stdout",
          "text": [
            "Input\t'They said that he was dying,' he sighed, 'and now he is dead.' 'No,' said Pippin, 'not yet. And eve\n",
            "GT\tThey said that he was dying,' he sighed, 'and now he is dead.' 'No,' said Pippin, 'not yet. And even\n",
            "pred\t he  waid thet te was aoing   se saghed. aand to  ae ws aeadl  'Io,  said Gippin. 'aot tot  Ind tven\n",
            "\n",
            "\n",
            "Input\t which great fires leaped up between the walls. Yet it seemed strangely silent. No noise or shouts o\n",
            "GT\twhich great fires leaped up between the walls. Yet it seemed strangely silent. No noise or shouts of\n",
            "pred\tteech taeat sorss oiaded ip aefween the sall   Tot tt weemed tliange y atnent  Towaotse of soorl  of\n",
            "\n",
            "\n",
            "\n",
            "Test set: Average loss: 1.3613, Accuracy: 299403/512000 (58%)\n",
            "\n",
            "generated max\t\t Legolas, Gandalf, and Frodo walk into a bar. But the stones of the wall of the stones of the walls of the stones of the stones of the stones of the stones of the stones of the stones of the stones of the stones of the stones of the stones of the\n",
            "generated sample\t Legolas, Gandalf, and Frodo walk into a bar. But they saw the air swords and the stars again, and the sun came that it was and the gate of his shadow passed into the boats of the straight falls and distanced before them in the stone. 'There is n\n",
            "generated sample\t Legolas, Gandalf, and Frodo walk into a bar. Glandil for a while and be made me to me the sound of Men of Gandalf the road that the Ents and the country starched in the Ring-trees and the leaves of the man in the nearly and far from the foots. T\n",
            "generated sample\t Legolas, Gandalf, and Frodo walk into a bar. (ut it were below the bank in the stones of the Road came the cloaks of the stones. A little was a belies of the air cloaks of the land beat well, they were conced them away the trees and slowly down \n",
            "generated sample\t Legolas, Gandalf, and Frodo walk into a bar. Bere lies fell slopes of the mountains, and the wind in the winding with their stream in signs of the beat of them. They stood eat the ground and the ground was still in the one and was still to the t\n",
            "generated sample\t Legolas, Gandalf, and Frodo walk into a bar. I spoke on the wind and fall strange that the sun rather stars and the strenge with his stones and stream they came to a clear and a long the battle of the dark of the trees of the road the trees and \n",
            "generated sample\t Legolas, Gandalf, and Frodo walk into a bar. At last something some of the spell of the foot, and the gate of the walls of the one of the stones of the sun rest stone the bears, they were them, and the food and stone and still be stone. 'Then it\n",
            "generated sample\t Legolas, Gandalf, and Frodo walk into a bar. And he was a starting man had been bearing long and the light of the gates of the land the beat of the story that ence. The was a stranged slowly astone and the boat stones and streams until the way o\n",
            "generated sample\t Legolas, Gandalf, and Frodo walk into a bar. Gollum came to say to all the sound of power in the Shire of the East. The night was be forest, and a long as they were away back to the way the occasion for a recorned in the dark and then sent follo\n",
            "generated sample\t Legolas, Gandalf, and Frodo walk into a bar. But the time has been for a while they were long to say in the dark road and fell as in the stones. The sides of the sun was no sound at the land stones and straight of the stone back to the hills of \n",
            "generated sample\t Legolas, Gandalf, and Frodo walk into a bar. Yest there a death of many sing, my long as soon as they had seen to say to be a strange was all the consider. 'What we me after the wind will next you and started and many start. I have done come at \n",
            "generated beam\t\t Legolas, Gandalf, and Frodo walk into a bar. The others were still and strange the stones of the stones of the stones of the stones of the stones of the stones of the stones of the stones of the stones of the stones of the stones of the stones o\n",
            "\n"
          ]
        },
        {
          "output_type": "stream",
          "name": "stderr",
          "text": [
            "  4%|▍         | 3/79 [00:00<00:09,  8.27it/s]"
          ]
        },
        {
          "output_type": "stream",
          "name": "stdout",
          "text": [
            "Train Epoch: 25 [0/20224 (0%)]\tLoss: 1.328833\n"
          ]
        },
        {
          "output_type": "stream",
          "name": "stderr",
          "text": [
            " 16%|█▋        | 13/79 [00:01<00:05, 11.19it/s]"
          ]
        },
        {
          "output_type": "stream",
          "name": "stdout",
          "text": [
            "Train Epoch: 25 [2560/20224 (13%)]\tLoss: 1.319431\n"
          ]
        },
        {
          "output_type": "stream",
          "name": "stderr",
          "text": [
            " 29%|██▉       | 23/79 [00:02<00:04, 11.42it/s]"
          ]
        },
        {
          "output_type": "stream",
          "name": "stdout",
          "text": [
            "Train Epoch: 25 [5120/20224 (25%)]\tLoss: 1.325513\n"
          ]
        },
        {
          "output_type": "stream",
          "name": "stderr",
          "text": [
            " 42%|████▏     | 33/79 [00:03<00:04, 11.42it/s]"
          ]
        },
        {
          "output_type": "stream",
          "name": "stdout",
          "text": [
            "Train Epoch: 25 [7680/20224 (38%)]\tLoss: 1.345747\n"
          ]
        },
        {
          "output_type": "stream",
          "name": "stderr",
          "text": [
            " 54%|█████▍    | 43/79 [00:03<00:03, 11.42it/s]"
          ]
        },
        {
          "output_type": "stream",
          "name": "stdout",
          "text": [
            "Train Epoch: 25 [10240/20224 (51%)]\tLoss: 1.303797\n"
          ]
        },
        {
          "output_type": "stream",
          "name": "stderr",
          "text": [
            " 67%|██████▋   | 53/79 [00:04<00:02, 11.17it/s]"
          ]
        },
        {
          "output_type": "stream",
          "name": "stdout",
          "text": [
            "Train Epoch: 25 [12800/20224 (63%)]\tLoss: 1.317114\n"
          ]
        },
        {
          "output_type": "stream",
          "name": "stderr",
          "text": [
            " 80%|███████▉  | 63/79 [00:05<00:01, 11.34it/s]"
          ]
        },
        {
          "output_type": "stream",
          "name": "stdout",
          "text": [
            "Train Epoch: 25 [15360/20224 (76%)]\tLoss: 1.332378\n"
          ]
        },
        {
          "output_type": "stream",
          "name": "stderr",
          "text": [
            " 92%|█████████▏| 73/79 [00:06<00:00, 11.25it/s]"
          ]
        },
        {
          "output_type": "stream",
          "name": "stdout",
          "text": [
            "Train Epoch: 25 [17920/20224 (89%)]\tLoss: 1.345606\n"
          ]
        },
        {
          "output_type": "stream",
          "name": "stderr",
          "text": [
            "100%|██████████| 79/79 [00:07<00:00, 11.12it/s]\n"
          ]
        },
        {
          "output_type": "stream",
          "name": "stdout",
          "text": [
            "Input\t'They said that he was dying,' he sighed, 'and now he is dead.' 'No,' said Pippin, 'not yet. And eve\n",
            "GT\tThey said that he was dying,' he sighed, 'and now he is dead.' 'No,' said Pippin, 'not yet. And even\n",
            "pred\t he  waid thet te was aoing   se saghed. aand to  ae ws aeadl  'Io,  said Gippin. 'aot tot  Ind tven\n",
            "\n",
            "\n",
            "Input\t which great fires leaped up between the walls. Yet it seemed strangely silent. No noise or shouts o\n",
            "GT\twhich great fires leaped up between the walls. Yet it seemed strangely silent. No noise or shouts of\n",
            "pred\tteech taeat sorss oiaded ip aefween the sall   Tot tt weemed tliange y atnent  Towaotse of soorl  af\n",
            "\n",
            "\n",
            "\n",
            "Test set: Average loss: 1.3594, Accuracy: 299655/512000 (59%)\n",
            "\n",
            "Saved /content/logs/lotr/0.1/025.pt\n",
            "\n",
            "generated max\t\t Legolas, Gandalf, and Frodo walk into a bar. But the stones of the wall of the stones of the stones of the stones of the stones of the stones of the stones of the stones of the stones of the stones of the stones of the stones of the stones of th\n",
            "generated sample\t Legolas, Gandalf, and Frodo walk into a bar. He had go to the master of the heart of the guesses of the Company of the stones at the enemy wall that the cool that they came to the battle, and the stone seemed to be the river of the way to him th\n",
            "generated sample\t Legolas, Gandalf, and Frodo walk into a bar. Men in the dark shore that save the Shire and the sound of the trees and stone and swiftly and straight and went them. Bemoved with a start fell spears and upon the light of the mountains in the sound\n",
            "generated sample\t Legolas, Gandalf, and Frodo walk into a bar. But they were all the same that the bank and eastern of his sword and it was and forgetting up the line of dark some silver and the mountains of the ground behind in the fall. They had seen in the hil\n",
            "generated sample\t Legolas, Gandalf, and Frodo walk into a bar. At last he can to a long in the creature of comes among the shadows of the land was in the road beyond the sun and stone them the end of his swords were stone. There was a strange long and sloped on a\n",
            "generated sample\t Legolas, Gandalf, and Frodo walk into a bar. I have been a more of forgotten enemy that is was to see the others and that I can singer than the Shire is against and the night in the way that it was in the me, and I am in the forest of the path H\n",
            "generated sample\t Legolas, Gandalf, and Frodo walk into a bar. I am to go on a forgotten the mountains. The signs of the sound of the world and stars were also and straight have been much and a stars. Then the hollow in the will began to wall and the stones and t\n",
            "generated sample\t Legolas, Gandalf, and Frodo walk into a bar. Meary set out of the father of the world and strange too them the way of the great part of the path west of the fall, and their suddenly bears and the path and the land stood in the stone came a glast\n",
            "generated sample\t Legolas, Gandalf, and Frodo walk into a bar. it was all the came the river of the Elves of the country as the hand of the Orcs of the Reen of the Enemy. I will not on the country songs and the fathers should entered it. We had such a sound the s\n",
            "generated sample\t Legolas, Gandalf, and Frodo walk into a bar. The forest seemed to a strange that were long ago a long far away. And he had been standing in the sound of the lands and there and the stones. The shining was still stars and there was gone. They saw\n",
            "generated sample\t Legolas, Gandalf, and Frodo walk into a bar. And in a wind of stone, and they were shall sides of the new feel to the crowless of the trees and songs and slowly at the back of the stones. They were looked up the stone seemed on the stones of the\n",
            "generated beam\t\t Legolas, Gandalf, and Frodo walk into a bar. The others were still and strange the stones of the stones of the stones of the stones. The was still and stone and stone and stone and stone and stone and stone and stone and stone and stone and ston\n",
            "\n",
            "Saving final model\n",
            "Saved /content/logs/lotr/0.1/025.pt\n",
            "\n"
          ]
        },
        {
          "output_type": "display_data",
          "data": {
            "text/plain": [
              "<Figure size 1440x720 with 1 Axes>"
            ],
            "image/png": "[encoded data removed]"
          },
          "metadata": {
            "needs_background": "light"
          }
        },
        {
          "output_type": "display_data",
          "data": {
            "text/plain": [
              "<Figure size 1440x720 with 1 Axes>"
            ],
            "image/png": "[encoded data removed]"
          },
          "metadata": {
            "needs_background": "light"
          }
        },
        {
          "output_type": "display_data",
          "data": {
            "text/plain": [
              "<Figure size 1440x720 with 1 Axes>"
            ],
            "image/png": "[encoded data removed]"
          },
          "metadata": {
            "needs_background": "light"
          }
        },
        {
          "output_type": "display_data",
          "data": {
            "text/plain": [
              "<Figure size 1440x720 with 1 Axes>"
            ],
            "image/png": "[encoded data removed]"
          },
          "metadata": {
            "needs_background": "light"
          }
        },
        {
          "output_type": "display_data",
          "data": {
            "text/plain": [
              "<Figure size 1440x720 with 1 Axes>"
            ],
            "image/png": "[encoded data removed]"
          },
          "metadata": {
            "needs_background": "light"
          }
        },
        {
          "output_type": "stream",
          "name": "stdout",
          "text": [
            "Final test accuracy: 58.5263671875\n",
            "Final test perplexity: 3.8938302857247784\n"
          ]
        }
      ]
    },
    {
      "cell_type": "code",
      "source": [
        "def eval_final_model(model, vocab, device):\n",
        "    seed_words = 'Frodo laughed '\n",
        "    sequence_length = 200\n",
        "\n",
        "    generated_sentence = generate_language(model, device, seed_words, sequence_length, vocab, 'max')\n",
        "    print('generated with max\\t', generated_sentence)\n",
        "\n",
        "    for ii in range(10):\n",
        "        generated_sentence = generate_language(model, device, seed_words, sequence_length, vocab, 'sample')\n",
        "        print('generated with sample\\t', generated_sentence)\n",
        "\n",
        "    for ii in range(10):\n",
        "        generated_sentence = generate_language(model, device, seed_words, sequence_length, vocab, 'beam')\n",
        "        print('generated with beam\\t', generated_sentence)\n",
        "\n",
        "eval_final_model(final_model, vocab, device)"
      ],
      "metadata": {
        "colab": {
          "base_uri": "https://localhost:8080/"
        },
        "id": "heYbCPgA3LX3",
        "outputId": "7a65daa4-62c8-4fb9-f51e-188a6261ac54"
      },
      "execution_count": null,
      "outputs": [
        {
          "output_type": "stream",
          "name": "stdout",
          "text": [
            "generated with max\t Frodo laughed and the stars and the trees of the trees. Then they stood and the light of the stones of the trees of the trees. Then they stood and the strange the trees of the trees of the trees. Then they stood an\n",
            "generated with sample\t Frodo laughed like and bottle. Then sprang to the trees and the trees of the swords of the Stone. Shad of the booth watchful stood light of the mountains, and then they had the land in the forest had been the Ming-\n",
            "generated with sample\t Frodo laughed his long and then clear them to the White is and the right and fallen, and then it was a faint that they were stringing to be seen in the trees. They were on the fire that it was still the stars, they\n",
            "generated with sample\t Frodo laughed like a wood and all hobbits to the booth of the house of the ground and the road and growing the trees were the slow and the side of the battle of the ground with the restern shadow in the trees. They\n",
            "generated with sample\t Frodo laughed and gone. He can to the light of the trees and the strength the streat and and they came to the their looked and the dark and then they arched the stones and strangers of the Elves of the chairt of th\n",
            "generated with sample\t Frodo laughed him that was they went on the Shire, and the hobbits of the path. The road the light the steaming and then they stood steems of the stones and the doors of the land they gave and the mountains of the \n",
            "generated with sample\t Frodo laughed the trees of the path. The sunlight like a strange to the Mountains, the trees came of the darkness of the bottom the shadows of the first of the great brooked and they were the light to the stars. An\n",
            "generated with sample\t Frodo laughed them, they could be seen and the light of the Elves. Then the darkness of the dark that clear below them to side the trees. 'O foot know the time, and then and it is not for the Hoom, and watched in t\n",
            "generated with sample\t Frodo laughed and started and then suddenly the tunnel that the land the mountains. There was a light and the light of the strength of the strangers were mountains. And the road and they came to the foot of them. T\n",
            "generated with sample\t Frodo laughed and strong the bowl. He was a still and the watched of the Mordor. `I the trees of the Ring they were there than that day they lieved in the slope of the comes of them. But they were not to the set of\n",
            "generated with sample\t Frodo laughed to starmed and the trees and the turned and bowed him that they had been the darkness of the lands. Then he looked at the enemies of the trees like a strange to the top of the water the start. Then he\n",
            "generated with beam\t Frodo laughed and the stars and the trees of the trees. Then they stood and the light of the stones of the trees of the trees. Then they stood and the strange the trees of the trees of the trees. Then they stood an\n",
            "generated with beam\t Frodo laughed and the stars and the trees of the trees. Then they stood and the light of the stones of the trees of the trees. Then they stood and the strange the trees of the trees of the trees. Then they stood an\n",
            "generated with beam\t Frodo laughed and the stars and the trees of the trees. Then they stood and the light of the stones of the trees of the trees. Then they stood and the strange the trees of the trees of the trees. Then they stood an\n",
            "generated with beam\t Frodo laughed and the stars and the trees of the trees. Then they stood and the light of the stones of the trees of the trees. Then they stood and the strange the trees of the trees of the trees. Then they stood an\n",
            "generated with beam\t Frodo laughed and the stars and the trees of the trees. Then they stood and the light of the stones of the trees of the trees. Then they stood and the strange the trees of the trees of the trees. Then they stood an\n",
            "generated with beam\t Frodo laughed and the stars and the trees of the trees. Then they stood and the light of the stones of the trees of the trees. Then they stood and the strange the trees of the trees of the trees. Then they stood an\n",
            "generated with beam\t Frodo laughed and the stars and the trees of the trees. Then they stood and the light of the stones of the trees of the trees. Then they stood and the strange the trees of the trees of the trees. Then they stood an\n",
            "generated with beam\t Frodo laughed and the stars and the trees of the trees. Then they stood and the light of the stones of the trees of the trees. Then they stood and the strange the trees of the trees of the trees. Then they stood an\n",
            "generated with beam\t Frodo laughed and the stars and the trees of the trees. Then they stood and the light of the stones of the trees of the trees. Then they stood and the strange the trees of the trees of the trees. Then they stood an\n",
            "generated with beam\t Frodo laughed and the stars and the trees of the trees. Then they stood and the light of the stones of the trees of the trees. Then they stood and the strange the trees of the trees of the trees. Then they stood an\n"
          ]
        }
      ]
    },
    {
      "cell_type": "markdown",
      "source": [
        "## Part 8.3 LSTM"
      ],
      "metadata": {
        "id": "xQ4jkqd5z3fj"
      }
    },
    {
      "cell_type": "code",
      "source": [
        "TEMPERATURE = 0.5\n",
        "\n",
        "class HarryPotterNet(nn.Module):\n",
        "    def __init__(self, vocab_size, feature_size):\n",
        "        super(HarryPotterNet, self).__init__()\n",
        "        self.vocab_size = vocab_size\n",
        "        self.feature_size = feature_size\n",
        "        self.encoder = nn.Embedding(self.vocab_size, self.feature_size)\n",
        "        self.lstm = nn.LSTM(self.feature_size, self.feature_size, batch_first=True)\n",
        "        self.decoder = nn.Linear(self.feature_size, self.vocab_size)\n",
        "        \n",
        "        # This shares the encoder and decoder weights as described in lecture.\n",
        "        self.decoder.weight = self.encoder.weight\n",
        "        self.decoder.bias.data.zero_()\n",
        "        \n",
        "        self.best_accuracy = -1\n",
        "    \n",
        "    def forward(self, x, hidden_state=None):\n",
        "        batch_size = x.shape[0]\n",
        "        sequence_length = x.shape[1]\n",
        "        \n",
        "        # TODO finish defining the forward pass.\n",
        "        # You should return the output from the decoder as well as the hidden state given by the gru.\n",
        "        x = self.encoder(x)\n",
        "        x, hidden_state = self.lstm(x, hidden_state)\n",
        "        x = self.decoder(x)\n",
        "\n",
        "        return x, hidden_state\n",
        "\n",
        "    # This defines the function that gives a probability distribution and implements the temperature computation.\n",
        "    def inference(self, x, hidden_state=None, temperature=1):\n",
        "        x = x.view(-1, 1)\n",
        "        x, hidden_state = self.forward(x, hidden_state)\n",
        "        x = x.view(1, -1)\n",
        "        x = x / max(temperature, 1e-20)\n",
        "        x = F.softmax(x, dim=1)\n",
        "        return x, hidden_state\n",
        "\n",
        "    # Predefined loss function\n",
        "    def loss(self, prediction, label, reduction='mean'):\n",
        "        loss_val = F.cross_entropy(prediction.view(-1, self.vocab_size), label.view(-1), reduction=reduction)\n",
        "        return loss_val\n",
        "\n",
        "    # Saves the current model\n",
        "    def save_model(self, file_path, num_to_keep=1):\n",
        "        pt_util.save(self, file_path, num_to_keep)\n",
        "\n",
        "    # Saves the best model so far\n",
        "    def save_best_model(self, accuracy, file_path, num_to_keep=1):\n",
        "        if accuracy > self.best_accuracy:\n",
        "            self.save_model(file_path, num_to_keep)\n",
        "            self.best_accuracy = accuracy\n",
        "\n",
        "    def load_model(self, file_path):\n",
        "        pt_util.restore(self, file_path)\n",
        "\n",
        "    def load_last_model(self, dir_path):\n",
        "        return pt_util.restore_latest(self, dir_path)"
      ],
      "metadata": {
        "id": "T0QTWYNdz9jU"
      },
      "execution_count": 20,
      "outputs": []
    },
    {
      "cell_type": "code",
      "source": [
        "def main():\n",
        "    SEQUENCE_LENGTH = 100\n",
        "    BATCH_SIZE = 256\n",
        "    FEATURE_SIZE = 512\n",
        "    TEST_BATCH_SIZE = 256\n",
        "    EPOCHS = 25\n",
        "    LEARNING_RATE = 0.0005\n",
        "    WEIGHT_DECAY = 0.0005\n",
        "    USE_CUDA = True\n",
        "    PRINT_INTERVAL = 10\n",
        "    VERSION = '0.3'\n",
        "    LOG_PATH = DATA_PATH + 'logs/' + VERSION + '/'\n",
        "\n",
        "    data_train = HarryPotterDataset(DATA_PATH + 'harry_potter_chars_train.pkl', SEQUENCE_LENGTH, BATCH_SIZE)\n",
        "    data_test = HarryPotterDataset(DATA_PATH + 'harry_potter_chars_test.pkl', SEQUENCE_LENGTH, TEST_BATCH_SIZE)\n",
        "    vocab = data_train.vocab\n",
        "\n",
        "    use_cuda = USE_CUDA and torch.cuda.is_available()\n",
        "\n",
        "    device = torch.device(\"cuda\" if use_cuda else \"cpu\")\n",
        "    print('Using device', device)\n",
        "    import multiprocessing\n",
        "    num_workers = multiprocessing.cpu_count()\n",
        "    print('num workers:', num_workers)\n",
        "\n",
        "    kwargs = {'num_workers': num_workers,\n",
        "              'pin_memory': True} if use_cuda else {}\n",
        "\n",
        "    train_loader = torch.utils.data.DataLoader(data_train, batch_size=BATCH_SIZE,\n",
        "                                               shuffle=False, **kwargs)\n",
        "    test_loader = torch.utils.data.DataLoader(data_test, batch_size=TEST_BATCH_SIZE,\n",
        "                                              shuffle=False, **kwargs)\n",
        "\n",
        "    model = HarryPotterNet(data_train.vocab_size(), FEATURE_SIZE).to(device)\n",
        "\n",
        "    # Adam is an optimizer like SGD but a bit fancier. It tends to work faster and better than SGD.\n",
        "    # We will talk more about different optimization methods in class.\n",
        "    optimizer = optim.Adam(model.parameters(), lr=LEARNING_RATE, weight_decay=WEIGHT_DECAY)\n",
        "    start_epoch = model.load_last_model(LOG_PATH)\n",
        "\n",
        "    train_losses, test_losses, test_accuracies = pt_util.read_log(LOG_PATH + 'log.pkl', ([], [], []))\n",
        "    test_loss, test_accuracy = test(model, device, test_loader)\n",
        "\n",
        "    test_losses.append((start_epoch, test_loss))\n",
        "    test_accuracies.append((start_epoch, test_accuracy))\n",
        "\n",
        "    try:\n",
        "        for epoch in range(start_epoch, EPOCHS + 1):\n",
        "            lr = LEARNING_RATE * np.power(0.25, (int(epoch / 6)))\n",
        "            train_loss = train(model, device, optimizer, train_loader, lr, epoch, PRINT_INTERVAL)\n",
        "            test_loss, test_accuracy = test(model, device, test_loader)\n",
        "            train_losses.append((epoch, train_loss))\n",
        "            test_losses.append((epoch, test_loss))\n",
        "            test_accuracies.append((epoch, test_accuracy))\n",
        "            pt_util.write_log(LOG_PATH + 'log.pkl', (train_losses, test_losses, test_accuracies))\n",
        "            model.save_best_model(test_accuracy, LOG_PATH + '%03d.pt' % epoch)\n",
        "            seed_words = 'Harry Potter, Voldemort, and Dumbledore walk into a bar. '\n",
        "            generated_sentence = generate_language(model, device, seed_words, 200, vocab, 'max')\n",
        "            print('generated max\\t\\t', generated_sentence)\n",
        "            for ii in range(10):\n",
        "                generated_sentence = generate_language(model, device, seed_words, 200, vocab, 'sample')\n",
        "                print('generated sample\\t', generated_sentence)\n",
        "            generated_sentence = generate_language(model, device, seed_words, 200, vocab, 'beam')\n",
        "            print('generated beam\\t\\t', generated_sentence)\n",
        "            print('')\n",
        "\n",
        "    except KeyboardInterrupt as ke:\n",
        "        print('Interrupted')\n",
        "    except:\n",
        "        import traceback\n",
        "        traceback.print_exc()\n",
        "    finally:\n",
        "        print('Saving final model')\n",
        "        model.save_model(LOG_PATH + '%03d.pt' % epoch, 0)\n",
        "        ep, val = zip(*train_losses)\n",
        "        pt_util.plot(ep, val, 'Train loss', 'Epoch', 'Error')\n",
        "        train_perplexity = np.exp(val)\n",
        "        pt_util.plot(ep, train_perplexity, 'Train perplexity', 'Epoch', 'Perplexity')\n",
        "        ep, val = zip(*test_losses)\n",
        "        pt_util.plot(ep, val, 'Test loss', 'Epoch', 'Error')\n",
        "        test_perplexity = np.exp(val)\n",
        "        pt_util.plot(ep, test_perplexity, 'Test perplexity', 'Epoch', 'Perplexity')\n",
        "        ep, val = zip(*test_accuracies)\n",
        "        pt_util.plot(ep, val, 'Test accuracy', 'Epoch', 'Error')\n",
        "        train_losses, test_losses, test_accuracies = pt_util.read_log(LOG_PATH + 'log.pkl', ([], [], []))\n",
        "        print('Final test accuracy: {}'.format(test_accuracies[-1][1]))\n",
        "        print('Final test perplexity: {}'.format(test_perplexity[-1]))\n",
        "        return model, vocab, device\n",
        "\n",
        "final_model, vocab, device = main()"
      ],
      "metadata": {
        "colab": {
          "base_uri": "https://localhost:8080/",
          "height": 1000
        },
        "id": "X791M4SD0VoZ",
        "outputId": "5f5731f9-7015-4a3b-d5c2-32b0be2547bb"
      },
      "execution_count": 24,
      "outputs": [
        {
          "output_type": "stream",
          "name": "stdout",
          "text": [
            "Using device cuda\n",
            "num workers: 2\n",
            "Restoring:\n",
            "encoder.weight -> \ttorch.Size([89, 512]) = 0MB\n",
            "lstm.weight_ih_l0 -> \ttorch.Size([2048, 512]) = 4MB\n",
            "lstm.weight_hh_l0 -> \ttorch.Size([2048, 512]) = 4MB\n",
            "lstm.bias_ih_l0 -> \ttorch.Size([2048]) = 0MB\n",
            "lstm.bias_hh_l0 -> \ttorch.Size([2048]) = 0MB\n",
            "decoder.weight -> \ttorch.Size([89, 512]) = 0MB\n",
            "decoder.bias -> \ttorch.Size([89]) = 0MB\n",
            "\n",
            "Restored all variables\n",
            "No new variables\n",
            "Restored /content/logs/0.3/020.pt\n",
            "Input\t great sigh and leaned against the cavern wall. \"I am weak...\" he said. \"Don't worry, sir,\" said Har\n",
            "GT\tgreat sigh and leaned against the cavern wall. \"I am weak...\" he said. \"Don't worry, sir,\" said Harr\n",
            "pred\ttoeet ttlntand soavtd ttain,t the care ieoisk  \"I tm selri .  \"e said  \"Iun't yarry  Ior,\" said Harr\n",
            "\n",
            "\n",
            "Input\tossed the outer cave, and Harry helped Dumbledore back into the icy seawater that filled the crevice\n",
            "GT\tssed the outer cave, and Harry helped Dumbledore back into the icy seawater that filled the crevice \n",
            "pred\tssed the stt r oore  and tarry saaded humbledore aeck tnto the cne ttet.rid ahan henl d the caoaeoe \n",
            "\n",
            "\n",
            "Input\tvering and dripping in the middle of the dark High Street in Hogsmeade. For one horrible moment Harr\n",
            "GT\tering and dripping in the middle of the dark High Street in Hogsmeade. For one horrible moment Harry\n",
            "pred\tering and sianping hn the caddle of the cark aagh anueet an tagwmeade  \"ir tne oeurible sirent tarry\n",
            "\n",
            "\n",
            "Input\thelp, but there was nobody to be seen and all he could think was that he must somehow get Dumbledore\n",
            "GT\telp, but there was nobody to be seen and all he could think was that he must somehow get Dumbledore \n",
            "pred\tirp  aut the e was aotody to se aoen tnd t l ti would heink hhs ahet te wist beme ow tot oumbledore \n",
            "\n",
            "\n",
            "Input\to - but what's wrong with Albus?' She came to a halt, panting, and stared down, wide-eyed, at Dumble\n",
            "GT\t - but what's wrong with Albus?' She came to a halt, panting, and stared down, wide-eyed, at Dumbled\n",
            "pred\t d-aet thet s thong tith tnlus \" sne sane to sssalf  best ng  tnd thurtd aown  ahte \"ded  wn tumbled\n",
            "\n",
            "\n",
            "\n",
            "Test set: Average loss: 1.3321, Accuracy: 754849/1254400 (60%)\n",
            "\n"
          ]
        },
        {
          "output_type": "stream",
          "name": "stderr",
          "text": [
            "  1%|          | 1/195 [00:00<00:34,  5.70it/s]"
          ]
        },
        {
          "output_type": "stream",
          "name": "stdout",
          "text": [
            "Train Epoch: 20 [0/49920 (0%)]\tLoss: 1.329613\n"
          ]
        },
        {
          "output_type": "stream",
          "name": "stderr",
          "text": [
            "  6%|▌         | 12/195 [00:01<00:20,  8.89it/s]"
          ]
        },
        {
          "output_type": "stream",
          "name": "stdout",
          "text": [
            "Train Epoch: 20 [2560/49920 (5%)]\tLoss: 1.339620\n"
          ]
        },
        {
          "output_type": "stream",
          "name": "stderr",
          "text": [
            " 11%|█▏        | 22/195 [00:02<00:19,  8.93it/s]"
          ]
        },
        {
          "output_type": "stream",
          "name": "stdout",
          "text": [
            "Train Epoch: 20 [5120/49920 (10%)]\tLoss: 1.315157\n"
          ]
        },
        {
          "output_type": "stream",
          "name": "stderr",
          "text": [
            " 16%|█▋        | 32/195 [00:03<00:18,  8.87it/s]"
          ]
        },
        {
          "output_type": "stream",
          "name": "stdout",
          "text": [
            "Train Epoch: 20 [7680/49920 (15%)]\tLoss: 1.318840\n"
          ]
        },
        {
          "output_type": "stream",
          "name": "stderr",
          "text": [
            " 22%|██▏       | 42/195 [00:04<00:17,  8.85it/s]"
          ]
        },
        {
          "output_type": "stream",
          "name": "stdout",
          "text": [
            "Train Epoch: 20 [10240/49920 (21%)]\tLoss: 1.296316\n"
          ]
        },
        {
          "output_type": "stream",
          "name": "stderr",
          "text": [
            " 27%|██▋       | 52/195 [00:05<00:16,  8.72it/s]"
          ]
        },
        {
          "output_type": "stream",
          "name": "stdout",
          "text": [
            "Train Epoch: 20 [12800/49920 (26%)]\tLoss: 1.285942\n"
          ]
        },
        {
          "output_type": "stream",
          "name": "stderr",
          "text": [
            " 32%|███▏      | 62/195 [00:07<00:15,  8.62it/s]"
          ]
        },
        {
          "output_type": "stream",
          "name": "stdout",
          "text": [
            "Train Epoch: 20 [15360/49920 (31%)]\tLoss: 1.300938\n"
          ]
        },
        {
          "output_type": "stream",
          "name": "stderr",
          "text": [
            " 37%|███▋      | 72/195 [00:08<00:14,  8.67it/s]"
          ]
        },
        {
          "output_type": "stream",
          "name": "stdout",
          "text": [
            "Train Epoch: 20 [17920/49920 (36%)]\tLoss: 1.297344\n"
          ]
        },
        {
          "output_type": "stream",
          "name": "stderr",
          "text": [
            " 42%|████▏     | 82/195 [00:09<00:12,  8.70it/s]"
          ]
        },
        {
          "output_type": "stream",
          "name": "stdout",
          "text": [
            "Train Epoch: 20 [20480/49920 (41%)]\tLoss: 1.287447\n"
          ]
        },
        {
          "output_type": "stream",
          "name": "stderr",
          "text": [
            " 47%|████▋     | 92/195 [00:10<00:11,  8.65it/s]"
          ]
        },
        {
          "output_type": "stream",
          "name": "stdout",
          "text": [
            "Train Epoch: 20 [23040/49920 (46%)]\tLoss: 1.295091\n"
          ]
        },
        {
          "output_type": "stream",
          "name": "stderr",
          "text": [
            " 52%|█████▏    | 102/195 [00:11<00:10,  8.58it/s]"
          ]
        },
        {
          "output_type": "stream",
          "name": "stdout",
          "text": [
            "Train Epoch: 20 [25600/49920 (51%)]\tLoss: 1.298357\n"
          ]
        },
        {
          "output_type": "stream",
          "name": "stderr",
          "text": [
            " 57%|█████▋    | 112/195 [00:12<00:09,  8.49it/s]"
          ]
        },
        {
          "output_type": "stream",
          "name": "stdout",
          "text": [
            "Train Epoch: 20 [28160/49920 (56%)]\tLoss: 1.286517\n"
          ]
        },
        {
          "output_type": "stream",
          "name": "stderr",
          "text": [
            " 63%|██████▎   | 122/195 [00:14<00:08,  8.54it/s]"
          ]
        },
        {
          "output_type": "stream",
          "name": "stdout",
          "text": [
            "Train Epoch: 20 [30720/49920 (62%)]\tLoss: 1.300203\n"
          ]
        },
        {
          "output_type": "stream",
          "name": "stderr",
          "text": [
            " 68%|██████▊   | 132/195 [00:15<00:07,  8.46it/s]"
          ]
        },
        {
          "output_type": "stream",
          "name": "stdout",
          "text": [
            "Train Epoch: 20 [33280/49920 (67%)]\tLoss: 1.315110\n"
          ]
        },
        {
          "output_type": "stream",
          "name": "stderr",
          "text": [
            " 73%|███████▎  | 142/195 [00:16<00:06,  8.56it/s]"
          ]
        },
        {
          "output_type": "stream",
          "name": "stdout",
          "text": [
            "Train Epoch: 20 [35840/49920 (72%)]\tLoss: 1.313632\n"
          ]
        },
        {
          "output_type": "stream",
          "name": "stderr",
          "text": [
            " 78%|███████▊  | 152/195 [00:17<00:05,  8.35it/s]"
          ]
        },
        {
          "output_type": "stream",
          "name": "stdout",
          "text": [
            "Train Epoch: 20 [38400/49920 (77%)]\tLoss: 1.301725\n"
          ]
        },
        {
          "output_type": "stream",
          "name": "stderr",
          "text": [
            " 83%|████████▎ | 162/195 [00:18<00:03,  8.51it/s]"
          ]
        },
        {
          "output_type": "stream",
          "name": "stdout",
          "text": [
            "Train Epoch: 20 [40960/49920 (82%)]\tLoss: 1.284747\n"
          ]
        },
        {
          "output_type": "stream",
          "name": "stderr",
          "text": [
            " 88%|████████▊ | 172/195 [00:19<00:02,  8.26it/s]"
          ]
        },
        {
          "output_type": "stream",
          "name": "stdout",
          "text": [
            "Train Epoch: 20 [43520/49920 (87%)]\tLoss: 1.279265\n"
          ]
        },
        {
          "output_type": "stream",
          "name": "stderr",
          "text": [
            " 93%|█████████▎| 182/195 [00:21<00:01,  8.17it/s]"
          ]
        },
        {
          "output_type": "stream",
          "name": "stdout",
          "text": [
            "Train Epoch: 20 [46080/49920 (92%)]\tLoss: 1.282740\n"
          ]
        },
        {
          "output_type": "stream",
          "name": "stderr",
          "text": [
            " 98%|█████████▊| 192/195 [00:22<00:00,  8.31it/s]"
          ]
        },
        {
          "output_type": "stream",
          "name": "stdout",
          "text": [
            "Train Epoch: 20 [48640/49920 (97%)]\tLoss: 1.301195\n"
          ]
        },
        {
          "output_type": "stream",
          "name": "stderr",
          "text": [
            "100%|██████████| 195/195 [00:22<00:00,  8.58it/s]\n"
          ]
        },
        {
          "output_type": "stream",
          "name": "stdout",
          "text": [
            "Input\t great sigh and leaned against the cavern wall. \"I am weak...\" he said. \"Don't worry, sir,\" said Har\n",
            "GT\tgreat sigh and leaned against the cavern wall. \"I am weak...\" he said. \"Don't worry, sir,\" said Harr\n",
            "pred\ttooet stlntand soavid ttainst the sose seoisk  \"I tm selri .  \"e said  \"Iun't yarry  Ior,\" said Harr\n",
            "\n",
            "\n",
            "Input\tossed the outer cave, and Harry helped Dumbledore back into the icy seawater that filled the crevice\n",
            "GT\tssed the outer cave, and Harry helped Dumbledore back into the icy seawater that filled the crevice \n",
            "pred\tssed the stt r oore  and sarry saaded humbledore aeck tnto the cne ttat.rid ahat hrrled the sooaeoe \n",
            "\n",
            "\n",
            "Input\tvering and dripping in the middle of the dark High Street in Hogsmeade. For one horrible moment Harr\n",
            "GT\tering and dripping in the middle of the dark High Street in Hogsmeade. For one horrible moment Harry\n",
            "pred\tering and soanping hn the caddle of the cork aash anueet an tagwmeade  \"ir tne oeurible sorent tarry\n",
            "\n",
            "\n",
            "Input\thelp, but there was nobody to be seen and all he could think was that he must somehow get Dumbledore\n",
            "GT\telp, but there was nobody to be seen and all he could think was that he must somehow get Dumbledore \n",
            "pred\tirp  hut hhe e was aotody ao se aoen tnd s l tirwould heink hhs ahet te wist heme ow tot tumbledore \n",
            "\n",
            "\n",
            "Input\to - but what's wrong with Albus?' She came to a halt, panting, and stared down, wide-eyed, at Dumble\n",
            "GT\t - but what's wrong with Albus?' She came to a halt, panting, and stared down, wide-eyed, at Dumbled\n",
            "pred\t t-aut that s thong tith tllus \" sne sone to t sanf  busting  tnd taartd aown  ahte eded  hn tumbled\n",
            "\n",
            "\n",
            "\n",
            "Test set: Average loss: 1.3136, Accuracy: 761460/1254400 (61%)\n",
            "\n",
            "Saved /content/logs/0.3/020.pt\n",
            "\n",
            "generated max\t\t Harry Potter, Voldemort, and Dumbledore walk into a bar. \"What do you think you want to be a lot of the start of the start of the start of the start of the start of the start of the start of the first time to the start of the first time to the start of the \n",
            "generated sample\t Harry Potter, Voldemort, and Dumbledore walk into a bar. \"I was just think that is a matter of the last Sneeles, he said, \"Professor McGonagall is as though I was the morning something of the chance of the first wish after all the thing of the presents to c\n",
            "generated sample\t Harry Potter, Voldemort, and Dumbledore walk into a bar. \"Well, that was a particularly spells of the table and sat down at his bodges and from the staring boulder at the prophecy had was words to the way and stretched up the students. \"What's that he was a\n",
            "generated sample\t Harry Potter, Voldemort, and Dumbledore walk into a bar. \"What's the morning, he must do it, that's not to have a say what we're going to say a single less and like the door at the castle to you the Minister of My fingers in the tries. I want to tell you to\n",
            "generated sample\t Harry Potter, Voldemort, and Dumbledore walk into a bar. \"I could be able they, and well like a long ways and the water when to see them out of the body of the tried and her wand and shouted as though it was a start of his parchment, still staring to the wa\n",
            "generated sample\t Harry Potter, Voldemort, and Dumbledore walk into a bar. The moment the might have a tight began to the Mrs. Weasley. \"Leash you get up to the light, Professor McGonagall, then you've got to be the Mard and for them what he realized that he was all printed \n",
            "generated sample\t Harry Potter, Voldemort, and Dumbledore walk into a bar. I don't have been the rest of the fire, said Sirius all the first too as he falling the windows. She was along as he surprised a toot of the stairs and started at the fire. \"He thought what had expect\n",
            "generated sample\t Harry Potter, Voldemort, and Dumbledore walk into a bar. of his school black read at his father and said, \"I think I'm an instruction to the castle, but he could have been them on the trust in the moment that it was heading it out of the first time as thoug\n",
            "generated sample\t Harry Potter, Voldemort, and Dumbledore walk into a bar. Dumbledore would say that he was sure that the matter of what are you think they had seen his magical best the back of them. Dumbledore was sure that he was studing the first thing that the windows ha\n",
            "generated sample\t Harry Potter, Voldemort, and Dumbledore walk into a bar. I see that the class still stopped in the end of the other so that the bad in his side, but he was the first times and bent so full of the bell was full of the staff to the air and started to reminder\n",
            "generated sample\t Harry Potter, Voldemort, and Dumbledore walk into a bar. Weasley slightly from the end of the scar or was a curse that he had gotten the air that he had to say that he was still gust in the screet stretched out of the wand that the stuff where they were now\n",
            "generated beam\t\t Harry Potter, Voldemort, and Dumbledore walk into a bar. \"What do you think you want to be a lot of the start of the start of the start of the start of the start of the start of the start of the first time to the first time to the start of the first time to\n",
            "\n"
          ]
        },
        {
          "output_type": "stream",
          "name": "stderr",
          "text": [
            "  1%|          | 2/195 [00:00<00:34,  5.57it/s]"
          ]
        },
        {
          "output_type": "stream",
          "name": "stdout",
          "text": [
            "Train Epoch: 21 [0/49920 (0%)]\tLoss: 1.311364\n"
          ]
        },
        {
          "output_type": "stream",
          "name": "stderr",
          "text": [
            "  6%|▌         | 12/195 [00:01<00:21,  8.49it/s]"
          ]
        },
        {
          "output_type": "stream",
          "name": "stdout",
          "text": [
            "Train Epoch: 21 [2560/49920 (5%)]\tLoss: 1.312018\n"
          ]
        },
        {
          "output_type": "stream",
          "name": "stderr",
          "text": [
            " 11%|█▏        | 22/195 [00:02<00:19,  8.71it/s]"
          ]
        },
        {
          "output_type": "stream",
          "name": "stdout",
          "text": [
            "Train Epoch: 21 [5120/49920 (10%)]\tLoss: 1.305827\n"
          ]
        },
        {
          "output_type": "stream",
          "name": "stderr",
          "text": [
            " 16%|█▋        | 32/195 [00:03<00:18,  8.72it/s]"
          ]
        },
        {
          "output_type": "stream",
          "name": "stdout",
          "text": [
            "Train Epoch: 21 [7680/49920 (15%)]\tLoss: 1.317384\n"
          ]
        },
        {
          "output_type": "stream",
          "name": "stderr",
          "text": [
            " 22%|██▏       | 42/195 [00:04<00:17,  8.73it/s]"
          ]
        },
        {
          "output_type": "stream",
          "name": "stdout",
          "text": [
            "Train Epoch: 21 [10240/49920 (21%)]\tLoss: 1.297671\n"
          ]
        },
        {
          "output_type": "stream",
          "name": "stderr",
          "text": [
            " 27%|██▋       | 52/195 [00:06<00:16,  8.62it/s]"
          ]
        },
        {
          "output_type": "stream",
          "name": "stdout",
          "text": [
            "Train Epoch: 21 [12800/49920 (26%)]\tLoss: 1.286654\n"
          ]
        },
        {
          "output_type": "stream",
          "name": "stderr",
          "text": [
            " 32%|███▏      | 62/195 [00:07<00:15,  8.80it/s]"
          ]
        },
        {
          "output_type": "stream",
          "name": "stdout",
          "text": [
            "Train Epoch: 21 [15360/49920 (31%)]\tLoss: 1.301702\n"
          ]
        },
        {
          "output_type": "stream",
          "name": "stderr",
          "text": [
            " 37%|███▋      | 72/195 [00:08<00:14,  8.61it/s]"
          ]
        },
        {
          "output_type": "stream",
          "name": "stdout",
          "text": [
            "Train Epoch: 21 [17920/49920 (36%)]\tLoss: 1.297886\n"
          ]
        },
        {
          "output_type": "stream",
          "name": "stderr",
          "text": [
            " 42%|████▏     | 82/195 [00:09<00:12,  8.70it/s]"
          ]
        },
        {
          "output_type": "stream",
          "name": "stdout",
          "text": [
            "Train Epoch: 21 [20480/49920 (41%)]\tLoss: 1.288535\n"
          ]
        },
        {
          "output_type": "stream",
          "name": "stderr",
          "text": [
            " 47%|████▋     | 92/195 [00:10<00:11,  8.66it/s]"
          ]
        },
        {
          "output_type": "stream",
          "name": "stdout",
          "text": [
            "Train Epoch: 21 [23040/49920 (46%)]\tLoss: 1.296033\n"
          ]
        },
        {
          "output_type": "stream",
          "name": "stderr",
          "text": [
            " 52%|█████▏    | 102/195 [00:11<00:10,  8.69it/s]"
          ]
        },
        {
          "output_type": "stream",
          "name": "stdout",
          "text": [
            "Train Epoch: 21 [25600/49920 (51%)]\tLoss: 1.298681\n"
          ]
        },
        {
          "output_type": "stream",
          "name": "stderr",
          "text": [
            " 57%|█████▋    | 112/195 [00:13<00:09,  8.56it/s]"
          ]
        },
        {
          "output_type": "stream",
          "name": "stdout",
          "text": [
            "Train Epoch: 21 [28160/49920 (56%)]\tLoss: 1.286587\n"
          ]
        },
        {
          "output_type": "stream",
          "name": "stderr",
          "text": [
            " 63%|██████▎   | 122/195 [00:14<00:08,  8.59it/s]"
          ]
        },
        {
          "output_type": "stream",
          "name": "stdout",
          "text": [
            "Train Epoch: 21 [30720/49920 (62%)]\tLoss: 1.300544\n"
          ]
        },
        {
          "output_type": "stream",
          "name": "stderr",
          "text": [
            " 68%|██████▊   | 132/195 [00:15<00:07,  8.51it/s]"
          ]
        },
        {
          "output_type": "stream",
          "name": "stdout",
          "text": [
            "Train Epoch: 21 [33280/49920 (67%)]\tLoss: 1.315622\n"
          ]
        },
        {
          "output_type": "stream",
          "name": "stderr",
          "text": [
            " 73%|███████▎  | 142/195 [00:16<00:06,  8.47it/s]"
          ]
        },
        {
          "output_type": "stream",
          "name": "stdout",
          "text": [
            "Train Epoch: 21 [35840/49920 (72%)]\tLoss: 1.315112\n"
          ]
        },
        {
          "output_type": "stream",
          "name": "stderr",
          "text": [
            " 78%|███████▊  | 152/195 [00:17<00:04,  8.67it/s]"
          ]
        },
        {
          "output_type": "stream",
          "name": "stdout",
          "text": [
            "Train Epoch: 21 [38400/49920 (77%)]\tLoss: 1.304280\n"
          ]
        },
        {
          "output_type": "stream",
          "name": "stderr",
          "text": [
            " 83%|████████▎ | 162/195 [00:18<00:03,  8.71it/s]"
          ]
        },
        {
          "output_type": "stream",
          "name": "stdout",
          "text": [
            "Train Epoch: 21 [40960/49920 (82%)]\tLoss: 1.286766\n"
          ]
        },
        {
          "output_type": "stream",
          "name": "stderr",
          "text": [
            " 88%|████████▊ | 172/195 [00:20<00:02,  8.67it/s]"
          ]
        },
        {
          "output_type": "stream",
          "name": "stdout",
          "text": [
            "Train Epoch: 21 [43520/49920 (87%)]\tLoss: 1.281289\n"
          ]
        },
        {
          "output_type": "stream",
          "name": "stderr",
          "text": [
            " 93%|█████████▎| 182/195 [00:21<00:01,  8.64it/s]"
          ]
        },
        {
          "output_type": "stream",
          "name": "stdout",
          "text": [
            "Train Epoch: 21 [46080/49920 (92%)]\tLoss: 1.282453\n"
          ]
        },
        {
          "output_type": "stream",
          "name": "stderr",
          "text": [
            " 98%|█████████▊| 192/195 [00:22<00:00,  8.66it/s]"
          ]
        },
        {
          "output_type": "stream",
          "name": "stdout",
          "text": [
            "Train Epoch: 21 [48640/49920 (97%)]\tLoss: 1.300685\n"
          ]
        },
        {
          "output_type": "stream",
          "name": "stderr",
          "text": [
            "100%|██████████| 195/195 [00:22<00:00,  8.58it/s]\n"
          ]
        },
        {
          "output_type": "stream",
          "name": "stdout",
          "text": [
            "Input\t great sigh and leaned against the cavern wall. \"I am weak...\" he said. \"Don't worry, sir,\" said Har\n",
            "GT\tgreat sigh and leaned against the cavern wall. \"I am weak...\" he said. \"Don't worry, sir,\" said Harr\n",
            "pred\ttooet ttlntand soavtd ttainst the fose ieoisk  \"I tm shlri .  \"e said  \"Iun't yarry  Ior,\" said Harr\n",
            "\n",
            "\n",
            "Input\tossed the outer cave, and Harry helped Dumbledore back into the icy seawater that filled the crevice\n",
            "GT\tssed the outer cave, and Harry helped Dumbledore back into the icy seawater that filled the crevice \n",
            "pred\tssed the stt r oore  and tarry saaded humbledore aeck tnto the cne ttat.rid ahat honled the sooaeoe \n",
            "\n",
            "\n",
            "Input\tvering and dripping in the middle of the dark High Street in Hogsmeade. For one horrible moment Harr\n",
            "GT\tering and dripping in the middle of the dark High Street in Hogsmeade. For one horrible moment Harry\n",
            "pred\tering and soanping tt the caddle of the cork aash anueet an tagwmeade  \"ir tne oeurible sorent tarry\n",
            "\n",
            "\n",
            "Input\thelp, but there was nobody to be seen and all he could think was that he must somehow get Dumbledore\n",
            "GT\telp, but there was nobody to be seen and all he could think was that he must somehow get Dumbledore \n",
            "pred\tirp  hut hhe e was aotody to te aoen tnd t l tirwould heink ths ahet te wist heme ow tot tumbledore \n",
            "\n",
            "\n",
            "Input\to - but what's wrong with Albus?' She came to a halt, panting, and stared down, wide-eyed, at Dumble\n",
            "GT\t - but what's wrong with Albus?' She came to a halt, panting, and stared down, wide-eyed, at Dumbled\n",
            "pred\t t-aut that s thong tith tllus \" sne sone to t sanf  busting  tnd thartd aown  ahte eded  hn tumbled\n",
            "\n",
            "\n",
            "\n",
            "Test set: Average loss: 1.3140, Accuracy: 761168/1254400 (61%)\n",
            "\n",
            "generated max\t\t Harry Potter, Voldemort, and Dumbledore walk into a bar. \"What do you think they were all right,\" said Harry, staring at the start of the start of the corridor to the fire and started to the start of the start of the corridor to the fire and started to the \n",
            "generated sample\t Harry Potter, Voldemort, and Dumbledore walk into a bar. \"What happened?\" said Harry, staring at Harry and he was stuffing to the castle through the corridor to the broom with her from the staff and still started to be sitting in his hand, which seemed to s\n",
            "generated sample\t Harry Potter, Voldemort, and Dumbledore walk into a bar. A struck of the windows for the silver window was before the room streeting a hundred of the room when he had not said that he could have been a long back to the first time. He had been being from a l\n",
            "generated sample\t Harry Potter, Voldemort, and Dumbledore walk into a bar. I started to be asked... I you got to the morning of the carding the making the truth about his cauldron with them and he had been troubled and a little and straighten in the moment they was the room \n",
            "generated sample\t Harry Potter, Voldemort, and Dumbledore walk into a bar. He had had to the out of the small very more around the start of the charm of his ward and stared of his trunk and he had no learned from the cared and summer and distangered by the street of the back\n",
            "generated sample\t Harry Potter, Voldemort, and Dumbledore walk into a bar. Lupin the place had been a very back to the match, but he said in his handles. \"It don't want to him in the room when they were to the list of the should say and go on, the Mrriendans when Harry shoul\n",
            "generated sample\t Harry Potter, Voldemort, and Dumbledore walk into a bar. \"What want to tell him, for they can to the statter, 's it?\" \"That was your more,\" said Harry firmly, \"but it was a horrible to since he's going to make the matters of the Ministry into the others and\n",
            "generated sample\t Harry Potter, Voldemort, and Dumbledore walk into a bar. \"Neville,\" said Harry in an one of the thing stare at the fire was a book of the puttering sprant on the castle master as they were all signced in his back as they down't hear them shortly started, \"w\n",
            "generated sample\t Harry Potter, Voldemort, and Dumbledore walk into a bar. Malfoy looked as though he had been starting to the office. \"We'll tell that that Harry was the window where they were back to the mouth of the back of the back lesson Harry to the sign of the prophec\n",
            "generated sample\t Harry Potter, Voldemort, and Dumbledore walk into a bar. of his head and studdents and showed another second in the only began to his black and a castle of the students from the floor and sput his face was answered to have a clear of the stream, and then he\n",
            "generated sample\t Harry Potter, Voldemort, and Dumbledore walk into a bar. But Harry was for a mand magical comment, \"You say the only should have to start of the pretended to the Dursleys of the door. I was a moment,\" said Harry. \"What was a stand of the chair, Ron you'd be\n",
            "generated beam\t\t Harry Potter, Voldemort, and Dumbledore walk into a bar. \"What do you think they were all right,\" said Harry, staring at the start of the start of the corridor to the fire and started to the start of the start of the corridor to the fire and started to the \n",
            "\n"
          ]
        },
        {
          "output_type": "stream",
          "name": "stderr",
          "text": [
            "  1%|          | 2/195 [00:00<00:33,  5.75it/s]"
          ]
        },
        {
          "output_type": "stream",
          "name": "stdout",
          "text": [
            "Train Epoch: 22 [0/49920 (0%)]\tLoss: 1.311364\n"
          ]
        },
        {
          "output_type": "stream",
          "name": "stderr",
          "text": [
            "  6%|▌         | 12/195 [00:01<00:20,  8.80it/s]"
          ]
        },
        {
          "output_type": "stream",
          "name": "stdout",
          "text": [
            "Train Epoch: 22 [2560/49920 (5%)]\tLoss: 1.310613\n"
          ]
        },
        {
          "output_type": "stream",
          "name": "stderr",
          "text": [
            " 11%|█▏        | 22/195 [00:02<00:19,  8.80it/s]"
          ]
        },
        {
          "output_type": "stream",
          "name": "stdout",
          "text": [
            "Train Epoch: 22 [5120/49920 (10%)]\tLoss: 1.304095\n"
          ]
        },
        {
          "output_type": "stream",
          "name": "stderr",
          "text": [
            " 16%|█▋        | 32/195 [00:03<00:18,  9.01it/s]"
          ]
        },
        {
          "output_type": "stream",
          "name": "stdout",
          "text": [
            "Train Epoch: 22 [7680/49920 (15%)]\tLoss: 1.315836\n"
          ]
        },
        {
          "output_type": "stream",
          "name": "stderr",
          "text": [
            " 22%|██▏       | 42/195 [00:04<00:17,  8.88it/s]"
          ]
        },
        {
          "output_type": "stream",
          "name": "stdout",
          "text": [
            "Train Epoch: 22 [10240/49920 (21%)]\tLoss: 1.296386\n"
          ]
        },
        {
          "output_type": "stream",
          "name": "stderr",
          "text": [
            " 27%|██▋       | 52/195 [00:05<00:16,  8.79it/s]"
          ]
        },
        {
          "output_type": "stream",
          "name": "stdout",
          "text": [
            "Train Epoch: 22 [12800/49920 (26%)]\tLoss: 1.286343\n"
          ]
        },
        {
          "output_type": "stream",
          "name": "stderr",
          "text": [
            " 32%|███▏      | 62/195 [00:07<00:15,  8.82it/s]"
          ]
        },
        {
          "output_type": "stream",
          "name": "stdout",
          "text": [
            "Train Epoch: 22 [15360/49920 (31%)]\tLoss: 1.301210\n"
          ]
        },
        {
          "output_type": "stream",
          "name": "stderr",
          "text": [
            " 37%|███▋      | 72/195 [00:08<00:13,  8.83it/s]"
          ]
        },
        {
          "output_type": "stream",
          "name": "stdout",
          "text": [
            "Train Epoch: 22 [17920/49920 (36%)]\tLoss: 1.296772\n"
          ]
        },
        {
          "output_type": "stream",
          "name": "stderr",
          "text": [
            " 42%|████▏     | 82/195 [00:09<00:12,  8.72it/s]"
          ]
        },
        {
          "output_type": "stream",
          "name": "stdout",
          "text": [
            "Train Epoch: 22 [20480/49920 (41%)]\tLoss: 1.287016\n"
          ]
        },
        {
          "output_type": "stream",
          "name": "stderr",
          "text": [
            " 47%|████▋     | 92/195 [00:10<00:11,  8.72it/s]"
          ]
        },
        {
          "output_type": "stream",
          "name": "stdout",
          "text": [
            "Train Epoch: 22 [23040/49920 (46%)]\tLoss: 1.293764\n"
          ]
        },
        {
          "output_type": "stream",
          "name": "stderr",
          "text": [
            " 52%|█████▏    | 102/195 [00:11<00:10,  8.75it/s]"
          ]
        },
        {
          "output_type": "stream",
          "name": "stdout",
          "text": [
            "Train Epoch: 22 [25600/49920 (51%)]\tLoss: 1.298427\n"
          ]
        },
        {
          "output_type": "stream",
          "name": "stderr",
          "text": [
            " 57%|█████▋    | 112/195 [00:12<00:09,  8.87it/s]"
          ]
        },
        {
          "output_type": "stream",
          "name": "stdout",
          "text": [
            "Train Epoch: 22 [28160/49920 (56%)]\tLoss: 1.285788\n"
          ]
        },
        {
          "output_type": "stream",
          "name": "stderr",
          "text": [
            " 63%|██████▎   | 122/195 [00:13<00:08,  8.86it/s]"
          ]
        },
        {
          "output_type": "stream",
          "name": "stdout",
          "text": [
            "Train Epoch: 22 [30720/49920 (62%)]\tLoss: 1.299820\n"
          ]
        },
        {
          "output_type": "stream",
          "name": "stderr",
          "text": [
            " 68%|██████▊   | 132/195 [00:15<00:07,  8.62it/s]"
          ]
        },
        {
          "output_type": "stream",
          "name": "stdout",
          "text": [
            "Train Epoch: 22 [33280/49920 (67%)]\tLoss: 1.314954\n"
          ]
        },
        {
          "output_type": "stream",
          "name": "stderr",
          "text": [
            " 73%|███████▎  | 142/195 [00:16<00:06,  8.64it/s]"
          ]
        },
        {
          "output_type": "stream",
          "name": "stdout",
          "text": [
            "Train Epoch: 22 [35840/49920 (72%)]\tLoss: 1.313348\n"
          ]
        },
        {
          "output_type": "stream",
          "name": "stderr",
          "text": [
            " 78%|███████▊  | 152/195 [00:17<00:05,  8.59it/s]"
          ]
        },
        {
          "output_type": "stream",
          "name": "stdout",
          "text": [
            "Train Epoch: 22 [38400/49920 (77%)]\tLoss: 1.303868\n"
          ]
        },
        {
          "output_type": "stream",
          "name": "stderr",
          "text": [
            " 83%|████████▎ | 162/195 [00:18<00:03,  8.59it/s]"
          ]
        },
        {
          "output_type": "stream",
          "name": "stdout",
          "text": [
            "Train Epoch: 22 [40960/49920 (82%)]\tLoss: 1.285416\n"
          ]
        },
        {
          "output_type": "stream",
          "name": "stderr",
          "text": [
            " 88%|████████▊ | 172/195 [00:19<00:02,  8.38it/s]"
          ]
        },
        {
          "output_type": "stream",
          "name": "stdout",
          "text": [
            "Train Epoch: 22 [43520/49920 (87%)]\tLoss: 1.279981\n"
          ]
        },
        {
          "output_type": "stream",
          "name": "stderr",
          "text": [
            " 93%|█████████▎| 182/195 [00:20<00:01,  8.56it/s]"
          ]
        },
        {
          "output_type": "stream",
          "name": "stdout",
          "text": [
            "Train Epoch: 22 [46080/49920 (92%)]\tLoss: 1.281904\n"
          ]
        },
        {
          "output_type": "stream",
          "name": "stderr",
          "text": [
            " 98%|█████████▊| 192/195 [00:22<00:00,  8.45it/s]"
          ]
        },
        {
          "output_type": "stream",
          "name": "stdout",
          "text": [
            "Train Epoch: 22 [48640/49920 (97%)]\tLoss: 1.300140\n"
          ]
        },
        {
          "output_type": "stream",
          "name": "stderr",
          "text": [
            "100%|██████████| 195/195 [00:22<00:00,  8.68it/s]\n"
          ]
        },
        {
          "output_type": "stream",
          "name": "stdout",
          "text": [
            "Input\t great sigh and leaned against the cavern wall. \"I am weak...\" he said. \"Don't worry, sir,\" said Har\n",
            "GT\tgreat sigh and leaned against the cavern wall. \"I am weak...\" he said. \"Don't worry, sir,\" said Harr\n",
            "pred\ttooet ttlntand soavtd ttainst the fose ieoisk  \"I tm selri .  \"e said  \"Iun't yarry  Ior,\" said Harr\n",
            "\n",
            "\n",
            "Input\tossed the outer cave, and Harry helped Dumbledore back into the icy seawater that filled the crevice\n",
            "GT\tssed the outer cave, and Harry helped Dumbledore back into the icy seawater that filled the crevice \n",
            "pred\tssed the stt r oore  and tarry saad d humbledore aeck tnto the cne ttat.rid ahat honled the sooaeoe \n",
            "\n",
            "\n",
            "Input\tvering and dripping in the middle of the dark High Street in Hogsmeade. For one horrible moment Harr\n",
            "GT\tering and dripping in the middle of the dark High Street in Hogsmeade. For one horrible moment Harry\n",
            "pred\tering and soanping tt the caddle of the cork aagh anueet an tagwmeade  \"ir tne oeurible sorent tarry\n",
            "\n",
            "\n",
            "Input\thelp, but there was nobody to be seen and all he could think was that he must somehow get Dumbledore\n",
            "GT\telp, but there was nobody to be seen and all he could think was that he must somehow get Dumbledore \n",
            "pred\tirp  hut hheye was aotody to se aoen tnd t l tirwould heink ths ahet te wist heme ow tot tumbledore \n",
            "\n",
            "\n",
            "Input\to - but what's wrong with Albus?' She came to a halt, panting, and stared down, wide-eyed, at Dumble\n",
            "GT\t - but what's wrong with Albus?' She came to a halt, panting, and stared down, wide-eyed, at Dumbled\n",
            "pred\t t-aut that s thong tith t lus \" sne sone to t sanf  besting  tnd thartd aown  ahte \"ded  hn tumbled\n",
            "\n",
            "\n",
            "\n",
            "Test set: Average loss: 1.3138, Accuracy: 761385/1254400 (61%)\n",
            "\n",
            "generated max\t\t Harry Potter, Voldemort, and Dumbledore walk into a bar. \"What do you think they were all right,\" said Harry, staring at the start of the floor and started to the start of the corridor to the fire and started to the start of the floor and started to the sta\n",
            "generated sample\t Harry Potter, Voldemort, and Dumbledore walk into a bar. Che had a magical teacher. \"I could be the one who would have to make a take and was \" \"En, I know that one of them at the plate of propersion,\" said Crabbe, shaking his head and said, \"I have to do t\n",
            "generated sample\t Harry Potter, Voldemort, and Dumbledore walk into a bar. \"Well, you think we think you are the points of the top of his mouth. I think it's a beath round at the first time,\" said Harry already through the table and looked as though he had not taken the elf \n",
            "generated sample\t Harry Potter, Voldemort, and Dumbledore walk into a bar. He didn't see the staff things that they murdered a long boy were not to answer the mist get to himself for the prophecy when they have to go saying to the bottom of the back down to the chair and sho\n",
            "generated sample\t Harry Potter, Voldemort, and Dumbledore walk into a bar. I had a not to know that the purse of the castle they was the from the Mardor and Tould he had a beroom with a little students and was to mean the other students and in the air of memoring the mounth \n",
            "generated sample\t Harry Potter, Voldemort, and Dumbledore walk into a bar. \"What do you think you believe that Harry,\" said Harry, and she strodged into the stairs and started to be seemed to the first students were flowing at the under from the table and said students in th\n",
            "generated sample\t Harry Potter, Voldemort, and Dumbledore walk into a bar. I didn't like to the other twinge, they spent to the Dumbledore that had been telling the other than a day and time to see what it was a touch of their robes, \"I have still haven't got the death to ha\n",
            "generated sample\t Harry Potter, Voldemort, and Dumbledore walk into a bar. Neville and the story was staring at the chair as though he could see them to the wheeling and sway at the fire that he was looking at the sime gateen on the table, and the moment says and started at \n",
            "generated sample\t Harry Potter, Voldemort, and Dumbledore walk into a bar. The last patter was come to the thing in the stone of the back of the hand, the black was to have not discoped the wand as though he had been the office line with the first table. \"She was a lot of pr\n",
            "generated sample\t Harry Potter, Voldemort, and Dumbledore walk into a bar. Crouch now this things that he had to be started for since morthand to the man school to the fire. I think they who was completely as though the first seemed to have been the only the way, you will be\n",
            "generated sample\t Harry Potter, Voldemort, and Dumbledore walk into a bar. Fudge take his hand to his fore in the formid room to the trunk. And the house of them were the sinked room with a small she sat down behind the dark to the students. \"It was a precibular what he had \n",
            "generated beam\t\t Harry Potter, Voldemort, and Dumbledore walk into a bar. \"What do you think they were all right,\" said Harry, staring at the start of the floor and started to the start of the corridor to the fire and started to the start of the floor and started to the sta\n",
            "\n"
          ]
        },
        {
          "output_type": "stream",
          "name": "stderr",
          "text": [
            "  1%|          | 2/195 [00:00<00:32,  5.86it/s]"
          ]
        },
        {
          "output_type": "stream",
          "name": "stdout",
          "text": [
            "Train Epoch: 23 [0/49920 (0%)]\tLoss: 1.310788\n"
          ]
        },
        {
          "output_type": "stream",
          "name": "stderr",
          "text": [
            "  6%|▌         | 12/195 [00:01<00:20,  8.72it/s]"
          ]
        },
        {
          "output_type": "stream",
          "name": "stdout",
          "text": [
            "Train Epoch: 23 [2560/49920 (5%)]\tLoss: 1.308762\n"
          ]
        },
        {
          "output_type": "stream",
          "name": "stderr",
          "text": [
            " 11%|█▏        | 22/195 [00:02<00:19,  8.84it/s]"
          ]
        },
        {
          "output_type": "stream",
          "name": "stdout",
          "text": [
            "Train Epoch: 23 [5120/49920 (10%)]\tLoss: 1.302438\n"
          ]
        },
        {
          "output_type": "stream",
          "name": "stderr",
          "text": [
            " 16%|█▋        | 32/195 [00:03<00:18,  8.69it/s]"
          ]
        },
        {
          "output_type": "stream",
          "name": "stdout",
          "text": [
            "Train Epoch: 23 [7680/49920 (15%)]\tLoss: 1.314790\n"
          ]
        },
        {
          "output_type": "stream",
          "name": "stderr",
          "text": [
            " 22%|██▏       | 42/195 [00:04<00:17,  8.65it/s]"
          ]
        },
        {
          "output_type": "stream",
          "name": "stdout",
          "text": [
            "Train Epoch: 23 [10240/49920 (21%)]\tLoss: 1.295107\n"
          ]
        },
        {
          "output_type": "stream",
          "name": "stderr",
          "text": [
            " 27%|██▋       | 52/195 [00:06<00:16,  8.67it/s]"
          ]
        },
        {
          "output_type": "stream",
          "name": "stdout",
          "text": [
            "Train Epoch: 23 [12800/49920 (26%)]\tLoss: 1.286187\n"
          ]
        },
        {
          "output_type": "stream",
          "name": "stderr",
          "text": [
            " 32%|███▏      | 62/195 [00:07<00:15,  8.71it/s]"
          ]
        },
        {
          "output_type": "stream",
          "name": "stdout",
          "text": [
            "Train Epoch: 23 [15360/49920 (31%)]\tLoss: 1.300351\n"
          ]
        },
        {
          "output_type": "stream",
          "name": "stderr",
          "text": [
            " 37%|███▋      | 72/195 [00:08<00:14,  8.73it/s]"
          ]
        },
        {
          "output_type": "stream",
          "name": "stdout",
          "text": [
            "Train Epoch: 23 [17920/49920 (36%)]\tLoss: 1.295910\n"
          ]
        },
        {
          "output_type": "stream",
          "name": "stderr",
          "text": [
            " 42%|████▏     | 82/195 [00:09<00:12,  8.74it/s]"
          ]
        },
        {
          "output_type": "stream",
          "name": "stdout",
          "text": [
            "Train Epoch: 23 [20480/49920 (41%)]\tLoss: 1.285613\n"
          ]
        },
        {
          "output_type": "stream",
          "name": "stderr",
          "text": [
            " 47%|████▋     | 92/195 [00:10<00:11,  8.79it/s]"
          ]
        },
        {
          "output_type": "stream",
          "name": "stdout",
          "text": [
            "Train Epoch: 23 [23040/49920 (46%)]\tLoss: 1.292298\n"
          ]
        },
        {
          "output_type": "stream",
          "name": "stderr",
          "text": [
            " 52%|█████▏    | 102/195 [00:11<00:10,  8.56it/s]"
          ]
        },
        {
          "output_type": "stream",
          "name": "stdout",
          "text": [
            "Train Epoch: 23 [25600/49920 (51%)]\tLoss: 1.297440\n"
          ]
        },
        {
          "output_type": "stream",
          "name": "stderr",
          "text": [
            " 57%|█████▋    | 112/195 [00:12<00:09,  8.65it/s]"
          ]
        },
        {
          "output_type": "stream",
          "name": "stdout",
          "text": [
            "Train Epoch: 23 [28160/49920 (56%)]\tLoss: 1.284660\n"
          ]
        },
        {
          "output_type": "stream",
          "name": "stderr",
          "text": [
            " 63%|██████▎   | 122/195 [00:14<00:08,  8.43it/s]"
          ]
        },
        {
          "output_type": "stream",
          "name": "stdout",
          "text": [
            "Train Epoch: 23 [30720/49920 (62%)]\tLoss: 1.298872\n"
          ]
        },
        {
          "output_type": "stream",
          "name": "stderr",
          "text": [
            " 68%|██████▊   | 132/195 [00:15<00:07,  8.58it/s]"
          ]
        },
        {
          "output_type": "stream",
          "name": "stdout",
          "text": [
            "Train Epoch: 23 [33280/49920 (67%)]\tLoss: 1.314203\n"
          ]
        },
        {
          "output_type": "stream",
          "name": "stderr",
          "text": [
            " 73%|███████▎  | 142/195 [00:16<00:06,  8.47it/s]"
          ]
        },
        {
          "output_type": "stream",
          "name": "stdout",
          "text": [
            "Train Epoch: 23 [35840/49920 (72%)]\tLoss: 1.311854\n"
          ]
        },
        {
          "output_type": "stream",
          "name": "stderr",
          "text": [
            " 78%|███████▊  | 152/195 [00:17<00:05,  8.51it/s]"
          ]
        },
        {
          "output_type": "stream",
          "name": "stdout",
          "text": [
            "Train Epoch: 23 [38400/49920 (77%)]\tLoss: 1.303395\n"
          ]
        },
        {
          "output_type": "stream",
          "name": "stderr",
          "text": [
            " 83%|████████▎ | 162/195 [00:18<00:03,  8.53it/s]"
          ]
        },
        {
          "output_type": "stream",
          "name": "stdout",
          "text": [
            "Train Epoch: 23 [40960/49920 (82%)]\tLoss: 1.284405\n"
          ]
        },
        {
          "output_type": "stream",
          "name": "stderr",
          "text": [
            " 88%|████████▊ | 172/195 [00:20<00:02,  8.44it/s]"
          ]
        },
        {
          "output_type": "stream",
          "name": "stdout",
          "text": [
            "Train Epoch: 23 [43520/49920 (87%)]\tLoss: 1.278686\n"
          ]
        },
        {
          "output_type": "stream",
          "name": "stderr",
          "text": [
            " 93%|█████████▎| 182/195 [00:21<00:01,  8.45it/s]"
          ]
        },
        {
          "output_type": "stream",
          "name": "stdout",
          "text": [
            "Train Epoch: 23 [46080/49920 (92%)]\tLoss: 1.280813\n"
          ]
        },
        {
          "output_type": "stream",
          "name": "stderr",
          "text": [
            " 98%|█████████▊| 192/195 [00:22<00:00,  8.60it/s]"
          ]
        },
        {
          "output_type": "stream",
          "name": "stdout",
          "text": [
            "Train Epoch: 23 [48640/49920 (97%)]\tLoss: 1.299047\n"
          ]
        },
        {
          "output_type": "stream",
          "name": "stderr",
          "text": [
            "100%|██████████| 195/195 [00:22<00:00,  8.56it/s]\n"
          ]
        },
        {
          "output_type": "stream",
          "name": "stdout",
          "text": [
            "Input\t great sigh and leaned against the cavern wall. \"I am weak...\" he said. \"Don't worry, sir,\" said Har\n",
            "GT\tgreat sigh and leaned against the cavern wall. \"I am weak...\" he said. \"Don't worry, sir,\" said Harr\n",
            "pred\ttooet ttlntand soavtd ttainst the fose ieoisk  \"I tm selri .  \"e said  \"Iun't yarry  Ior,\" said Harr\n",
            "\n",
            "\n",
            "Input\tossed the outer cave, and Harry helped Dumbledore back into the icy seawater that filled the crevice\n",
            "GT\tssed the outer cave, and Harry helped Dumbledore back into the icy seawater that filled the crevice \n",
            "pred\tssed the stt r oore  and tarry saad d humbledore aeck tnto the cne ttat.rid ahat honled the sooaeoe \n",
            "\n",
            "\n",
            "Input\tvering and dripping in the middle of the dark High Street in Hogsmeade. For one horrible moment Harr\n",
            "GT\tering and dripping in the middle of the dark High Street in Hogsmeade. For one horrible moment Harry\n",
            "pred\tering and soanping tt the caddle of the cork aagh anueet an tagwmeade  \"ir tne oeurible sorent tarry\n",
            "\n",
            "\n",
            "Input\thelp, but there was nobody to be seen and all he could think was that he must somehow get Dumbledore\n",
            "GT\telp, but there was nobody to be seen and all he could think was that he must somehow get Dumbledore \n",
            "pred\tirp  hut hheye was aotody to se aoen tnd t l tirwould heink ths ahet te wist heme ow tot tumbledore \n",
            "\n",
            "\n",
            "Input\to - but what's wrong with Albus?' She came to a halt, panting, and stared down, wide-eyed, at Dumble\n",
            "GT\t - but what's wrong with Albus?' She came to a halt, panting, and stared down, wide-eyed, at Dumbled\n",
            "pred\t t-aut that s thong tith t lus \" sne sone to t salf  besting  tnd thartd aown  ahte \"ded  hn tumbled\n",
            "\n",
            "\n",
            "\n",
            "Test set: Average loss: 1.3131, Accuracy: 761726/1254400 (61%)\n",
            "\n",
            "Saved /content/logs/0.3/023.pt\n",
            "\n",
            "generated max\t\t Harry Potter, Voldemort, and Dumbledore walk into a bar. \"What do you think they were all right,\" said Harry, staring at the start of the floor and started to the start of the corridor to the fire and started to the start of the floor and started to the sta\n",
            "generated sample\t Harry Potter, Voldemort, and Dumbledore walk into a bar. \"I'm seet the signess round and but then some of the others and a little spirits of the other dark and were going to be in the rest of the called them and she had all over to the matter. They were pas\n",
            "generated sample\t Harry Potter, Voldemort, and Dumbledore walk into a bar. \"Well, but you were all right, I haven't been are up to the fire and tried to talk to the floor of something that the minutes were blooding to Wear the particularly stone on the middle of the dormitor\n",
            "generated sample\t Harry Potter, Voldemort, and Dumbledore walk into a bar. \"I've got the Magical Candation of the office around the Grofessor McGonagall and the marches of students, they could see him to him a ball to the flames all be since them as though they were not to r\n",
            "generated sample\t Harry Potter, Voldemort, and Dumbledore walk into a bar. Then, they were going to be a loy so that you train for you to the three of the office -- and we got to be too much to the first time, of I don't like a broom who went out of the forest on the other s\n",
            "generated sample\t Harry Potter, Voldemort, and Dumbledore walk into a bar. Mr. Harry was down in the street down from the stature into the last time. \"No you might have been thinking at the kitchen and house this time, thought you're been looking out of the croudding - home \n",
            "generated sample\t Harry Potter, Voldemort, and Dumbledore walk into a bar. . . . . I don't get him out of his back into the dark end of the castle. I amped it. Harry looked at him and began to the fire. He had to straight the Proundor Malfoy to the book and did not laugher a\n",
            "generated sample\t Harry Potter, Voldemort, and Dumbledore walk into a bar. I was the counter of the tome, in the sort of the class. \"I think they're all in the book behind them at him. \"What they're there,\" said Harry, shattering, \"It's the seats and sure that he was all rig\n",
            "generated sample\t Harry Potter, Voldemort, and Dumbledore walk into a bar. Harry had the rest of the chick, and she was still had been in the parther to his face and the moment that he had back on the room who should been thinking the class, and then the summer as they were \n",
            "generated sample\t Harry Potter, Voldemort, and Dumbledore walk into a bar. first years of the matter stood by the dark corridor, he didn't have to see them for the training to talk to the dark to Harry and Gryffindor to the school given his bright hands of contrated and shou\n",
            "generated sample\t Harry Potter, Voldemort, and Dumbledore walk into a bar. She had been started to come out of the front day. \"I mean, I'm sure you've got a completely have would have to come to the Mrs. Weasley, he's thing you with you again!\" said Harry, throwning his broo\n",
            "generated beam\t\t Harry Potter, Voldemort, and Dumbledore walk into a bar. \"What do you think they were all right,\" said Harry, staring at the start of the floor and started to the start of the corridor to the fire and started to the start of the floor and started to the sta\n",
            "\n"
          ]
        },
        {
          "output_type": "stream",
          "name": "stderr",
          "text": [
            "  1%|          | 2/195 [00:00<00:31,  6.12it/s]"
          ]
        },
        {
          "output_type": "stream",
          "name": "stdout",
          "text": [
            "Train Epoch: 24 [0/49920 (0%)]\tLoss: 1.309741\n"
          ]
        },
        {
          "output_type": "stream",
          "name": "stderr",
          "text": [
            "  6%|▌         | 12/195 [00:01<00:20,  8.79it/s]"
          ]
        },
        {
          "output_type": "stream",
          "name": "stdout",
          "text": [
            "Train Epoch: 24 [2560/49920 (5%)]\tLoss: 1.307303\n"
          ]
        },
        {
          "output_type": "stream",
          "name": "stderr",
          "text": [
            " 11%|█▏        | 22/195 [00:02<00:19,  8.92it/s]"
          ]
        },
        {
          "output_type": "stream",
          "name": "stdout",
          "text": [
            "Train Epoch: 24 [5120/49920 (10%)]\tLoss: 1.300719\n"
          ]
        },
        {
          "output_type": "stream",
          "name": "stderr",
          "text": [
            " 16%|█▋        | 32/195 [00:03<00:18,  8.87it/s]"
          ]
        },
        {
          "output_type": "stream",
          "name": "stdout",
          "text": [
            "Train Epoch: 24 [7680/49920 (15%)]\tLoss: 1.313331\n"
          ]
        },
        {
          "output_type": "stream",
          "name": "stderr",
          "text": [
            " 22%|██▏       | 42/195 [00:04<00:17,  8.89it/s]"
          ]
        },
        {
          "output_type": "stream",
          "name": "stdout",
          "text": [
            "Train Epoch: 24 [10240/49920 (21%)]\tLoss: 1.293889\n"
          ]
        },
        {
          "output_type": "stream",
          "name": "stderr",
          "text": [
            " 27%|██▋       | 52/195 [00:05<00:16,  8.79it/s]"
          ]
        },
        {
          "output_type": "stream",
          "name": "stdout",
          "text": [
            "Train Epoch: 24 [12800/49920 (26%)]\tLoss: 1.285430\n"
          ]
        },
        {
          "output_type": "stream",
          "name": "stderr",
          "text": [
            " 32%|███▏      | 62/195 [00:07<00:14,  8.90it/s]"
          ]
        },
        {
          "output_type": "stream",
          "name": "stdout",
          "text": [
            "Train Epoch: 24 [15360/49920 (31%)]\tLoss: 1.299472\n"
          ]
        },
        {
          "output_type": "stream",
          "name": "stderr",
          "text": [
            " 37%|███▋      | 72/195 [00:08<00:14,  8.71it/s]"
          ]
        },
        {
          "output_type": "stream",
          "name": "stdout",
          "text": [
            "Train Epoch: 24 [17920/49920 (36%)]\tLoss: 1.294891\n"
          ]
        },
        {
          "output_type": "stream",
          "name": "stderr",
          "text": [
            " 42%|████▏     | 82/195 [00:09<00:12,  8.75it/s]"
          ]
        },
        {
          "output_type": "stream",
          "name": "stdout",
          "text": [
            "Train Epoch: 24 [20480/49920 (41%)]\tLoss: 1.284480\n"
          ]
        },
        {
          "output_type": "stream",
          "name": "stderr",
          "text": [
            " 47%|████▋     | 92/195 [00:10<00:11,  8.80it/s]"
          ]
        },
        {
          "output_type": "stream",
          "name": "stdout",
          "text": [
            "Train Epoch: 24 [23040/49920 (46%)]\tLoss: 1.291110\n"
          ]
        },
        {
          "output_type": "stream",
          "name": "stderr",
          "text": [
            " 52%|█████▏    | 102/195 [00:11<00:10,  8.72it/s]"
          ]
        },
        {
          "output_type": "stream",
          "name": "stdout",
          "text": [
            "Train Epoch: 24 [25600/49920 (51%)]\tLoss: 1.296516\n"
          ]
        },
        {
          "output_type": "stream",
          "name": "stderr",
          "text": [
            " 57%|█████▋    | 112/195 [00:12<00:09,  8.64it/s]"
          ]
        },
        {
          "output_type": "stream",
          "name": "stdout",
          "text": [
            "Train Epoch: 24 [28160/49920 (56%)]\tLoss: 1.283544\n"
          ]
        },
        {
          "output_type": "stream",
          "name": "stderr",
          "text": [
            " 63%|██████▎   | 122/195 [00:13<00:08,  8.69it/s]"
          ]
        },
        {
          "output_type": "stream",
          "name": "stdout",
          "text": [
            "Train Epoch: 24 [30720/49920 (62%)]\tLoss: 1.297975\n"
          ]
        },
        {
          "output_type": "stream",
          "name": "stderr",
          "text": [
            " 68%|██████▊   | 132/195 [00:15<00:07,  8.75it/s]"
          ]
        },
        {
          "output_type": "stream",
          "name": "stdout",
          "text": [
            "Train Epoch: 24 [33280/49920 (67%)]\tLoss: 1.313361\n"
          ]
        },
        {
          "output_type": "stream",
          "name": "stderr",
          "text": [
            " 73%|███████▎  | 142/195 [00:16<00:06,  8.76it/s]"
          ]
        },
        {
          "output_type": "stream",
          "name": "stdout",
          "text": [
            "Train Epoch: 24 [35840/49920 (72%)]\tLoss: 1.310592\n"
          ]
        },
        {
          "output_type": "stream",
          "name": "stderr",
          "text": [
            " 78%|███████▊  | 152/195 [00:17<00:05,  8.52it/s]"
          ]
        },
        {
          "output_type": "stream",
          "name": "stdout",
          "text": [
            "Train Epoch: 24 [38400/49920 (77%)]\tLoss: 1.302634\n"
          ]
        },
        {
          "output_type": "stream",
          "name": "stderr",
          "text": [
            " 83%|████████▎ | 162/195 [00:18<00:03,  8.63it/s]"
          ]
        },
        {
          "output_type": "stream",
          "name": "stdout",
          "text": [
            "Train Epoch: 24 [40960/49920 (82%)]\tLoss: 1.283262\n"
          ]
        },
        {
          "output_type": "stream",
          "name": "stderr",
          "text": [
            " 88%|████████▊ | 172/195 [00:19<00:02,  8.69it/s]"
          ]
        },
        {
          "output_type": "stream",
          "name": "stdout",
          "text": [
            "Train Epoch: 24 [43520/49920 (87%)]\tLoss: 1.277363\n"
          ]
        },
        {
          "output_type": "stream",
          "name": "stderr",
          "text": [
            " 93%|█████████▎| 182/195 [00:20<00:01,  8.56it/s]"
          ]
        },
        {
          "output_type": "stream",
          "name": "stdout",
          "text": [
            "Train Epoch: 24 [46080/49920 (92%)]\tLoss: 1.279816\n"
          ]
        },
        {
          "output_type": "stream",
          "name": "stderr",
          "text": [
            " 98%|█████████▊| 192/195 [00:22<00:00,  8.70it/s]"
          ]
        },
        {
          "output_type": "stream",
          "name": "stdout",
          "text": [
            "Train Epoch: 24 [48640/49920 (97%)]\tLoss: 1.297896\n"
          ]
        },
        {
          "output_type": "stream",
          "name": "stderr",
          "text": [
            "100%|██████████| 195/195 [00:22<00:00,  8.68it/s]\n"
          ]
        },
        {
          "output_type": "stream",
          "name": "stdout",
          "text": [
            "Input\t great sigh and leaned against the cavern wall. \"I am weak...\" he said. \"Don't worry, sir,\" said Har\n",
            "GT\tgreat sigh and leaned against the cavern wall. \"I am weak...\" he said. \"Don't worry, sir,\" said Harr\n",
            "pred\ttooet ttlntand soavtd ttainst the fose ieoisk  \"I tm selri .  \"e said  \"Iun't yarry  Ior,\" said Harr\n",
            "\n",
            "\n",
            "Input\tossed the outer cave, and Harry helped Dumbledore back into the icy seawater that filled the crevice\n",
            "GT\tssed the outer cave, and Harry helped Dumbledore back into the icy seawater that filled the crevice \n",
            "pred\tssed the stt r olre  and tarry saad d humbledore aeck tnto the cne ttat.rid ahat honled the sooaeoe \n",
            "\n",
            "\n",
            "Input\tvering and dripping in the middle of the dark High Street in Hogsmeade. For one horrible moment Harr\n",
            "GT\tering and dripping in the middle of the dark High Street in Hogsmeade. For one horrible moment Harry\n",
            "pred\tering and soanping tt the caddle of the cork aagh anueet an tagwmeade  \"ir tne oeurible sorent tarry\n",
            "\n",
            "\n",
            "Input\thelp, but there was nobody to be seen and all he could think was that he must somehow get Dumbledore\n",
            "GT\telp, but there was nobody to be seen and all he could think was that he must somehow get Dumbledore \n",
            "pred\tirp  hut hheye was aotody to se aoen tnd t l tirwould heink ths ahet te wist heme ow tot tumbledore \n",
            "\n",
            "\n",
            "Input\to - but what's wrong with Albus?' She came to a halt, panting, and stared down, wide-eyed, at Dumble\n",
            "GT\t - but what's wrong with Albus?' She came to a halt, panting, and stared down, wide-eyed, at Dumbled\n",
            "pred\t t-aut that s thong tith t lus \" sne sone to t salf  besting  tnd thartd aown  ahte \"ded  hn tumbled\n",
            "\n",
            "\n",
            "\n",
            "Test set: Average loss: 1.3123, Accuracy: 762139/1254400 (61%)\n",
            "\n",
            "Saved /content/logs/0.3/024.pt\n",
            "\n",
            "generated max\t\t Harry Potter, Voldemort, and Dumbledore walk into a bar. \"What do you think they were all right,\" said Harry, staring at the start of the floor and started to the start of the corridor to the fire and started to the start of the floor and started to the sta\n",
            "generated sample\t Harry Potter, Voldemort, and Dumbledore walk into a bar. \"I'm going to be in a spell -\" Harry said to do it in the ground, looking from his wand and started at Harry. \"We were all right to get that she had to be much and a bit of the window in the door of t\n",
            "generated sample\t Harry Potter, Voldemort, and Dumbledore walk into a bar. Leave more than the potion of the common room with a sort of the bad for beath to say, he was at the students of his parther than they had the picked of the back of his poke. \"He knows that stop what \n",
            "generated sample\t Harry Potter, Voldemort, and Dumbledore walk into a bar. \"Well, it's that propinting them as they seemed to be all right?\" said Harry, looking at Harry and he strode to the like magic and see them and started to his table as he told them he was going to hav\n",
            "generated sample\t Harry Potter, Voldemort, and Dumbledore walk into a bar. They was here and sure we were the dark with an an is things in his mind came in I can the wizard where him in the match of Magical years. Harry couldn't have been to come to think of them as he had t\n",
            "generated sample\t Harry Potter, Voldemort, and Dumbledore walk into a bar. \"And I have been the one of the moment on the time to strain the school of the Snike this about the shade of the window of them weren't said the only the Prime Minister to the trouble and had a bit of\n",
            "generated sample\t Harry Potter, Voldemort, and Dumbledore walk into a bar. And the Dursleys of the mand last thing of course can go to him in your first talled the stairs and was the sure what has person and he said -\" \"I have been the members of this usual. . . . . . . . . \n",
            "generated sample\t Harry Potter, Voldemort, and Dumbledore walk into a bar. \"Well, you will be able to tell me to the other table. If you have to get the continued in the game from his ears and stared at the back in the man with the place in the bank of the day with them, and\n",
            "generated sample\t Harry Potter, Voldemort, and Dumbledore walk into a bar. \"So that the Dursleys what daster yeh Potter was a way to do in the stature to the only one of them.\" \"You know,\" said Harry, her through his book hand and spotted the street as one their castle was t\n",
            "generated sample\t Harry Potter, Voldemort, and Dumbledore walk into a bar. \"I can think he was too.\" \"It's a bit of the office with excitement some time,\" said Harry, who had to read the stair, which was still still in his eyes and staying as he didn't remember that he was s\n",
            "generated sample\t Harry Potter, Voldemort, and Dumbledore walk into a bar. Ver you and stuff that it was all right, what has he's sure that it was a some of the fire like this expression of me about it in the opposite in the chain and contained that the promise started to me\n",
            "generated beam\t\t Harry Potter, Voldemort, and Dumbledore walk into a bar. \"What do you think they were all right,\" said Harry, staring at the start of the floor and started to the start of the corridor to the fire and started to the start of the floor and started to the sta\n",
            "\n"
          ]
        },
        {
          "output_type": "stream",
          "name": "stderr",
          "text": [
            "  1%|          | 2/195 [00:00<00:30,  6.27it/s]"
          ]
        },
        {
          "output_type": "stream",
          "name": "stdout",
          "text": [
            "Train Epoch: 25 [0/49920 (0%)]\tLoss: 1.308658\n"
          ]
        },
        {
          "output_type": "stream",
          "name": "stderr",
          "text": [
            "  6%|▌         | 12/195 [00:01<00:20,  8.81it/s]"
          ]
        },
        {
          "output_type": "stream",
          "name": "stdout",
          "text": [
            "Train Epoch: 25 [2560/49920 (5%)]\tLoss: 1.306186\n"
          ]
        },
        {
          "output_type": "stream",
          "name": "stderr",
          "text": [
            " 11%|█▏        | 22/195 [00:02<00:19,  8.89it/s]"
          ]
        },
        {
          "output_type": "stream",
          "name": "stdout",
          "text": [
            "Train Epoch: 25 [5120/49920 (10%)]\tLoss: 1.299273\n"
          ]
        },
        {
          "output_type": "stream",
          "name": "stderr",
          "text": [
            " 16%|█▋        | 32/195 [00:03<00:18,  8.95it/s]"
          ]
        },
        {
          "output_type": "stream",
          "name": "stdout",
          "text": [
            "Train Epoch: 25 [7680/49920 (15%)]\tLoss: 1.312017\n"
          ]
        },
        {
          "output_type": "stream",
          "name": "stderr",
          "text": [
            " 22%|██▏       | 42/195 [00:04<00:17,  8.84it/s]"
          ]
        },
        {
          "output_type": "stream",
          "name": "stdout",
          "text": [
            "Train Epoch: 25 [10240/49920 (21%)]\tLoss: 1.292764\n"
          ]
        },
        {
          "output_type": "stream",
          "name": "stderr",
          "text": [
            " 27%|██▋       | 52/195 [00:05<00:16,  8.79it/s]"
          ]
        },
        {
          "output_type": "stream",
          "name": "stdout",
          "text": [
            "Train Epoch: 25 [12800/49920 (26%)]\tLoss: 1.284490\n"
          ]
        },
        {
          "output_type": "stream",
          "name": "stderr",
          "text": [
            " 32%|███▏      | 62/195 [00:07<00:14,  8.89it/s]"
          ]
        },
        {
          "output_type": "stream",
          "name": "stdout",
          "text": [
            "Train Epoch: 25 [15360/49920 (31%)]\tLoss: 1.298680\n"
          ]
        },
        {
          "output_type": "stream",
          "name": "stderr",
          "text": [
            " 37%|███▋      | 72/195 [00:08<00:13,  8.84it/s]"
          ]
        },
        {
          "output_type": "stream",
          "name": "stdout",
          "text": [
            "Train Epoch: 25 [17920/49920 (36%)]\tLoss: 1.293819\n"
          ]
        },
        {
          "output_type": "stream",
          "name": "stderr",
          "text": [
            " 42%|████▏     | 82/195 [00:09<00:12,  8.72it/s]"
          ]
        },
        {
          "output_type": "stream",
          "name": "stdout",
          "text": [
            "Train Epoch: 25 [20480/49920 (41%)]\tLoss: 1.283330\n"
          ]
        },
        {
          "output_type": "stream",
          "name": "stderr",
          "text": [
            " 47%|████▋     | 92/195 [00:10<00:11,  8.75it/s]"
          ]
        },
        {
          "output_type": "stream",
          "name": "stdout",
          "text": [
            "Train Epoch: 25 [23040/49920 (46%)]\tLoss: 1.290006\n"
          ]
        },
        {
          "output_type": "stream",
          "name": "stderr",
          "text": [
            " 52%|█████▏    | 102/195 [00:11<00:10,  8.68it/s]"
          ]
        },
        {
          "output_type": "stream",
          "name": "stdout",
          "text": [
            "Train Epoch: 25 [25600/49920 (51%)]\tLoss: 1.295501\n"
          ]
        },
        {
          "output_type": "stream",
          "name": "stderr",
          "text": [
            " 57%|█████▋    | 112/195 [00:12<00:09,  8.63it/s]"
          ]
        },
        {
          "output_type": "stream",
          "name": "stdout",
          "text": [
            "Train Epoch: 25 [28160/49920 (56%)]\tLoss: 1.282480\n"
          ]
        },
        {
          "output_type": "stream",
          "name": "stderr",
          "text": [
            " 63%|██████▎   | 122/195 [00:13<00:08,  8.68it/s]"
          ]
        },
        {
          "output_type": "stream",
          "name": "stdout",
          "text": [
            "Train Epoch: 25 [30720/49920 (62%)]\tLoss: 1.297028\n"
          ]
        },
        {
          "output_type": "stream",
          "name": "stderr",
          "text": [
            " 68%|██████▊   | 132/195 [00:15<00:07,  8.63it/s]"
          ]
        },
        {
          "output_type": "stream",
          "name": "stdout",
          "text": [
            "Train Epoch: 25 [33280/49920 (67%)]\tLoss: 1.312495\n"
          ]
        },
        {
          "output_type": "stream",
          "name": "stderr",
          "text": [
            " 73%|███████▎  | 142/195 [00:16<00:06,  8.60it/s]"
          ]
        },
        {
          "output_type": "stream",
          "name": "stdout",
          "text": [
            "Train Epoch: 25 [35840/49920 (72%)]\tLoss: 1.309420\n"
          ]
        },
        {
          "output_type": "stream",
          "name": "stderr",
          "text": [
            " 78%|███████▊  | 152/195 [00:17<00:05,  8.50it/s]"
          ]
        },
        {
          "output_type": "stream",
          "name": "stdout",
          "text": [
            "Train Epoch: 25 [38400/49920 (77%)]\tLoss: 1.301660\n"
          ]
        },
        {
          "output_type": "stream",
          "name": "stderr",
          "text": [
            " 83%|████████▎ | 162/195 [00:18<00:03,  8.48it/s]"
          ]
        },
        {
          "output_type": "stream",
          "name": "stdout",
          "text": [
            "Train Epoch: 25 [40960/49920 (82%)]\tLoss: 1.282128\n"
          ]
        },
        {
          "output_type": "stream",
          "name": "stderr",
          "text": [
            " 88%|████████▊ | 172/195 [00:19<00:02,  8.45it/s]"
          ]
        },
        {
          "output_type": "stream",
          "name": "stdout",
          "text": [
            "Train Epoch: 25 [43520/49920 (87%)]\tLoss: 1.276014\n"
          ]
        },
        {
          "output_type": "stream",
          "name": "stderr",
          "text": [
            " 93%|█████████▎| 182/195 [00:21<00:01,  8.52it/s]"
          ]
        },
        {
          "output_type": "stream",
          "name": "stdout",
          "text": [
            "Train Epoch: 25 [46080/49920 (92%)]\tLoss: 1.278692\n"
          ]
        },
        {
          "output_type": "stream",
          "name": "stderr",
          "text": [
            " 98%|█████████▊| 192/195 [00:22<00:00,  8.53it/s]"
          ]
        },
        {
          "output_type": "stream",
          "name": "stdout",
          "text": [
            "Train Epoch: 25 [48640/49920 (97%)]\tLoss: 1.296910\n"
          ]
        },
        {
          "output_type": "stream",
          "name": "stderr",
          "text": [
            "100%|██████████| 195/195 [00:22<00:00,  8.64it/s]\n"
          ]
        },
        {
          "output_type": "stream",
          "name": "stdout",
          "text": [
            "Input\t great sigh and leaned against the cavern wall. \"I am weak...\" he said. \"Don't worry, sir,\" said Har\n",
            "GT\tgreat sigh and leaned against the cavern wall. \"I am weak...\" he said. \"Don't worry, sir,\" said Harr\n",
            "pred\ttooet ttlntand soavtd ttainst the fose ieoisk  \"I tm selri .  \"e said  \"Iun't yarry  Ior,\" said Harr\n",
            "\n",
            "\n",
            "Input\tossed the outer cave, and Harry helped Dumbledore back into the icy seawater that filled the crevice\n",
            "GT\tssed the outer cave, and Harry helped Dumbledore back into the icy seawater that filled the crevice \n",
            "pred\tssed the stt r olre  and tarry saad d humbledore aeck tnto the cne ttat.rid ahat honled the sooaeoe \n",
            "\n",
            "\n",
            "Input\tvering and dripping in the middle of the dark High Street in Hogsmeade. For one horrible moment Harr\n",
            "GT\tering and dripping in the middle of the dark High Street in Hogsmeade. For one horrible moment Harry\n",
            "pred\tering and soanping tt the caddle of the cork aagh anueet an tagwmeade  \"ir tne oeurible sorent tarry\n",
            "\n",
            "\n",
            "Input\thelp, but there was nobody to be seen and all he could think was that he must somehow get Dumbledore\n",
            "GT\telp, but there was nobody to be seen and all he could think was that he must somehow get Dumbledore \n",
            "pred\tirp  aut hheye was ao ody to se aoen tnd t l ti would heink ths ahet te wist heme ow tot tumbledore \n",
            "\n",
            "\n",
            "Input\to - but what's wrong with Albus?' She came to a halt, panting, and stared down, wide-eyed, at Dumble\n",
            "GT\t - but what's wrong with Albus?' She came to a halt, panting, and stared down, wide-eyed, at Dumbled\n",
            "pred\t t-aut that s thong tith t lus \" sne sone to t salf  besting  tnd thartd aown  ahte \"ded  hn tumbled\n",
            "\n",
            "\n",
            "\n",
            "Test set: Average loss: 1.3112, Accuracy: 762460/1254400 (61%)\n",
            "\n",
            "Saved /content/logs/0.3/025.pt\n",
            "\n",
            "generated max\t\t Harry Potter, Voldemort, and Dumbledore walk into a bar. \"What do you think they were all right,\" said Harry, staring at the start of the floor and started to the start of the corridor to the fire and started to the start of the floor and started to the sta\n",
            "generated sample\t Harry Potter, Voldemort, and Dumbledore walk into a bar. of come on the ground before her wand with a student from the Dark Arts trans. \"I've got a care to me to ask you to go with sight of the matter, with your being sing of the order in the Dark Arts to t\n",
            "generated sample\t Harry Potter, Voldemort, and Dumbledore walk into a bar. She gave it on the bood could be a time. The matter of the cold was sating and said, \"I'm not students -- he was not to be able to hear him.\" \"I mean, my mean, you know now, I think it's been taking a\n",
            "generated sample\t Harry Potter, Voldemort, and Dumbledore walk into a bar. . . . . . . . . . . . . . . . . . . she said around the trouble and stop them as they reaching over to the school of the cast by the Ministry of Magic. Malfoy had so for a small your care of straight \n",
            "generated sample\t Harry Potter, Voldemort, and Dumbledore walk into a bar. Leakly I think they'd done because the Dumbledore would be on the crowd of the post of the grounds.\" \"We were all of course that I was going to meet her be a table to the father all the one before the\n",
            "generated sample\t Harry Potter, Voldemort, and Dumbledore walk into a bar. \"Well, and he was but he don't think what do you can think it is not to pretend to have been telling the moment, they're heard there, the Dursleys thinks of continuation to the Death Eaters with a sma\n",
            "generated sample\t Harry Potter, Voldemort, and Dumbledore walk into a bar. Dumbledore had been dragon the little and on the portrait with the way to think he was standing in the dark pat them as though he had not seemed to have been the man could be well to do to the feet of\n",
            "generated sample\t Harry Potter, Voldemort, and Dumbledore walk into a bar. I can all think he was thinking about him. I have never got to him. \"What you are you going to be a lot of the day, Harry, dear,\" said Harry as they were before the cattle furious and sitting her and \n",
            "generated sample\t Harry Potter, Voldemort, and Dumbledore walk into a bar. The minutes like to read and started to think and started into the clast, and they were possible the cloaks behind his eyes. Harry was being struggling to the floor of the propertice that he had a pai\n",
            "generated sample\t Harry Potter, Voldemort, and Dumbledore walk into a bar. \"What don't you told him, you said at Harry, you want to start to make her tank so that Harry was having to the properions,\" said Harry slightly. \"Gringet him down to the stone foot of here,\" said Har\n",
            "generated sample\t Harry Potter, Voldemort, and Dumbledore walk into a bar. and the school disappearance in the other to she have got to go to see what it was a long to her than any marble of the stations with the distance to the sound of can think his mouth as though they we\n",
            "generated beam\t\t Harry Potter, Voldemort, and Dumbledore walk into a bar. \"What do you think they were all right,\" said Harry, staring at the start of the floor and started to the start of the corridor to the fire and started to the start of the floor and started to the sta\n",
            "\n",
            "Saving final model\n",
            "Saved /content/logs/0.3/025.pt\n",
            "\n"
          ]
        },
        {
          "output_type": "display_data",
          "data": {
            "text/plain": [
              "<Figure size 1440x720 with 1 Axes>"
            ],
            "image/png": "[encoded data removed]"
          },
          "metadata": {
            "needs_background": "light"
          }
        },
        {
          "output_type": "display_data",
          "data": {
            "text/plain": [
              "<Figure size 1440x720 with 1 Axes>"
            ],
            "image/png": "[encoded data removed]"
          },
          "metadata": {
            "needs_background": "light"
          }
        },
        {
          "output_type": "display_data",
          "data": {
            "text/plain": [
              "<Figure size 1440x720 with 1 Axes>"
            ],
            "image/png": "[encoded data removed]"
          },
          "metadata": {
            "needs_background": "light"
          }
        },
        {
          "output_type": "display_data",
          "data": {
            "text/plain": [
              "<Figure size 1440x720 with 1 Axes>"
            ],
            "image/png": "[encoded data removed]"
          },
          "metadata": {
            "needs_background": "light"
          }
        },
        {
          "output_type": "display_data",
          "data": {
            "text/plain": [
              "<Figure size 1440x720 with 1 Axes>"
            ],
            "image/png": "[encoded data removed]"
          },
          "metadata": {
            "needs_background": "light"
          }
        },
        {
          "output_type": "stream",
          "name": "stdout",
          "text": [
            "Final test accuracy: 60.782844387755105\n",
            "Final test perplexity: 3.7106642088808717\n"
          ]
        }
      ]
    },
    {
      "cell_type": "code",
      "source": [
        "def eval_final_model(model, vocab, device):\n",
        "    seed_words = 'Harry laughed '\n",
        "    sequence_length = 200\n",
        "\n",
        "    generated_sentence = generate_language(model, device, seed_words, sequence_length, vocab, 'max')\n",
        "    print('generated with max\\t', generated_sentence)\n",
        "\n",
        "    for ii in range(10):\n",
        "        generated_sentence = generate_language(model, device, seed_words, sequence_length, vocab, 'sample')\n",
        "        print('generated with sample\\t', generated_sentence)\n",
        "\n",
        "    for ii in range(10):\n",
        "        generated_sentence = generate_language(model, device, seed_words, sequence_length, vocab, 'beam')\n",
        "        print('generated with beam\\t', generated_sentence)\n",
        "\n",
        "eval_final_model(final_model, vocab, device)"
      ],
      "metadata": {
        "colab": {
          "base_uri": "https://localhost:8080/"
        },
        "id": "UAeuqs5c5fRA",
        "outputId": "c898b979-fb75-4f3c-e719-5b608af5b1aa"
      },
      "execution_count": 25,
      "outputs": [
        {
          "output_type": "stream",
          "name": "stdout",
          "text": [
            "generated with max\t Harry laughed at the start of the floor and started to the start of the corridor to the fire and started to the start of the floor and started to the start of the corridor to the fire and started to the start of t\n",
            "generated with sample\t Harry laughed at her through the parth and strongled to have a single sign of the castle from her and raised his voice and started at the minutes of the picked of the moon leaged as he was still and started to the\n",
            "generated with sample\t Harry laughed as he was that he was sitting in his end of the stairs. \"No it was a not stupid to me, in the same of the trouble of the top of the Dark Arts least to stay anything at the prefect to the person of co\n",
            "generated with sample\t Harry laughed at Harry, Harry face to him. \"I want to do you any the Dark Arts than any stay and start. Hermione do they're supposed to think you will be the . . . Hermione stop him in the ground. I mean to you se\n",
            "generated with sample\t Harry laughed. \"I was here,\" said Harry, but he didn't have to see the time and a stone students were close to have a bit of the chair and pulled the words, they were still that the way in the firely not to see th\n",
            "generated with sample\t Harry laughed, but he had to be a bit of the fire, who had not been to some thirtening to him that stop him on the statues and seemed to be able to go to the comment of the might of him, then he said but the whole\n",
            "generated with sample\t Harry laughed. \"What do you there all this of the blood to the match of the castle,\" said Hermione, then he said, \"Not attack - that was all right, but I'm going to see you to stay him to see the clotaks of the re\n",
            "generated with sample\t Harry laughed at him as he raised his hand. \"And the school teachers and I like to be the one the others about it is that he was right, he hasn't surprised that the Dursleys had been to see that the grounds of the\n",
            "generated with sample\t Harry laughed in the chair of the end of the large black and she said, \"I have all think that you can you do it. I'm his pointed from the mimed of her moment that was she was coming to see them to get it on the se\n",
            "generated with sample\t Harry laughed around a strong of the dark grounds. \"He had to be going to say a ton of the pain for the Third of me....\" \"Yes, you shake a power of us.\" He pulled up the third to put his head to see the pirture of\n",
            "generated with sample\t Harry laughed. \"I think you want to want to the of them for the prophecy - and then he was all out of the fire and went to him and think it was to watch them, the heads of the office who had must another leave of \n",
            "generated with beam\t Harry laughed at the start of the floor and started to the start of the corridor to the fire and started to the start of the floor and started to the start of the corridor to the fire and started to the start of t\n",
            "generated with beam\t Harry laughed at the start of the floor and started to the start of the corridor to the fire and started to the start of the floor and started to the start of the corridor to the fire and started to the start of t\n",
            "generated with beam\t Harry laughed at the start of the floor and started to the start of the corridor to the fire and started to the start of the floor and started to the start of the corridor to the fire and started to the start of t\n",
            "generated with beam\t Harry laughed at the start of the floor and started to the start of the corridor to the fire and started to the start of the floor and started to the start of the corridor to the fire and started to the start of t\n",
            "generated with beam\t Harry laughed at the start of the floor and started to the start of the corridor to the fire and started to the start of the floor and started to the start of the corridor to the fire and started to the start of t\n",
            "generated with beam\t Harry laughed at the start of the floor and started to the start of the corridor to the fire and started to the start of the floor and started to the start of the corridor to the fire and started to the start of t\n",
            "generated with beam\t Harry laughed at the start of the floor and started to the start of the corridor to the fire and started to the start of the floor and started to the start of the corridor to the fire and started to the start of t\n",
            "generated with beam\t Harry laughed at the start of the floor and started to the start of the corridor to the fire and started to the start of the floor and started to the start of the corridor to the fire and started to the start of t\n",
            "generated with beam\t Harry laughed at the start of the floor and started to the start of the corridor to the fire and started to the start of the floor and started to the start of the corridor to the fire and started to the start of t\n",
            "generated with beam\t Harry laughed at the start of the floor and started to the start of the corridor to the fire and started to the start of the floor and started to the start of the corridor to the fire and started to the start of t\n"
          ]
        }
      ]
    },
    {
      "cell_type": "markdown",
      "source": [
        "## Part 8.6 Words"
      ],
      "metadata": {
        "id": "Z7Eo2LsNX1m6"
      }
    },
    {
      "cell_type": "code",
      "source": [
        "def prepare_data(data_path):\n",
        "    with open(data_path) as f:\n",
        "        # This reads all the data from the file, but does not do any processing on it.\n",
        "        data = f.read()\n",
        "    \n",
        "    # TODO Add more preprocessing\n",
        "    data = re.sub(r'[\\r\\n\\t\\s]+',' ', data).split()\n",
        "\n",
        "    voc2ind = {}\n",
        "    i = 0\n",
        "\n",
        "    counts = {}\n",
        "    for word in data:\n",
        "        if word not in counts:\n",
        "            counts[word] = 0\n",
        "        counts[word] += 1\n",
        "\n",
        "    # Compute voc2ind and transform the data into an integer representation of the tokens.\n",
        "    for word in counts:\n",
        "        if word not in voc2ind and counts[word] >= 5:\n",
        "            voc2ind[word] = i\n",
        "            i += 1\n",
        "    voc2ind[''] = i\n",
        "    \n",
        "    print('Size of word vocabulary: {}'.format(len(voc2ind)))\n",
        "\n",
        "    train_size = int(len(data) * 0.8)\n",
        "\n",
        "    ind2voc = {val: key for key, val in voc2ind.items()}\n",
        "\n",
        "    train_text = data[:train_size]\n",
        "    test_text = data[train_size:]\n",
        "\n",
        "    pickle.dump({'tokens': train_text, 'ind2voc': ind2voc, 'voc2ind':voc2ind}, open(DATA_PATH + 'harry_potter_words_train.pkl', 'wb'))\n",
        "    pickle.dump({'tokens': test_text, 'ind2voc': ind2voc, 'voc2ind':voc2ind}, open(DATA_PATH + 'harry_potter_words_test.pkl', 'wb'))\n",
        "    \n",
        "prepare_data(DATA_PATH + 'harry_potter.txt')\n",
        "\n",
        "class WordVocabulary(object):\n",
        "    def __init__(self, data_file):\n",
        "        with open(data_file, 'rb') as data_file:\n",
        "            dataset = pickle.load(data_file)\n",
        "        self.ind2voc = dataset['ind2voc']\n",
        "        self.voc2ind = dataset['voc2ind']\n",
        "\n",
        "    # Returns a string representation of the tokens.\n",
        "    def array_to_words(self, arr):\n",
        "        return ' '.join([self.ind2voc[int(ind)] for ind in arr])\n",
        "\n",
        "    # Returns a torch tensor representing each token in words.\n",
        "    def words_to_array(self, words):\n",
        "        return torch.LongTensor([self.voc2ind[word] if word in self.voc2ind else self.voc2ind[''] for word in words])\n",
        "\n",
        "    # Returns the size of the vocabulary.\n",
        "    def __len__(self):\n",
        "        return len(self.voc2ind)"
      ],
      "metadata": {
        "colab": {
          "base_uri": "https://localhost:8080/"
        },
        "id": "0vz3XOoTX0GD",
        "outputId": "1a61d8f8-0ad8-412d-9dab-ce4a279eed29"
      },
      "execution_count": 9,
      "outputs": [
        {
          "output_type": "stream",
          "name": "stdout",
          "text": [
            "Size of word vocabulary: 14403\n"
          ]
        }
      ]
    },
    {
      "cell_type": "code",
      "source": [
        "class HarryPotterWordDataset(torch.utils.data.Dataset):\n",
        "    def __init__(self, data_file, sequence_length, batch_size):\n",
        "        super(HarryPotterWordDataset, self).__init__()\n",
        "\n",
        "        self.sequence_length = sequence_length\n",
        "        self.batch_size = batch_size\n",
        "        self.vocab = WordVocabulary(data_file)\n",
        "\n",
        "        with open(data_file, 'rb') as data_pkl:\n",
        "            dataset = pickle.load(data_pkl)\n",
        "\n",
        "        # TODO: Any preprocessing on the data to get it to the right shape.\n",
        "        tokens = dataset['tokens']\n",
        "        voc2ind = dataset['voc2ind']\n",
        "\n",
        "        n = len(tokens) - (len(tokens) % batch_size)\n",
        "        self.data = torch.LongTensor([voc2ind[tokens[i]] if tokens[i] in voc2ind else voc2ind[''] for i in range(n)]).view(batch_size, -1)\n",
        "        self.len = self.data.shape[0] * int(np.ceil((self.data.shape[1] - 1) / self.sequence_length))\n",
        "\n",
        "    def __len__(self):\n",
        "        # TODO return the number of unique sequences you have, not the number of characters.\n",
        "         return self.len\n",
        "        \n",
        "    def __getitem__(self, idx):\n",
        "        # Return the data and label for a character sequence as described above.\n",
        "        # The data and labels should be torch long tensors.\n",
        "        # You should return a single entry for the batch using the idx to decide which chunk you are \n",
        "        # in and how far down in the chunk you are.\n",
        "        \n",
        "        # TODO\n",
        "        batch_idx = idx % self.batch_size\n",
        "        seq_idx = idx // self.batch_size\n",
        "\n",
        "        seq_start_idx = seq_idx * self.sequence_length\n",
        "        seq_end_idx = min(seq_start_idx + self.sequence_length + 1, self.data.shape[1])\n",
        "\n",
        "        data = self.data[batch_idx][seq_start_idx:seq_end_idx]\n",
        "        return data[:-1], data[1:]\n",
        "\n",
        "    def vocab_size(self):\n",
        "        return len(self.vocab)"
      ],
      "metadata": {
        "id": "4oqCu_egZIb1"
      },
      "execution_count": 10,
      "outputs": []
    },
    {
      "cell_type": "code",
      "source": [
        "def main():\n",
        "    SEQUENCE_LENGTH = 100\n",
        "    BATCH_SIZE = 256\n",
        "    FEATURE_SIZE = 1024\n",
        "    TEST_BATCH_SIZE = 256\n",
        "    EPOCHS = 25\n",
        "    LEARNING_RATE = 0.0005\n",
        "    WEIGHT_DECAY = 0.0005\n",
        "    USE_CUDA = True\n",
        "    PRINT_INTERVAL = 10\n",
        "    LEN = 20\n",
        "    VERSION = '0.1'\n",
        "    LOG_PATH = DATA_PATH + 'logs/' + VERSION + '/'\n",
        "\n",
        "    data_train = HarryPotterWordDataset(DATA_PATH + 'harry_potter_words_train.pkl', SEQUENCE_LENGTH, BATCH_SIZE)\n",
        "    data_test = HarryPotterWordDataset(DATA_PATH + 'harry_potter_words_test.pkl', SEQUENCE_LENGTH, TEST_BATCH_SIZE)\n",
        "    vocab = data_train.vocab\n",
        "\n",
        "    use_cuda = USE_CUDA and torch.cuda.is_available()\n",
        "\n",
        "    device = torch.device(\"cuda\" if use_cuda else \"cpu\")\n",
        "    print('Using device', device)\n",
        "    import multiprocessing\n",
        "    num_workers = multiprocessing.cpu_count()\n",
        "    print('num workers:', num_workers)\n",
        "\n",
        "    kwargs = {'num_workers': num_workers,\n",
        "              'pin_memory': True} if use_cuda else {}\n",
        "\n",
        "    train_loader = torch.utils.data.DataLoader(data_train, batch_size=BATCH_SIZE,\n",
        "                                               shuffle=False, **kwargs)\n",
        "    test_loader = torch.utils.data.DataLoader(data_test, batch_size=TEST_BATCH_SIZE,\n",
        "                                              shuffle=False, **kwargs)\n",
        "\n",
        "    model = HarryPotterNet(data_train.vocab_size(), FEATURE_SIZE).to(device)\n",
        "\n",
        "    # Adam is an optimizer like SGD but a bit fancier. It tends to work faster and better than SGD.\n",
        "    # We will talk more about different optimization methods in class.\n",
        "    optimizer = optim.Adam(model.parameters(), lr=LEARNING_RATE, weight_decay=WEIGHT_DECAY)\n",
        "    start_epoch = model.load_last_model(LOG_PATH)\n",
        "\n",
        "    train_losses, test_losses, test_accuracies = pt_util.read_log(LOG_PATH + 'log.pkl', ([], [], []))\n",
        "    test_loss, test_accuracy = test(model, device, test_loader)\n",
        "\n",
        "    test_losses.append((start_epoch, test_loss))\n",
        "    test_accuracies.append((start_epoch, test_accuracy))\n",
        "\n",
        "    try:\n",
        "        for epoch in range(start_epoch, EPOCHS + 1):\n",
        "            lr = LEARNING_RATE * np.power(0.25, (int(epoch / 6)))\n",
        "            train_loss = train(model, device, optimizer, train_loader, lr, epoch, PRINT_INTERVAL)\n",
        "            test_loss, test_accuracy = test(model, device, test_loader)\n",
        "            train_losses.append((epoch, train_loss))\n",
        "            test_losses.append((epoch, test_loss))\n",
        "            test_accuracies.append((epoch, test_accuracy))\n",
        "            pt_util.write_log(LOG_PATH + 'log.pkl', (train_losses, test_losses, test_accuracies))\n",
        "            model.save_best_model(test_accuracy, LOG_PATH + '%03d.pt' % epoch)\n",
        "            seed_words = 'Harry Potter, Voldemort, and Dumbledore walk into a bar. '.split()\n",
        "            generated_sentence = generate_language(model, device, seed_words, LEN, vocab, 'max')\n",
        "            print('generated max\\t\\t', generated_sentence)\n",
        "            for ii in range(10):\n",
        "                generated_sentence = generate_language(model, device, seed_words, LEN, vocab, 'sample')\n",
        "                print('generated sample\\t', generated_sentence)\n",
        "            generated_sentence = generate_language(model, device, seed_words, LEN, vocab, 'beam')\n",
        "            print('generated beam\\t\\t', generated_sentence)\n",
        "            print('')\n",
        "\n",
        "    except KeyboardInterrupt as ke:\n",
        "        print('Interrupted')\n",
        "    except:\n",
        "        import traceback\n",
        "        traceback.print_exc()\n",
        "    finally:\n",
        "        print('Saving final model')\n",
        "        model.save_model(LOG_PATH + '%03d.pt' % epoch, 0)\n",
        "        ep, val = zip(*train_losses)\n",
        "        pt_util.plot(ep, val, 'Train loss', 'Epoch', 'Error')\n",
        "        train_perplexity = np.exp(val)\n",
        "        pt_util.plot(ep, train_perplexity, 'Train perplexity', 'Epoch', 'Perplexity')\n",
        "        ep, val = zip(*test_losses)\n",
        "        pt_util.plot(ep, val, 'Test loss', 'Epoch', 'Error')\n",
        "        test_perplexity = np.exp(val)\n",
        "        pt_util.plot(ep, test_perplexity, 'Test perplexity', 'Epoch', 'Perplexity')\n",
        "        ep, val = zip(*test_accuracies)\n",
        "        pt_util.plot(ep, val, 'Test accuracy', 'Epoch', 'Error')\n",
        "        train_losses, test_losses, test_accuracies = pt_util.read_log(LOG_PATH + 'log.pkl', ([], [], []))\n",
        "        print('Final test accuracy: {}'.format(test_accuracies[-1][1]))\n",
        "        print('Final test perplexity: {}'.format(test_perplexity[-1]))\n",
        "        return model, vocab, device\n",
        "\n",
        "final_model, vocab, device = main()"
      ],
      "metadata": {
        "colab": {
          "base_uri": "https://localhost:8080/",
          "height": 1000
        },
        "id": "boETbyL_ZuLC",
        "outputId": "c7f00997-d64a-488f-cb91-7b56ed7dd4b6"
      },
      "execution_count": 14,
      "outputs": [
        {
          "output_type": "stream",
          "name": "stdout",
          "text": [
            "Using device cuda\n",
            "num workers: 2\n",
            "Restoring:\n",
            "encoder.weight -> \ttorch.Size([14403, 1024]) = 58MB\n",
            "gru.weight_ih_l0 -> \ttorch.Size([3072, 1024]) = 12MB\n",
            "gru.weight_hh_l0 -> \ttorch.Size([3072, 1024]) = 12MB\n",
            "gru.bias_ih_l0 -> \ttorch.Size([3072]) = 0MB\n",
            "gru.bias_hh_l0 -> \ttorch.Size([3072]) = 0MB\n",
            "decoder.weight -> \ttorch.Size([14403, 1024]) = 58MB\n",
            "decoder.bias -> \ttorch.Size([14403]) = 0MB\n",
            "\n",
            "Restored all variables\n",
            "No new variables\n",
            "Restored /content/logs/0.1/020.pt\n",
            "Input\thim more Inferi creeping towards him around the sides of  but he blinked and saw that  was  all was still, the darkness complete but for a few streetlamps and lit upper windows. 'We did it,  Harry whispered with  he suddenly realised that he had a searing stitch in his chest. 'We did it! We got the  Dumbledore staggered against him. For a moment, Harry thought that his  Apparition had thrown Dumbledore  then he saw his face, paler and  than ever in the distant light of a   are you all\n",
            "GT\tmore Inferi creeping towards him around the sides of  but he blinked and saw that  was  all was still, the darkness complete but for a few streetlamps and lit upper windows. 'We did it,  Harry whispered with  he suddenly realised that he had a searing stitch in his chest. 'We did it! We got the  Dumbledore staggered against him. For a moment, Harry thought that his  Apparition had thrown Dumbledore  then he saw his face, paler and  than ever in the distant light of a   are you all \n",
            "pred\ta than to  the to the  and a and Harry was and he the it was a it right, the   from  it a moment  and he a and He in not he  had to his he was  and his was been few  in his  and and not he  a  he  up the He a few Harry saw he his  were  been the was his he saw that  he and he He he  the   of the     in \n",
            "\n",
            "\n",
            "\n",
            "Test set: Average loss: 5.8783, Accuracy: 35327/230400 (15%)\n",
            "\n"
          ]
        },
        {
          "output_type": "stream",
          "name": "stderr",
          "text": [
            "  3%|▎         | 1/35 [00:01<00:37,  1.10s/it]"
          ]
        },
        {
          "output_type": "stream",
          "name": "stdout",
          "text": [
            "Train Epoch: 20 [0/8960 (0%)]\tLoss: 5.639272\n"
          ]
        },
        {
          "output_type": "stream",
          "name": "stderr",
          "text": [
            " 31%|███▏      | 11/35 [00:11<00:25,  1.06s/it]"
          ]
        },
        {
          "output_type": "stream",
          "name": "stdout",
          "text": [
            "Train Epoch: 20 [2560/8960 (29%)]\tLoss: 6.304696\n"
          ]
        },
        {
          "output_type": "stream",
          "name": "stderr",
          "text": [
            " 60%|██████    | 21/35 [00:22<00:15,  1.09s/it]"
          ]
        },
        {
          "output_type": "stream",
          "name": "stdout",
          "text": [
            "Train Epoch: 20 [5120/8960 (57%)]\tLoss: 5.888087\n"
          ]
        },
        {
          "output_type": "stream",
          "name": "stderr",
          "text": [
            " 89%|████████▊ | 31/35 [00:33<00:04,  1.10s/it]"
          ]
        },
        {
          "output_type": "stream",
          "name": "stdout",
          "text": [
            "Train Epoch: 20 [7680/8960 (86%)]\tLoss: 5.763630\n"
          ]
        },
        {
          "output_type": "stream",
          "name": "stderr",
          "text": [
            "100%|██████████| 35/35 [00:36<00:00,  1.06s/it]\n"
          ]
        },
        {
          "output_type": "stream",
          "name": "stdout",
          "text": [
            "Input\thim more Inferi creeping towards him around the sides of  but he blinked and saw that  was  all was still, the darkness complete but for a few streetlamps and lit upper windows. 'We did it,  Harry whispered with  he suddenly realised that he had a searing stitch in his chest. 'We did it! We got the  Dumbledore staggered against him. For a moment, Harry thought that his  Apparition had thrown Dumbledore  then he saw his face, paler and  than ever in the distant light of a   are you all\n",
            "GT\tmore Inferi creeping towards him around the sides of  but he blinked and saw that  was  all was still, the darkness complete but for a few streetlamps and lit upper windows. 'We did it,  Harry whispered with  he suddenly realised that he had a searing stitch in his chest. 'We did it! We got the  Dumbledore staggered against him. For a moment, Harry thought that his  Apparition had thrown Dumbledore  then he saw his face, paler and  than ever in the distant light of a   are you all \n",
            "pred\tin than to  the to the  of his his the was and  the the the the the the the   from  the the moment of and he the  He in not he  had to a he was on  his had been  He said his  He his not he were to  he had his the He a few he saw he he head were  been him had his he saw that eyes he and he He he  the   of the      to\n",
            "\n",
            "\n",
            "\n",
            "Test set: Average loss: 5.9049, Accuracy: 36018/230400 (16%)\n",
            "\n",
            "Saved /content/logs/0.1/020.pt\n",
            "\n",
            "generated max\t\t Harry Potter, Voldemort, and Dumbledore walk into a bar.  he said, his wand at the             \n",
            "generated sample\t Harry Potter, Voldemort, and Dumbledore walk into a bar. of  He was  his wand was still  his head was a very slowly from the end of\n",
            "generated sample\t Harry Potter, Voldemort, and Dumbledore walk into a bar. All of them was an  She was a   of a  not a large  of \n",
            "generated sample\t Harry Potter, Voldemort, and Dumbledore walk into a bar. \"The  he said,    looking      \"I don't think I know that they\n",
            "generated sample\t Harry Potter, Voldemort, and Dumbledore walk into a bar. perfectly  He could not think of what was going to be  to give him a bit of a\n",
            "generated sample\t Harry Potter, Voldemort, and Dumbledore walk into a bar. beneath the door of the   he had been  so that he had just been  for the\n",
            "generated sample\t Harry Potter, Voldemort, and Dumbledore walk into a bar. dim he said to his feet and he didn't look at the  He saw his face in the air\n",
            "generated sample\t Harry Potter, Voldemort, and Dumbledore walk into a bar.  He walked down to the  He was sitting on a dark  they had heard him a \n",
            "generated sample\t Harry Potter, Voldemort, and Dumbledore walk into a bar. voice, and he was standing with a small  THE   Harry looked up at the top of the\n",
            "generated sample\t Harry Potter, Voldemort, and Dumbledore walk into a bar. of    It was a  and a very long   It was a  and a\n",
            "generated sample\t Harry Potter, Voldemort, and Dumbledore walk into a bar. for the first time they had been  he had  their  -- they had been  by the\n",
            "generated beam\t\t Harry Potter, Voldemort, and Dumbledore walk into a bar. of                   \n",
            "\n"
          ]
        },
        {
          "output_type": "stream",
          "name": "stderr",
          "text": [
            "  3%|▎         | 1/35 [00:01<00:38,  1.13s/it]"
          ]
        },
        {
          "output_type": "stream",
          "name": "stdout",
          "text": [
            "Train Epoch: 21 [0/8960 (0%)]\tLoss: 5.607122\n"
          ]
        },
        {
          "output_type": "stream",
          "name": "stderr",
          "text": [
            " 31%|███▏      | 11/35 [00:11<00:25,  1.08s/it]"
          ]
        },
        {
          "output_type": "stream",
          "name": "stdout",
          "text": [
            "Train Epoch: 21 [2560/8960 (29%)]\tLoss: 5.657916\n"
          ]
        },
        {
          "output_type": "stream",
          "name": "stderr",
          "text": [
            " 60%|██████    | 21/35 [00:22<00:14,  1.06s/it]"
          ]
        },
        {
          "output_type": "stream",
          "name": "stdout",
          "text": [
            "Train Epoch: 21 [5120/8960 (57%)]\tLoss: 5.618582\n"
          ]
        },
        {
          "output_type": "stream",
          "name": "stderr",
          "text": [
            " 89%|████████▊ | 31/35 [00:32<00:04,  1.06s/it]"
          ]
        },
        {
          "output_type": "stream",
          "name": "stdout",
          "text": [
            "Train Epoch: 21 [7680/8960 (86%)]\tLoss: 5.627917\n"
          ]
        },
        {
          "output_type": "stream",
          "name": "stderr",
          "text": [
            "100%|██████████| 35/35 [00:36<00:00,  1.04s/it]\n"
          ]
        },
        {
          "output_type": "stream",
          "name": "stdout",
          "text": [
            "Input\thim more Inferi creeping towards him around the sides of  but he blinked and saw that  was  all was still, the darkness complete but for a few streetlamps and lit upper windows. 'We did it,  Harry whispered with  he suddenly realised that he had a searing stitch in his chest. 'We did it! We got the  Dumbledore staggered against him. For a moment, Harry thought that his  Apparition had thrown Dumbledore  then he saw his face, paler and  than ever in the distant light of a   are you all\n",
            "GT\tmore Inferi creeping towards him around the sides of  but he blinked and saw that  was  all was still, the darkness complete but for a few streetlamps and lit upper windows. 'We did it,  Harry whispered with  he suddenly realised that he had a searing stitch in his chest. 'We did it! We got the  Dumbledore staggered against him. For a moment, Harry thought that his  Apparition had thrown Dumbledore  then he saw his face, paler and  than ever in the distant light of a   are you all \n",
            "pred\ta than to  the to the  of the the Harry was and the the the were a the his a   from  he the moment  and the the  He in not he  had to his he was   the was been   said his    not he  a   had his the He a  Harry saw he the  were  been the had his he saw that eyes he and  He he  the   of the      to\n",
            "\n",
            "\n",
            "\n",
            "Test set: Average loss: 5.8265, Accuracy: 37146/230400 (16%)\n",
            "\n",
            "Saved /content/logs/0.1/021.pt\n",
            "\n",
            "generated max\t\t Harry Potter, Voldemort, and Dumbledore walk into a bar.  he said to the  and the  and the         \n",
            "generated sample\t Harry Potter, Voldemort, and Dumbledore walk into a bar. crawled he could have to tell him to the castle for the  I think the  said Harry, \n",
            "generated sample\t Harry Potter, Voldemort, and Dumbledore walk into a bar. big he could be      it for the first time he had never been in the\n",
            "generated sample\t Harry Potter, Voldemort, and Dumbledore walk into a bar. scowled. of     he had to admit up to the castle. He looked down at his Sirius\n",
            "generated sample\t Harry Potter, Voldemort, and Dumbledore walk into a bar. sudden  he said Harry. \"The  said Ron in a low voice. \"Well, what I'm sure you are \n",
            "generated sample\t Harry Potter, Voldemort, and Dumbledore walk into a bar. unicorn, in the  he had been  by an          \n",
            "generated sample\t Harry Potter, Voldemort, and Dumbledore walk into a bar. eye with a   said Harry. He was looking for him to find the   said Harry. He\n",
            "generated sample\t Harry Potter, Voldemort, and Dumbledore walk into a bar. coming from the  of the    and   the   a  and the \n",
            "generated sample\t Harry Potter, Voldemort, and Dumbledore walk into a bar. Dobby had done a good   that it was the  Harry had not been for a moment he\n",
            "generated sample\t Harry Potter, Voldemort, and Dumbledore walk into a bar. like a                  \n",
            "generated sample\t Harry Potter, Voldemort, and Dumbledore walk into a bar. bank. as he  his mouth had been   of  he had never been a second  he\n",
            "generated beam\t\t Harry Potter, Voldemort, and Dumbledore walk into a bar.  he said to the  and the  and the         \n",
            "\n"
          ]
        },
        {
          "output_type": "stream",
          "name": "stderr",
          "text": [
            "  3%|▎         | 1/35 [00:01<00:38,  1.12s/it]"
          ]
        },
        {
          "output_type": "stream",
          "name": "stdout",
          "text": [
            "Train Epoch: 22 [0/8960 (0%)]\tLoss: 5.549222\n"
          ]
        },
        {
          "output_type": "stream",
          "name": "stderr",
          "text": [
            " 31%|███▏      | 11/35 [00:11<00:25,  1.07s/it]"
          ]
        },
        {
          "output_type": "stream",
          "name": "stdout",
          "text": [
            "Train Epoch: 22 [2560/8960 (29%)]\tLoss: 5.615065\n"
          ]
        },
        {
          "output_type": "stream",
          "name": "stderr",
          "text": [
            " 60%|██████    | 21/35 [00:22<00:15,  1.07s/it]"
          ]
        },
        {
          "output_type": "stream",
          "name": "stdout",
          "text": [
            "Train Epoch: 22 [5120/8960 (57%)]\tLoss: 5.588655\n"
          ]
        },
        {
          "output_type": "stream",
          "name": "stderr",
          "text": [
            " 89%|████████▊ | 31/35 [00:33<00:04,  1.07s/it]"
          ]
        },
        {
          "output_type": "stream",
          "name": "stdout",
          "text": [
            "Train Epoch: 22 [7680/8960 (86%)]\tLoss: 5.601213\n"
          ]
        },
        {
          "output_type": "stream",
          "name": "stderr",
          "text": [
            "100%|██████████| 35/35 [00:36<00:00,  1.05s/it]\n"
          ]
        },
        {
          "output_type": "stream",
          "name": "stdout",
          "text": [
            "Input\thim more Inferi creeping towards him around the sides of  but he blinked and saw that  was  all was still, the darkness complete but for a few streetlamps and lit upper windows. 'We did it,  Harry whispered with  he suddenly realised that he had a searing stitch in his chest. 'We did it! We got the  Dumbledore staggered against him. For a moment, Harry thought that his  Apparition had thrown Dumbledore  then he saw his face, paler and  than ever in the distant light of a   are you all\n",
            "GT\tmore Inferi creeping towards him around the sides of  but he blinked and saw that  was  all was still, the darkness complete but for a few streetlamps and lit upper windows. 'We did it,  Harry whispered with  he suddenly realised that he had a searing stitch in his chest. 'We did it! We got the  Dumbledore staggered against him. For a moment, Harry thought that his  Apparition had thrown Dumbledore  then he saw his face, paler and  than ever in the distant light of a   are you all \n",
            "pred\ta  to  the to the  of the the the was and the the the were a said his a   from  it the moment  and the a  He in not he  had to his he was as  the was been   in his  He the not he  a  he had his the He a few Harry had he the  were  been the was his looked saw the  he and  He he  the   of the      \n",
            "\n",
            "\n",
            "\n",
            "Test set: Average loss: 5.8083, Accuracy: 37007/230400 (16%)\n",
            "\n",
            "generated max\t\t Harry Potter, Voldemort, and Dumbledore walk into a bar.                    \n",
            "generated sample\t Harry Potter, Voldemort, and Dumbledore walk into a bar. cage was  his wand was looking at Harry. He was not looking at the   as though he\n",
            "generated sample\t Harry Potter, Voldemort, and Dumbledore walk into a bar.  he didn't want to be able to see Hagrid would be up the  of his   but\n",
            "generated sample\t Harry Potter, Voldemort, and Dumbledore walk into a bar. read    and      the  A       \n",
            "generated sample\t Harry Potter, Voldemort, and Dumbledore walk into a bar. school  he could not tell you to the  he was sure he was only ever  he had\n",
            "generated sample\t Harry Potter, Voldemort, and Dumbledore walk into a bar. voice from the       and the         \n",
            "generated sample\t Harry Potter, Voldemort, and Dumbledore walk into a bar. crouched he said, looking at Harry and Hermione looked at each other and said Harry. He was very  He\n",
            "generated sample\t Harry Potter, Voldemort, and Dumbledore walk into a bar. everybody had been behind him and turned to the   and the   and the   \n",
            "generated sample\t Harry Potter, Voldemort, and Dumbledore walk into a bar. again.  \"What do you think I don't think about the Dark Lord you  Harry said. \"I saw Ron\n",
            "generated sample\t Harry Potter, Voldemort, and Dumbledore walk into a bar. connected with the   when the edge of the  of the   Voldemort had a few \n",
            "generated sample\t Harry Potter, Voldemort, and Dumbledore walk into a bar. \"you you been haven't been in the  he said Fudge \"I think you don't want to get up the\n",
            "generated beam\t\t Harry Potter, Voldemort, and Dumbledore walk into a bar.                    \n",
            "\n"
          ]
        },
        {
          "output_type": "stream",
          "name": "stderr",
          "text": [
            "  3%|▎         | 1/35 [00:01<00:38,  1.14s/it]"
          ]
        },
        {
          "output_type": "stream",
          "name": "stdout",
          "text": [
            "Train Epoch: 23 [0/8960 (0%)]\tLoss: 5.539219\n"
          ]
        },
        {
          "output_type": "stream",
          "name": "stderr",
          "text": [
            " 31%|███▏      | 11/35 [00:11<00:25,  1.08s/it]"
          ]
        },
        {
          "output_type": "stream",
          "name": "stdout",
          "text": [
            "Train Epoch: 23 [2560/8960 (29%)]\tLoss: 5.599030\n"
          ]
        },
        {
          "output_type": "stream",
          "name": "stderr",
          "text": [
            " 60%|██████    | 21/35 [00:22<00:14,  1.07s/it]"
          ]
        },
        {
          "output_type": "stream",
          "name": "stdout",
          "text": [
            "Train Epoch: 23 [5120/8960 (57%)]\tLoss: 5.572726\n"
          ]
        },
        {
          "output_type": "stream",
          "name": "stderr",
          "text": [
            " 89%|████████▊ | 31/35 [00:33<00:04,  1.07s/it]"
          ]
        },
        {
          "output_type": "stream",
          "name": "stdout",
          "text": [
            "Train Epoch: 23 [7680/8960 (86%)]\tLoss: 5.580440\n"
          ]
        },
        {
          "output_type": "stream",
          "name": "stderr",
          "text": [
            "100%|██████████| 35/35 [00:36<00:00,  1.05s/it]\n"
          ]
        },
        {
          "output_type": "stream",
          "name": "stdout",
          "text": [
            "Input\thim more Inferi creeping towards him around the sides of  but he blinked and saw that  was  all was still, the darkness complete but for a few streetlamps and lit upper windows. 'We did it,  Harry whispered with  he suddenly realised that he had a searing stitch in his chest. 'We did it! We got the  Dumbledore staggered against him. For a moment, Harry thought that his  Apparition had thrown Dumbledore  then he saw his face, paler and  than ever in the distant light of a   are you all\n",
            "GT\tmore Inferi creeping towards him around the sides of  but he blinked and saw that  was  all was still, the darkness complete but for a few streetlamps and lit upper windows. 'We did it,  Harry whispered with  he suddenly realised that he had a searing stitch in his chest. 'We did it! We got the  Dumbledore staggered against him. For a moment, Harry thought that his  Apparition had thrown Dumbledore  then he saw his face, paler and  than ever in the distant light of a   are you all \n",
            "pred\ta  to  the to the  of the and the was and the the they were a said his the   from  it the moment  and the a  He in not he  was to his he was as  his was been   in his  He and not he were to  he had his the He a few Harry had he the  was  been the was his he saw the  he and  He he  the   of the      \n",
            "\n",
            "\n",
            "\n",
            "Test set: Average loss: 5.7918, Accuracy: 37218/230400 (16%)\n",
            "\n",
            "Saved /content/logs/0.1/023.pt\n",
            "\n",
            "generated max\t\t Harry Potter, Voldemort, and Dumbledore walk into a bar.                    \n",
            "generated sample\t Harry Potter, Voldemort, and Dumbledore walk into a bar. \"Give the  he looked like the   and the   and the   \"We just like\n",
            "generated sample\t Harry Potter, Voldemort, and Dumbledore walk into a bar. lettering that the warlock had been  his   it had been  by his  and the \n",
            "generated sample\t Harry Potter, Voldemort, and Dumbledore walk into a bar.   he could not have to have any of the  He was wearing a large  and a\n",
            "generated sample\t Harry Potter, Voldemort, and Dumbledore walk into a bar. that he could not have been in the Quidditch night he had not been a bit of  said Hermione,\n",
            "generated sample\t Harry Potter, Voldemort, and Dumbledore walk into a bar. Malfoy and then he saw the name and he was it as though he had  his wooden  he\n",
            "generated sample\t Harry Potter, Voldemort, and Dumbledore walk into a bar. arrived at the end of the end of the   had been taken by the   of the\n",
            "generated sample\t Harry Potter, Voldemort, and Dumbledore walk into a bar.  the  The smile  was  her eyes looked as though he had been a very  she\n",
            "generated sample\t Harry Potter, Voldemort, and Dumbledore walk into a bar. maybe he did not want to go to the  . . . . .\" he said, his wand back\n",
            "generated sample\t Harry Potter, Voldemort, and Dumbledore walk into a bar. \"Go and  Harry said he and Ron had a large    it to the look of a\n",
            "generated sample\t Harry Potter, Voldemort, and Dumbledore walk into a bar.  He began to make up his hand and saw a hand  in the  eyes had a shock\n",
            "generated beam\t\t Harry Potter, Voldemort, and Dumbledore walk into a bar.                    \n",
            "\n"
          ]
        },
        {
          "output_type": "stream",
          "name": "stderr",
          "text": [
            "  3%|▎         | 1/35 [00:01<00:38,  1.14s/it]"
          ]
        },
        {
          "output_type": "stream",
          "name": "stdout",
          "text": [
            "Train Epoch: 24 [0/8960 (0%)]\tLoss: 5.527046\n"
          ]
        },
        {
          "output_type": "stream",
          "name": "stderr",
          "text": [
            " 31%|███▏      | 11/35 [00:11<00:25,  1.06s/it]"
          ]
        },
        {
          "output_type": "stream",
          "name": "stdout",
          "text": [
            "Train Epoch: 24 [2560/8960 (29%)]\tLoss: 5.581510\n"
          ]
        },
        {
          "output_type": "stream",
          "name": "stderr",
          "text": [
            " 60%|██████    | 21/35 [00:22<00:15,  1.08s/it]"
          ]
        },
        {
          "output_type": "stream",
          "name": "stdout",
          "text": [
            "Train Epoch: 24 [5120/8960 (57%)]\tLoss: 5.556294\n"
          ]
        },
        {
          "output_type": "stream",
          "name": "stderr",
          "text": [
            " 89%|████████▊ | 31/35 [00:33<00:04,  1.07s/it]"
          ]
        },
        {
          "output_type": "stream",
          "name": "stdout",
          "text": [
            "Train Epoch: 24 [7680/8960 (86%)]\tLoss: 5.564769\n"
          ]
        },
        {
          "output_type": "stream",
          "name": "stderr",
          "text": [
            "100%|██████████| 35/35 [00:36<00:00,  1.05s/it]\n"
          ]
        },
        {
          "output_type": "stream",
          "name": "stdout",
          "text": [
            "Input\thim more Inferi creeping towards him around the sides of  but he blinked and saw that  was  all was still, the darkness complete but for a few streetlamps and lit upper windows. 'We did it,  Harry whispered with  he suddenly realised that he had a searing stitch in his chest. 'We did it! We got the  Dumbledore staggered against him. For a moment, Harry thought that his  Apparition had thrown Dumbledore  then he saw his face, paler and  than ever in the distant light of a   are you all\n",
            "GT\tmore Inferi creeping towards him around the sides of  but he blinked and saw that  was  all was still, the darkness complete but for a few streetlamps and lit upper windows. 'We did it,  Harry whispered with  he suddenly realised that he had a searing stitch in his chest. 'We did it! We got the  Dumbledore staggered against him. For a moment, Harry thought that his  Apparition had thrown Dumbledore  then he saw his face, paler and  than ever in the distant light of a   are you all \n",
            "pred\ta  to  the to the  of the and Harry was and he the they were a said his the   from  it a moment  and a a  He in not he  had his his he was   his was been little  in his   in not he were to  he had his the He a few Harry had he he head had  been the was his looked saw that   and  He he  the   of the      \n",
            "\n",
            "\n",
            "\n",
            "Test set: Average loss: 5.7806, Accuracy: 36870/230400 (16%)\n",
            "\n",
            "generated max\t\t Harry Potter, Voldemort, and Dumbledore walk into a bar.                    \n",
            "generated sample\t Harry Potter, Voldemort, and Dumbledore walk into a bar.   Harry said, and he was quite  beaten to his  of the  . . . .\"\n",
            "generated sample\t Harry Potter, Voldemort, and Dumbledore walk into a bar. breaking them all over the  and  He was wearing a large of  and a very large \n",
            "generated sample\t Harry Potter, Voldemort, and Dumbledore walk into a bar. leaving Harry and Ron looked at each  Harry saw a large  as she had just been in the\n",
            "generated sample\t Harry Potter, Voldemort, and Dumbledore walk into a bar. smile  he could hear that Harry could see the  of  he had been a lot of \n",
            "generated sample\t Harry Potter, Voldemort, and Dumbledore walk into a bar.      said Professor McGonagall,            \n",
            "generated sample\t Harry Potter, Voldemort, and Dumbledore walk into a bar.  so that Harry could not have been the Dark Arts for the Department of Magical  and he had\n",
            "generated sample\t Harry Potter, Voldemort, and Dumbledore walk into a bar. Tournament that had been in two  in the last  said Harry     \"I don't need\n",
            "generated sample\t Harry Potter, Voldemort, and Dumbledore walk into a bar. watch.                   \n",
            "generated sample\t Harry Potter, Voldemort, and Dumbledore walk into a bar. box of     the  and  the  had       \n",
            "generated sample\t Harry Potter, Voldemort, and Dumbledore walk into a bar.     said Ron              \n",
            "generated beam\t\t Harry Potter, Voldemort, and Dumbledore walk into a bar.                    \n",
            "\n"
          ]
        },
        {
          "output_type": "stream",
          "name": "stderr",
          "text": [
            "  3%|▎         | 1/35 [00:01<00:39,  1.15s/it]"
          ]
        },
        {
          "output_type": "stream",
          "name": "stdout",
          "text": [
            "Train Epoch: 25 [0/8960 (0%)]\tLoss: 5.516789\n"
          ]
        },
        {
          "output_type": "stream",
          "name": "stderr",
          "text": [
            " 31%|███▏      | 11/35 [00:11<00:25,  1.08s/it]"
          ]
        },
        {
          "output_type": "stream",
          "name": "stdout",
          "text": [
            "Train Epoch: 25 [2560/8960 (29%)]\tLoss: 5.563789\n"
          ]
        },
        {
          "output_type": "stream",
          "name": "stderr",
          "text": [
            " 60%|██████    | 21/35 [00:22<00:14,  1.07s/it]"
          ]
        },
        {
          "output_type": "stream",
          "name": "stdout",
          "text": [
            "Train Epoch: 25 [5120/8960 (57%)]\tLoss: 5.541214\n"
          ]
        },
        {
          "output_type": "stream",
          "name": "stderr",
          "text": [
            " 89%|████████▊ | 31/35 [00:33<00:04,  1.07s/it]"
          ]
        },
        {
          "output_type": "stream",
          "name": "stdout",
          "text": [
            "Train Epoch: 25 [7680/8960 (86%)]\tLoss: 5.547823\n"
          ]
        },
        {
          "output_type": "stream",
          "name": "stderr",
          "text": [
            "100%|██████████| 35/35 [00:36<00:00,  1.05s/it]\n"
          ]
        },
        {
          "output_type": "stream",
          "name": "stdout",
          "text": [
            "Input\thim more Inferi creeping towards him around the sides of  but he blinked and saw that  was  all was still, the darkness complete but for a few streetlamps and lit upper windows. 'We did it,  Harry whispered with  he suddenly realised that he had a searing stitch in his chest. 'We did it! We got the  Dumbledore staggered against him. For a moment, Harry thought that his  Apparition had thrown Dumbledore  then he saw his face, paler and  than ever in the distant light of a   are you all\n",
            "GT\tmore Inferi creeping towards him around the sides of  but he blinked and saw that  was  all was still, the darkness complete but for a few streetlamps and lit upper windows. 'We did it,  Harry whispered with  he suddenly realised that he had a searing stitch in his chest. 'We did it! We got the  Dumbledore staggered against him. For a moment, Harry thought that his  Apparition had thrown Dumbledore  then he saw his face, paler and  than ever in the distant light of a   are you all \n",
            "pred\ta  to  the to the  of the and Harry was and he the they it a by over the   from  it a moment  and a a  He in not he he had to his on was  on his was been little  in his   in not he had a  he had his the He a few Harry had he he head had  been the was his looked saw that   and  He he  the   of the      to\n",
            "\n",
            "\n",
            "\n",
            "Test set: Average loss: 5.7670, Accuracy: 36800/230400 (16%)\n",
            "\n",
            "generated max\t\t Harry Potter, Voldemort, and Dumbledore walk into a bar.                    \n",
            "generated sample\t Harry Potter, Voldemort, and Dumbledore walk into a bar.  to the  that it would be being  He turned to his face and his head  he\n",
            "generated sample\t Harry Potter, Voldemort, and Dumbledore walk into a bar. morning with his wand and out of the  who had also a very good free of his face and\n",
            "generated sample\t Harry Potter, Voldemort, and Dumbledore walk into a bar. you will be able to make a joke  said Dumbledore, with a little  to his cloak and he\n",
            "generated sample\t Harry Potter, Voldemort, and Dumbledore walk into a bar. empty  he was looking at his  but Harry had never seen it from his  and he was\n",
            "generated sample\t Harry Potter, Voldemort, and Dumbledore walk into a bar. made a hand that Harry had the only to see Harry's way he was wearing a little  with \n",
            "generated sample\t Harry Potter, Voldemort, and Dumbledore walk into a bar.  the  he could see an old  he thought in his  . . . . then he\n",
            "generated sample\t Harry Potter, Voldemort, and Dumbledore walk into a bar. Dumbledore had been  for the first time in his pocket and he heard it for the first time in\n",
            "generated sample\t Harry Potter, Voldemort, and Dumbledore walk into a bar.   said Professor McGonagall  as she set off through the front of the corner and went to the\n",
            "generated sample\t Harry Potter, Voldemort, and Dumbledore walk into a bar. deep in his face was making a few of the  He looked around and saw that a little way\n",
            "generated sample\t Harry Potter, Voldemort, and Dumbledore walk into a bar.   the  he had been a lot of  and he had been sure he had been so\n",
            "generated beam\t\t Harry Potter, Voldemort, and Dumbledore walk into a bar.                    \n",
            "\n",
            "Saving final model\n",
            "Saved /content/logs/0.1/025.pt\n",
            "\n"
          ]
        },
        {
          "output_type": "display_data",
          "data": {
            "text/plain": [
              "<Figure size 1440x720 with 1 Axes>"
            ],
            "image/png": "[encoded data removed]"
          },
          "metadata": {
            "needs_background": "light"
          }
        },
        {
          "output_type": "display_data",
          "data": {
            "text/plain": [
              "<Figure size 1440x720 with 1 Axes>"
            ],
            "image/png": "[encoded data removed]"
          },
          "metadata": {
            "needs_background": "light"
          }
        },
        {
          "output_type": "display_data",
          "data": {
            "text/plain": [
              "<Figure size 1440x720 with 1 Axes>"
            ],
            "image/png": "[encoded data removed]"
          },
          "metadata": {
            "needs_background": "light"
          }
        },
        {
          "output_type": "display_data",
          "data": {
            "text/plain": [
              "<Figure size 1440x720 with 1 Axes>"
            ],
            "image/png": "[encoded data removed]"
          },
          "metadata": {
            "needs_background": "light"
          }
        },
        {
          "output_type": "display_data",
          "data": {
            "text/plain": [
              "<Figure size 1440x720 with 1 Axes>"
            ],
            "image/png": "[encoded data removed]"
          },
          "metadata": {
            "needs_background": "light"
          }
        },
        {
          "output_type": "stream",
          "name": "stdout",
          "text": [
            "Final test accuracy: 15.972222222222221\n",
            "Final test perplexity: 319.5617252260893\n"
          ]
        }
      ]
    },
    {
      "cell_type": "markdown",
      "metadata": {
        "id": "vWMlB2U3onZ0"
      },
      "source": [
        "#Part 9: Short answer questions\n",
        "Please answer these questions, and put the answers in a file called short_answer.pdf in your repository.\n",
        "\n",
        "\n",
        "1. Just like last time, provide plots for training error, test error, and test accuracy. Also provide a plot of your train and test perplexity per epoch.\n",
        "    - In class we defined perplexity as `2^(p*log_2(q))`, However the PyTorch cross entropy function uses the natural log. To compute perplexity directly from the cross entropy, you should use `e^p*ln(q)`.\n",
        "    - We encourage you to try multiple network modifications and hyperparameters, but you only need to provide plots for your best model. Please list the modifications and hyperparameters.    \n",
        "    \n",
        "2. What was your final test accuracy? What was your final test perplexity?\n",
        "3. What was your favorite sentence generated via each of the sampling methods? What was the prompt you gave to generate that sentence?\n",
        "4. Which sampling method seemed to generate the best results? Why do you think that is?\n",
        "5. For sampling and beam search, try multiple temperatures between 0 and 2. \n",
        "    - Which produces the best outputs? Best as in made the most sense, your favorite, or funniest, doesn't really matter how you decide.\n",
        "    - What does a temperature of 0 do? What does a temperature of 0<temp<1 do? What does a temperature of 1 do? What does a temperature of above 1 do? What would a negative temperature do (assuming the code allowed for negative temperature)?\n",
        "    \n",
        "Questions for each of the \"Other things\" sections. Only answer the questions corresponding to the ones you chose.\n",
        "\n",
        "1. New Corpus\n",
        "    1. What corpus did you choose? How many characters were in it?\n",
        "    2. What differences did you notice between the sentences generated with the new/vs old corpus.\n",
        "    3. Provide outputs for each sampling method on the new corpus (you can pick one temperature, but say what it was).\n",
        "\n",
        "1. New Architecture\n",
        "    1. What was your design? What did you try that didn't work well?\n",
        "    2. What was your lowest test perplexity? Provide training and testing plots.\n",
        "    3. Provide outputs for each sampling method on the new corpus (you can pick one temperature, but say what it was).\n",
        "\n",
        "1. LSTM\n",
        "    1. What new difficulties did you run into while training?\n",
        "    2. Were results better than the GRU? Provide training and testing plots.\n",
        "    3. Provide outputs for each sampling method on the new corpus (you can pick one temperature, but say what it was).\n",
        "\n",
        "1. Transformer\n",
        "    1. What new difficulties did you run into while training?\n",
        "    2. Were results better than the GRU? Provide training and testing plots.\n",
        "    3. Provide outputs for each sampling method on the new corpus (you can pick one temperature, but say what it was).\n",
        "    \n",
        "1. Student-forcing\n",
        "    1. What new difficulties did you run into while training?\n",
        "    2. Were the results better than with teacher-forcing?\n",
        "    3. Provide some outputs for each sampling method (you can pick one temperature, but say what it was).\n",
        "    \n",
        "1. Words\n",
        "    1. What new difficulties did you run into while training?\n",
        "    2. How large was your vocabulary?\n",
        "    3. Did you find that different batch size, sequence length, and feature size and other hyperparameters were needed? If so, what worked best for you?\n",
        "\n",
        "1. Random Dataloader\n",
        "    1. What new difficulties did you run into while training?\n",
        "    2. Were the results better than with the original dataloader?\n",
        "    3. Provide some outputs for each sampling method (you can pick one temperature, but say what it was). \n",
        "    \n",
        "1. Sentences\n",
        "    1. What new difficulties did you run into while training? What new difficulties did you run into while preprocessing?\n",
        "    2. Were the results better than with the original dataloader?\n",
        "    3. Provide some outputs for each sampling method (you can pick one temperature, but say what it was). \n",
        "\n",
        "\n",
        "    "
      ]
    }
  ],
  "metadata": {
    "accelerator": "GPU",
    "colab": {
      "provenance": [],
      "toc_visible": true
    },
    "kernelspec": {
      "display_name": "Python 3",
      "language": "python",
      "name": "python3"
    },
    "language_info": {
      "codemirror_mode": {
        "name": "ipython",
        "version": 3
      },
      "file_extension": ".py",
      "mimetype": "text/x-python",
      "name": "python",
      "nbconvert_exporter": "python",
      "pygments_lexer": "ipython3",
      "version": "3.7.3"
    }
  },
  "nbformat": 4,
  "nbformat_minor": 0
}